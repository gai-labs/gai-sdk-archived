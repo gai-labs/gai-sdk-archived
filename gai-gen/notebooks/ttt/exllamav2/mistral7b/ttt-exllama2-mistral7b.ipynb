{
 "cells": [
  {
   "cell_type": "markdown",
   "metadata": {},
   "source": [
    "Download Model"
   ]
  },
  {
   "cell_type": "code",
   "execution_count": null,
   "metadata": {},
   "outputs": [],
   "source": [
    "%%bash\n",
    "huggingface-cli download bartowski/Mistral-7B-Instruct-v0.3-exl2 \\\n",
    "    --revision 1a09a351a5fb5a356102bfca2d26507cdab11111 \\\n",
    "    --local-dir ~/gai/models/Mistral-7B-Instruct-v0.3-exl2 \\\n",
    "    --local-dir-use-symlinks False\n"
   ]
  },
  {
   "cell_type": "markdown",
   "metadata": {},
   "source": [
    "1. Generating"
   ]
  },
  {
   "cell_type": "code",
   "execution_count": 1,
   "metadata": {},
   "outputs": [
    {
     "name": "stderr",
     "output_type": "stream",
     "text": [
      "/home/roylai/.local/lib/python3.10/site-packages/tqdm/auto.py:21: TqdmWarning: IProgress not found. Please update jupyter and ipywidgets. See https://ipywidgets.readthedocs.io/en/stable/user_install.html\n",
      "  from .autonotebook import tqdm as notebook_tqdm\n",
      "2024-06-17 17:34:24 INFO gai.gen.ttt.ExLlamav2_TTT:\u001b[32mExLlama_TTT2.load: Loading model from /home/roylai/gai/models/Mistral-7B-Instruct-v0.3-exl2\u001b[0m\n",
      "2024-06-17 17:34:31 INFO gai.gen.ttt.ExLlamav2_TTT:\u001b[32mExLlama_TTT2.create:\n",
      "\tprompt=`<s>system: You are a helpful assistant that can generate short stories. You can generate a short story based on a prompt.\n",
      "user: Tell me a one paragraph short story.\n",
      "assistant:`\n",
      "\tschema=`None`\n",
      "\ttools=`None`\n",
      "\tprompt_format=`mistral`\u001b[0m\n",
      "2024-06-17 17:34:34 DEBUG gai.gen.ttt.ExLlamav2_TTT:\u001b[35mExLlama_TTT2._generating: content=In the quiet town of Meadowgrove, a young girl named Lily discovered a hidden library in the old oak tree behind her house. The books inside were ancient and filled with tales of magic and adventure. With each book she read, a new world opened up to her, allowing her to escape the mundane life of Meadowgrove. One day, she read a book about a dragon that needed help, and with the powers she had unknowingly obtained from the books\u001b[0m\n"
     ]
    },
    {
     "data": {
      "text/plain": [
       "ChatCompletion(id='chatcmpl-e02be677-a4de-49a3-9633-2797fd7a6f5c', choices=[Choice(finish_reason='stop', index=0, logprobs=None, message=ChatCompletionMessage(content='In the quiet town of Meadowgrove, a young girl named Lily discovered a hidden library in the old oak tree behind her house. The books inside were ancient and filled with tales of magic and adventure. With each book she read, a new world opened up to her, allowing her to escape the mundane life of Meadowgrove. One day, she read a book about a dragon that needed help, and with the powers she had unknowingly obtained from the books', role='assistant', function_call=None, tool_calls=None))], created=1718616874, model='ttt-exllama2-mistral7b', object='chat.completion', system_fingerprint=None, usage=CompletionUsage(completion_tokens=101, prompt_tokens=42, total_tokens=143))"
      ]
     },
     "execution_count": 1,
     "metadata": {},
     "output_type": "execute_result"
    }
   ],
   "source": [
    "from gai.gen.ttt.ExLlamav2_TTT import ExLlamav2_TTT\n",
    "config = {\n",
    "            \"model_name\": \"ttt-exllama2-mistral7b\",\n",
    "            \"type\": \"ttt\",\n",
    "            \"engine\": \"ExLlamaV2_TTT\",\n",
    "            \"model_path\": \"models/Mistral-7B-Instruct-v0.3-exl2\",\n",
    "            \"model_basename\": \"model\",\n",
    "            \"max_seq_len\": 8192,\n",
    "            \"prompt_format\": \"mistral\",\n",
    "            \"stop_conditions\": [\"<s>\",\"</s>\",\"user:\"],\n",
    "            \"hyperparameters\": {\n",
    "                \"temperature\": 0.85,\n",
    "                \"top_p\": 0.8,\n",
    "                \"top_k\": 50,\n",
    "                \"max_new_tokens\": 100,\n",
    "            },\n",
    "            \"no_flash_attn\":True,\n",
    "            \"seed\": None\n",
    "        }    \n",
    "gen = ExLlamav2_TTT(config)\n",
    "gen.load()\n",
    "response = gen.create(messages=[\n",
    "    {'role':'system','content':'You are a helpful assistant that can generate short stories. You can generate a short story based on a prompt.'},\n",
    "    {'role':'user','content':'Tell me a one paragraph short story.'},\n",
    "    {'role':'assistant','content':''}],\n",
    "    stream=False)\n",
    "gen.unload()\n",
    "response"
   ]
  },
  {
   "cell_type": "markdown",
   "metadata": {},
   "source": [
    "2. Streaming"
   ]
  },
  {
   "cell_type": "code",
   "execution_count": 2,
   "metadata": {},
   "outputs": [
    {
     "name": "stderr",
     "output_type": "stream",
     "text": [
      "2024-06-17 17:34:38 INFO gai.gen.ttt.ExLlamav2_TTT:\u001b[32mExLlama_TTT2.load: Loading model from /home/roylai/gai/models/Mistral-7B-Instruct-v0.3-exl2\u001b[0m\n",
      "2024-06-17 17:34:43 INFO gai.gen.ttt.ExLlamav2_TTT:\u001b[32mExLlama_TTT2.create:\n",
      "\tprompt=`<s>system: You are a helpful assistant that can generate short stories. You can generate a short story based on a prompt.\n",
      "user: Tell me a one paragraph short story.\n",
      "assistant:`\n",
      "\tschema=`None`\n",
      "\ttools=`None`\n",
      "\tprompt_format=`mistral`\u001b[0m\n"
     ]
    },
    {
     "name": "stdout",
     "output_type": "stream",
     "text": [
      "In the quiet town of Meadowgrove, a young girl named Lily discovered a hidden garden behind her grandmother's house. This secret sanctuary was filled with vibrant flowers, singing birds, and a small pond inhabited by playful fish. Every day, Lily would spend hours in this magical place, finding peace and inspiration amidst the beauty. One day, she found a peculiar, glowing stone that seemed to have appeared out of nowhere. As soon as she touched it, she felt a strange, tingling sensation. Suddenly, her eyes turned gold, and she could hear the whispers of the wind telling her secrets. From that day forth, Lily was no longer the ordinary girl from Meadowgrove; she was a girl with a secret, a girl who could hear the secrets of the wind.\n",
      "\n"
     ]
    }
   ],
   "source": [
    "from gai.gen.ttt.ExLlamav2_TTT import ExLlamav2_TTT\n",
    "config = {\n",
    "            \"model_name\": \"ttt-exllama2-mistral7b\",\n",
    "            \"type\": \"ttt\",\n",
    "            \"engine\": \"ExLlamaV2_TTT\",\n",
    "            \"model_path\": \"models/Mistral-7B-Instruct-v0.3-exl2\",\n",
    "            \"model_basename\": \"model\",\n",
    "            \"max_seq_len\": 8192,\n",
    "            \"prompt_format\": \"mistral\",\n",
    "            \"stop_conditions\": [\"<s>\",\"</s>\",\"user:\"],\n",
    "            \"hyperparameters\": {\n",
    "                \"temperature\": 0.85,\n",
    "                \"top_p\": 0.8,\n",
    "                \"top_k\": 50,\n",
    "                \"max_new_tokens\": 1000,\n",
    "            },\n",
    "            \"no_flash_attn\":True\n",
    "        }\n",
    "gen = ExLlamav2_TTT(config)\n",
    "gen.load()\n",
    "response = gen.create(messages=[\n",
    "    {'role':'system','content':'You are a helpful assistant that can generate short stories. You can generate a short story based on a prompt.'},\n",
    "    {'role':'user','content':'Tell me a one paragraph short story.'},\n",
    "    {'role':'assistant','content':''}],\n",
    "    stream=True)\n",
    "for chunk in response:\n",
    "    chunk=chunk.choices[0].delta.content\n",
    "    if chunk:\n",
    "        print(chunk, end='', flush=True)\n",
    "gen.unload()"
   ]
  },
  {
   "cell_type": "markdown",
   "metadata": {},
   "source": [
    "---\n",
    "## JSON Mode"
   ]
  },
  {
   "cell_type": "code",
   "execution_count": 3,
   "metadata": {},
   "outputs": [
    {
     "name": "stderr",
     "output_type": "stream",
     "text": [
      "2024-06-17 17:34:50 INFO gai.gen.ttt.ExLlamav2_TTT:\u001b[32mExLlama_TTT2.load: Loading model from /home/roylai/gai/models/Mistral-7B-Instruct-v0.3-exl2\u001b[0m\n",
      "2024-06-17 17:34:54 INFO gai.gen.ttt.ExLlamav2_TTT:\u001b[32mExLlama_TTT2.create:\n",
      "\tprompt=`<s>system: You will respond to the user's message based only on the following JSON schema {'properties': {'title': {'title': 'Title', 'type': 'string'}, 'summary': {'title': 'Summary', 'type': 'string'}, 'author': {'title': 'Author', 'type': 'string'}, 'published_year': {'title': 'Published Year', 'type': 'integer'}}, 'required': ['title', 'summary', 'author', 'published_year'], 'title': 'Book', 'type': 'object'}. Begin your response with a curly bracket '{' and end it with a curly bracket '}'.\n",
      "user: Foundation is a science fiction novel by American writer\n",
      "Isaac Asimov. It is the first published in his Foundation Trilogy (later\n",
      "expanded into the Foundation series). Foundation is a cycle of five\n",
      "interrelated short stories, first published as a single book by Gnome Press\n",
      "in 1951. Collectively they tell the early story of the Foundation,\n",
      "an institute founded by psychohistorian Hari Seldon to preserve the best\n",
      "of galactic civilization after the collapse of the Galactic Empire.\n",
      "\n",
      "assistant:`\n",
      "\tschema=`{'properties': {'title': {'title': 'Title', 'type': 'string'}, 'summary': {'title': 'Summary', 'type': 'string'}, 'author': {'title': 'Author', 'type': 'string'}, 'published_year': {'title': 'Published Year', 'type': 'integer'}}, 'required': ['title', 'summary', 'author', 'published_year'], 'title': 'Book', 'type': 'object'}`\n",
      "\ttools=`None`\n",
      "\tprompt_format=`mistral`\u001b[0m\n",
      "2024-06-17 17:34:58 DEBUG gai.gen.ttt.ExLlamav2_TTT:\u001b[35mExLlama_TTT2._generating: content={\n",
      "  \"title\": \"Foundation\",\n",
      "  \"summary\": \"Foundation is a science fiction novel by Isaac Asimov, the first published in his Foundation Trilogy. It is a cycle of five interrelated short stories that tell the early story of the Foundation, an institute founded by psychohistorian Hari Seldon to preserve the best of galactic civilization after the collapse of the Galactic Empire.\",\n",
      "  \"author\": \"Isaac Asimov\",\n",
      "  \"published_year\": 1951\n",
      "}\u001b[0m\n"
     ]
    },
    {
     "data": {
      "text/plain": [
       "ChatCompletion(id='chatcmpl-041452ff-f5a1-4c46-87b7-eb52a5bdf428', choices=[Choice(finish_reason='stop', index=0, logprobs=None, message=ChatCompletionMessage(content='{\\n  \"title\": \"Foundation\",\\n  \"summary\": \"Foundation is a science fiction novel by Isaac Asimov, the first published in his Foundation Trilogy. It is a cycle of five interrelated short stories that tell the early story of the Foundation, an institute founded by psychohistorian Hari Seldon to preserve the best of galactic civilization after the collapse of the Galactic Empire.\",\\n  \"author\": \"Isaac Asimov\",\\n  \"published_year\": 1951\\n}', role='assistant', function_call=None, tool_calls=None))], created=1718616898, model='ttt-exllama2-mistral7b', object='chat.completion', system_fingerprint=None, usage=CompletionUsage(completion_tokens=116, prompt_tokens=265, total_tokens=381))"
      ]
     },
     "execution_count": 3,
     "metadata": {},
     "output_type": "execute_result"
    }
   ],
   "source": [
    "from gai.gen.ttt.ExLlamav2_TTT import ExLlamav2_TTT\n",
    "config = {\n",
    "            \"model_name\": \"ttt-exllama2-mistral7b\",\n",
    "            \"type\": \"ttt\",\n",
    "            \"engine\": \"ExLlamaV2_TTT\",\n",
    "            \"model_path\": \"models/Mistral-7B-Instruct-v0.3-exl2\",\n",
    "            \"model_basename\": \"model\",\n",
    "            \"max_seq_len\": 8192,\n",
    "            \"prompt_format\": \"mistral\",\n",
    "            \"stop_conditions\": [\"<s>\",\"</s>\",\"user:\"],\n",
    "            \"hyperparameters\": {\n",
    "                \"temperature\": 0.85,\n",
    "                \"top_p\": 0.8,\n",
    "                \"top_k\": 50,\n",
    "                \"max_new_tokens\": 1000,\n",
    "            },\n",
    "            \"no_flash_attn\":True\n",
    "        }\n",
    "gen = ExLlamav2_TTT(config)\n",
    "gen.load()\n",
    "\n",
    "# Define Schema\n",
    "from pydantic import BaseModel\n",
    "class Book(BaseModel):\n",
    "    title: str\n",
    "    summary: str\n",
    "    author: str\n",
    "    published_year: int\n",
    "\n",
    "text = \"\"\"Foundation is a science fiction novel by American writer\n",
    "Isaac Asimov. It is the first published in his Foundation Trilogy (later\n",
    "expanded into the Foundation series). Foundation is a cycle of five\n",
    "interrelated short stories, first published as a single book by Gnome Press\n",
    "in 1951. Collectively they tell the early story of the Foundation,\n",
    "an institute founded by psychohistorian Hari Seldon to preserve the best\n",
    "of galactic civilization after the collapse of the Galactic Empire.\n",
    "\"\"\"\n",
    "response = gen.create(messages=[{'role':'user','content':text},{'role':'assistant','content':''}], \n",
    "    schema=Book.schema()\n",
    "    )\n",
    "gen.unload()\n",
    "response"
   ]
  },
  {
   "cell_type": "markdown",
   "metadata": {},
   "source": [
    "---\n",
    "## Function Calling"
   ]
  },
  {
   "cell_type": "code",
   "execution_count": 4,
   "metadata": {},
   "outputs": [
    {
     "name": "stderr",
     "output_type": "stream",
     "text": [
      "2024-06-17 17:36:00 INFO gai.gen.ttt.ExLlamav2_TTT:\u001b[32mExLlama_TTT2.load: Loading model from /home/roylai/gai/models/Mistral-7B-Instruct-v0.3-exl2\u001b[0m\n"
     ]
    },
    {
     "data": {
      "text/html": [
       "<font color=\"yellow\">Model decided to use tool: </font>"
      ],
      "text/plain": [
       "<IPython.core.display.HTML object>"
      ]
     },
     "metadata": {},
     "output_type": "display_data"
    },
    {
     "name": "stderr",
     "output_type": "stream",
     "text": [
      "2024-06-17 17:36:04 INFO gai.gen.ttt.ExLlamav2_TTT:\u001b[32mExLlama_TTT2.create:\n",
      "\tprompt=`<s>system: \n",
      "            1. Review the <tools> below and assess if any of them is suitable for responding to the user's message.\n",
      "\n",
      "                [{'type': 'function', 'function': {'name': 'google', 'description': \"The 'google' function is a powerful tool that allows the AI to gather external information from the internet using Google search. It can be invoked when the AI needs to answer a question or provide information that requires up-to-date, comprehensive, and diverse sources which are not inherently known by the AI. For instance, it can be used to find current date, current news, weather updates, latest sports scores, trending topics, specific facts, or even the current date and time. The usage of this tool should be considered when the user's query implies or explicitly requests recent or wide-ranging data, or when the AI's inherent knowledge base may not have the required or most current information. The 'search_query' parameter should be a concise and accurate representation of the information needed.\", 'parameters': {'type': 'object', 'properties': {'search_query': {'type': 'string', 'description': \"The search query to search google with. For example, to find the current date or time, use 'current date' or 'current time' respectively.\"}}, 'required': ['search_query']}}}]\n",
      "\n",
      "            2. If none of the tools are suitable, you can respond with a <text> response that looks like the following:\n",
      "                \n",
      "            {\n",
      "                \"function\": {\n",
      "                    \"name\": \"text\",\n",
      "                    \"arguments\": {\n",
      "                        \"text\": \"This is a text response.\"\n",
      "                    }\n",
      "                }\n",
      "            }\n",
      "            \n",
      "system: You will respond to the user's message based only on the following JSON schema {'type': 'object', 'properties': {'function': {'type': 'object', 'properties': {'name': {'type': 'string'}, 'arguments': {'type': 'object'}}, 'required': ['name', 'arguments']}}, 'required': ['function']}. Begin your response with a curly bracket '{' and end it with a curly bracket '}'.\n",
      "user: What time is it in Singapore right now?\n",
      "assistant:`\n",
      "\tschema=`{'type': 'object', 'properties': {'function': {'type': 'object', 'properties': {'name': {'type': 'string'}, 'arguments': {'type': 'object'}}, 'required': ['name', 'arguments']}}, 'required': ['function']}`\n",
      "\ttools=`[{'type': 'function', 'function': {'name': 'google', 'description': \"The 'google' function is a powerful tool that allows the AI to gather external information from the internet using Google search. It can be invoked when the AI needs to answer a question or provide information that requires up-to-date, comprehensive, and diverse sources which are not inherently known by the AI. For instance, it can be used to find current date, current news, weather updates, latest sports scores, trending topics, specific facts, or even the current date and time. The usage of this tool should be considered when the user's query implies or explicitly requests recent or wide-ranging data, or when the AI's inherent knowledge base may not have the required or most current information. The 'search_query' parameter should be a concise and accurate representation of the information needed.\", 'parameters': {'type': 'object', 'properties': {'search_query': {'type': 'string', 'description': \"The search query to search google with. For example, to find the current date or time, use 'current date' or 'current time' respectively.\"}}, 'required': ['search_query']}}}]`\n",
      "\tprompt_format=`mistral`\u001b[0m\n",
      "2024-06-17 17:36:07 DEBUG gai.gen.ttt.ExLlamav2_TTT:\u001b[35mExLlama_TTT2._generating: function_name=google function_arguments={\"search_query\": \"current time Singapore\"}\u001b[0m\n"
     ]
    },
    {
     "name": "stdout",
     "output_type": "stream",
     "text": [
      "ChatCompletion(id='chatcmpl-22de81b1-d3f4-4399-8a60-1d34a07166c3', choices=[Choice(finish_reason='tool_calls', index=0, logprobs=None, message=ChatCompletionMessage(content=None, role='assistant', function_call=None, tool_calls=[ChatCompletionMessageToolCall(id='call_0bb537ac-c420-4d4b-a8ac-ed84df500d5b', function=Function(arguments='{\"search_query\": \"current time Singapore\"}', name='google'), type='function')]))], created=1718616967, model='ttt-exllama2-mistral7b', object='chat.completion', system_fingerprint=None, usage=CompletionUsage(completion_tokens=43, prompt_tokens=488, total_tokens=531))\n"
     ]
    },
    {
     "data": {
      "text/html": [
       "<font color=\"yellow\">Model decided not to use tool: </font>"
      ],
      "text/plain": [
       "<IPython.core.display.HTML object>"
      ]
     },
     "metadata": {},
     "output_type": "display_data"
    },
    {
     "name": "stderr",
     "output_type": "stream",
     "text": [
      "2024-06-17 17:36:07 INFO gai.gen.ttt.ExLlamav2_TTT:\u001b[32mExLlama_TTT2.create:\n",
      "\tprompt=`<s>system: \n",
      "            1. Review the <tools> below and assess if any of them is suitable for responding to the user's message.\n",
      "\n",
      "                [{'type': 'function', 'function': {'name': 'google', 'description': \"The 'google' function is a powerful tool that allows the AI to gather external information from the internet using Google search. It can be invoked when the AI needs to answer a question or provide information that requires up-to-date, comprehensive, and diverse sources which are not inherently known by the AI. For instance, it can be used to find current date, current news, weather updates, latest sports scores, trending topics, specific facts, or even the current date and time. The usage of this tool should be considered when the user's query implies or explicitly requests recent or wide-ranging data, or when the AI's inherent knowledge base may not have the required or most current information. The 'search_query' parameter should be a concise and accurate representation of the information needed.\", 'parameters': {'type': 'object', 'properties': {'search_query': {'type': 'string', 'description': \"The search query to search google with. For example, to find the current date or time, use 'current date' or 'current time' respectively.\"}}, 'required': ['search_query']}}}]\n",
      "\n",
      "            2. If none of the tools are suitable, you can respond with a <text> response that looks like the following:\n",
      "                \n",
      "            {\n",
      "                \"function\": {\n",
      "                    \"name\": \"text\",\n",
      "                    \"arguments\": {\n",
      "                        \"text\": \"This is a text response.\"\n",
      "                    }\n",
      "                }\n",
      "            }\n",
      "            \n",
      "system: You will respond to the user's message based only on the following JSON schema {'type': 'object', 'properties': {'function': {'type': 'object', 'properties': {'name': {'type': 'string'}, 'arguments': {'type': 'object'}}, 'required': ['name', 'arguments']}}, 'required': ['function']}. Begin your response with a curly bracket '{' and end it with a curly bracket '}'.\n",
      "user: Tell me a one paragraph story.\n",
      "assistant:`\n",
      "\tschema=`{'type': 'object', 'properties': {'function': {'type': 'object', 'properties': {'name': {'type': 'string'}, 'arguments': {'type': 'object'}}, 'required': ['name', 'arguments']}}, 'required': ['function']}`\n",
      "\ttools=`[{'type': 'function', 'function': {'name': 'google', 'description': \"The 'google' function is a powerful tool that allows the AI to gather external information from the internet using Google search. It can be invoked when the AI needs to answer a question or provide information that requires up-to-date, comprehensive, and diverse sources which are not inherently known by the AI. For instance, it can be used to find current date, current news, weather updates, latest sports scores, trending topics, specific facts, or even the current date and time. The usage of this tool should be considered when the user's query implies or explicitly requests recent or wide-ranging data, or when the AI's inherent knowledge base may not have the required or most current information. The 'search_query' parameter should be a concise and accurate representation of the information needed.\", 'parameters': {'type': 'object', 'properties': {'search_query': {'type': 'string', 'description': \"The search query to search google with. For example, to find the current date or time, use 'current date' or 'current time' respectively.\"}}, 'required': ['search_query']}}}]`\n",
      "\tprompt_format=`mistral`\u001b[0m\n",
      "2024-06-17 17:36:47 DEBUG gai.gen.ttt.ExLlamav2_TTT:\u001b[35mExLlama_TTT2._generating: function_text=Once upon a time, in a land far, far away, there was a small village nestled between towering mountains. The villagers lived simple lives, farming the fertile soil and tending to their livestock. One day, a mysterious traveler arrived, seeking shelter for the night. The villagers welcomed him warmly, offering him food and a place to rest. As the night wore on, the traveler shared stories of his adventures, captivating the villagers with tales of magic and wonder. In the morning, the traveler thanked the villagers for their hospitality and continued on his journey. The villagers were left in awe, their simple lives enriched by the traveler's stories.\u001b[0m\n"
     ]
    },
    {
     "name": "stdout",
     "output_type": "stream",
     "text": [
      "ChatCompletion(id='chatcmpl-20150b5b-d1f4-4ba4-b243-53d586931295', choices=[Choice(finish_reason='stop', index=0, logprobs=None, message=ChatCompletionMessage(content=\"Once upon a time, in a land far, far away, there was a small village nestled between towering mountains. The villagers lived simple lives, farming the fertile soil and tending to their livestock. One day, a mysterious traveler arrived, seeking shelter for the night. The villagers welcomed him warmly, offering him food and a place to rest. As the night wore on, the traveler shared stories of his adventures, captivating the villagers with tales of magic and wonder. In the morning, the traveler thanked the villagers for their hospitality and continued on his journey. The villagers were left in awe, their simple lives enriched by the traveler's stories.\", role='assistant', function_call=None, tool_calls=None))], created=1718617007, model='ttt-exllama2-mistral7b', object='chat.completion', system_fingerprint=None, usage=CompletionUsage(completion_tokens=187, prompt_tokens=486, total_tokens=673))\n"
     ]
    }
   ],
   "source": [
    "from gai.gen.ttt.ExLlamav2_TTT import ExLlamav2_TTT\n",
    "config = {\n",
    "            \"model_name\": \"ttt-exllama2-mistral7b\",\n",
    "            \"type\": \"ttt\",\n",
    "            \"engine\": \"ExLlamaV2_TTT\",\n",
    "            \"model_path\": \"models/Mistral-7B-Instruct-v0.3-exl2\",\n",
    "            \"model_basename\": \"model\",\n",
    "            \"max_seq_len\": 8192,\n",
    "            \"prompt_format\": \"mistral\",\n",
    "            \"stop_conditions\": [\"<s>\",\"</s>\",\"user:\"],\n",
    "            \"hyperparameters\": {\n",
    "                \"temperature\": 0.85,\n",
    "                \"top_p\": 0.8,\n",
    "                \"top_k\": 50,\n",
    "                \"max_new_tokens\": 1000,\n",
    "            },\n",
    "            \"no_flash_attn\":True\n",
    "        }\n",
    "gen = ExLlamav2_TTT(config)\n",
    "gen.load()\n",
    "\n",
    "from gai.common.notebook import highlight\n",
    "tools = [\n",
    "    {\n",
    "        \"type\": \"function\",\n",
    "        \"function\": {\n",
    "            \"name\": \"google\",\n",
    "            \"description\": \"The 'google' function is a powerful tool that allows the AI to gather external information from the internet using Google search. It can be invoked when the AI needs to answer a question or provide information that requires up-to-date, comprehensive, and diverse sources which are not inherently known by the AI. For instance, it can be used to find current date, current news, weather updates, latest sports scores, trending topics, specific facts, or even the current date and time. The usage of this tool should be considered when the user's query implies or explicitly requests recent or wide-ranging data, or when the AI's inherent knowledge base may not have the required or most current information. The 'search_query' parameter should be a concise and accurate representation of the information needed.\",\n",
    "            \"parameters\": {\n",
    "                \"type\": \"object\",\n",
    "                \"properties\": {\n",
    "                    \"search_query\": {\n",
    "                        \"type\": \"string\",\n",
    "                        \"description\": \"The search query to search google with. For example, to find the current date or time, use 'current date' or 'current time' respectively.\"\n",
    "                    }\n",
    "                },\n",
    "                \"required\": [\"search_query\"]\n",
    "            }\n",
    "        }\n",
    "    }\n",
    "]\n",
    "highlight(\"Model decided to use tool: \")\n",
    "user_prompt = \"What time is it in Singapore right now?\"\n",
    "response = gen.create(\n",
    "    messages=[\n",
    "        {'role':'user','content':user_prompt},\n",
    "        {'role':'assistant','content':''}],\n",
    "    tools=tools,\n",
    "    stream=False,\n",
    "    max_new_tokens=200)\n",
    "print(response)\n",
    "\n",
    "highlight(\"Model decided not to use tool: \")\n",
    "user_prompt = \"Tell me a one paragraph story.\"\n",
    "response = gen.create(\n",
    "    messages=[\n",
    "        {'role':'user','content':user_prompt},\n",
    "        {'role':'assistant','content':''}],\n",
    "    tools=tools,\n",
    "    stream=False,\n",
    "    max_new_tokens=200)\n",
    "print(response)\n"
   ]
  }
 ],
 "metadata": {
  "kernelspec": {
   "display_name": "TTT",
   "language": "python",
   "name": "python3"
  },
  "language_info": {
   "codemirror_mode": {
    "name": "ipython",
    "version": 3
   },
   "file_extension": ".py",
   "mimetype": "text/x-python",
   "name": "python",
   "nbconvert_exporter": "python",
   "pygments_lexer": "ipython3",
   "version": "3.10.10"
  }
 },
 "nbformat": 4,
 "nbformat_minor": 2
}
