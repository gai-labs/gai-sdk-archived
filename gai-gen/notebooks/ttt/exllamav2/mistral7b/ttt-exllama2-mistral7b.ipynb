{
 "cells": [
  {
   "cell_type": "markdown",
   "metadata": {},
   "source": [
    "Download Model"
   ]
  },
  {
   "cell_type": "code",
   "execution_count": null,
   "metadata": {},
   "outputs": [],
   "source": [
    "%%bash\n",
    "huggingface-cli download bartowski/Mistral-7B-Instruct-v0.3-exl2 \\\n",
    "    --revision 1a09a351a5fb5a356102bfca2d26507cdab11111 \\\n",
    "    --local-dir ~/gai/models/Mistral-7B-Instruct-v0.3-exl2 \\\n",
    "    --local-dir-use-symlinks False\n"
   ]
  },
  {
   "cell_type": "markdown",
   "metadata": {},
   "source": [
    "1. Generating"
   ]
  },
  {
   "cell_type": "code",
   "execution_count": 1,
   "metadata": {},
   "outputs": [
    {
     "name": "stderr",
     "output_type": "stream",
     "text": [
      "2024-06-30 16:11:11 INFO gai.gen.ttt.ExLlamav2_TTT:\u001b[32mExLlama_TTT2.load: Loading model from /home/roylai/gai/models/Mistral-7B-Instruct-v0.3-exl2\u001b[0m\n",
      "2024-06-30 16:11:28 INFO gai.gen.ttt.ExLlamav2_TTT:\u001b[32mExLlama_TTT2.create:\n",
      "\tprompt=`<s>system: You are a helpful assistant that can generate short stories. You can generate a short story based on a prompt.\n",
      "user: Tell me a one paragraph short story.\n",
      "assistant:`\n",
      "\tschema=`None`\n",
      "\ttools=`None`\n",
      "\tprompt_format=`mistral`\u001b[0m\n",
      "2024-06-30 16:11:31 DEBUG gai.gen.ttt.ExLlamav2_TTT:\u001b[35mExLlama_TTT2._generating: content=In the quiet town of Meadowgrove, a curious child named Lily discovered an ancient map leading to a hidden treasure. With her best friend, Sam, she embarked on a thrilling adventure through the dense forest, navigating treacherous terrains and solving cryptic riddles. After days of relentless pursuit, they finally uncovered the treasure chest, filled with gold coins, precious gems, and mysterious artifacts. Their discovery brought joy and prosperity to\u001b[0m\n"
     ]
    },
    {
     "data": {
      "text/plain": [
       "ChatCompletion(id='chatcmpl-a0c7b347-c810-4b61-bdd8-e3bfd2331a0e', choices=[Choice(finish_reason='stop', index=0, logprobs=None, message=ChatCompletionMessage(content='In the quiet town of Meadowgrove, a curious child named Lily discovered an ancient map leading to a hidden treasure. With her best friend, Sam, she embarked on a thrilling adventure through the dense forest, navigating treacherous terrains and solving cryptic riddles. After days of relentless pursuit, they finally uncovered the treasure chest, filled with gold coins, precious gems, and mysterious artifacts. Their discovery brought joy and prosperity to', role='assistant', function_call=None, tool_calls=None))], created=1719735091, model='ttt-exllama2-mistral7b', object='chat.completion', system_fingerprint=None, usage=CompletionUsage(completion_tokens=101, prompt_tokens=42, total_tokens=143))"
      ]
     },
     "execution_count": 1,
     "metadata": {},
     "output_type": "execute_result"
    }
   ],
   "source": [
    "from gai.gen.ttt.ExLlamav2_TTT import ExLlamav2_TTT\n",
    "config = {\n",
    "            \"model_name\": \"ttt-exllama2-mistral7b\",\n",
    "            \"type\": \"ttt\",\n",
    "            \"engine\": \"ExLlamaV2_TTT\",\n",
    "            \"model_path\": \"models/Mistral-7B-Instruct-v0.3-exl2\",\n",
    "            \"model_basename\": \"model\",\n",
    "            \"max_seq_len\": 8192,\n",
    "            \"prompt_format\": \"mistral\",\n",
    "            \"stop_conditions\": [\"<s>\",\"</s>\",\"user:\"],\n",
    "            \"hyperparameters\": {\n",
    "                \"temperature\": 0.85,\n",
    "                \"top_p\": 0.8,\n",
    "                \"top_k\": 50,\n",
    "                \"max_new_tokens\": 100,\n",
    "            },\n",
    "            \"no_flash_attn\":True,\n",
    "            \"seed\": None\n",
    "        }    \n",
    "gen = ExLlamav2_TTT(config)\n",
    "gen.load()\n",
    "response = gen.create(messages=[\n",
    "    {'role':'system','content':'You are a helpful assistant that can generate short stories. You can generate a short story based on a prompt.'},\n",
    "    {'role':'user','content':'Tell me a one paragraph short story.'},\n",
    "    {'role':'assistant','content':''}],\n",
    "    stream=False)\n",
    "gen.unload()\n",
    "response"
   ]
  },
  {
   "cell_type": "markdown",
   "metadata": {},
   "source": [
    "2. Streaming"
   ]
  },
  {
   "cell_type": "code",
   "execution_count": 2,
   "metadata": {},
   "outputs": [
    {
     "name": "stderr",
     "output_type": "stream",
     "text": [
      "2024-06-30 16:11:42 INFO gai.gen.ttt.ExLlamav2_TTT:\u001b[32mExLlama_TTT2.load: Loading model from /home/roylai/gai/models/Mistral-7B-Instruct-v0.3-exl2\u001b[0m\n",
      "2024-06-30 16:11:47 INFO gai.gen.ttt.ExLlamav2_TTT:\u001b[32mExLlama_TTT2.create:\n",
      "\tprompt=`<s>system: You are a helpful assistant that can generate short stories. You can generate a short story based on a prompt.\n",
      "user: Tell me a one paragraph short story.\n",
      "assistant:`\n",
      "\tschema=`None`\n",
      "\ttools=`None`\n",
      "\tprompt_format=`mistral`\u001b[0m\n"
     ]
    },
    {
     "name": "stdout",
     "output_type": "stream",
     "text": [
      "In the quiet town of Meadowgrove, a peculiar blue butterfly was spotted fluttering through the streets. The townsfolk were astonished, as it was well-known that blue butterflies only lived in the enchanted forest at the edge of the world. The sighting was a mystery, but it brought joy and excitement to the town, reminding everyone that magic could still be found in the most unexpected places.\n",
      "\n"
     ]
    }
   ],
   "source": [
    "from gai.gen.ttt.ExLlamav2_TTT import ExLlamav2_TTT\n",
    "config = {\n",
    "            \"model_name\": \"ttt-exllama2-mistral7b\",\n",
    "            \"type\": \"ttt\",\n",
    "            \"engine\": \"ExLlamaV2_TTT\",\n",
    "            \"model_path\": \"models/Mistral-7B-Instruct-v0.3-exl2\",\n",
    "            \"model_basename\": \"model\",\n",
    "            \"max_seq_len\": 8192,\n",
    "            \"prompt_format\": \"mistral\",\n",
    "            \"stop_conditions\": [\"<s>\",\"</s>\",\"user:\"],\n",
    "            \"hyperparameters\": {\n",
    "                \"temperature\": 0.85,\n",
    "                \"top_p\": 0.8,\n",
    "                \"top_k\": 50,\n",
    "                \"max_new_tokens\": 1000,\n",
    "            },\n",
    "            \"no_flash_attn\":True\n",
    "        }\n",
    "gen = ExLlamav2_TTT(config)\n",
    "gen.load()\n",
    "response = gen.create(messages=[\n",
    "    {'role':'system','content':'You are a helpful assistant that can generate short stories. You can generate a short story based on a prompt.'},\n",
    "    {'role':'user','content':'Tell me a one paragraph short story.'},\n",
    "    {'role':'assistant','content':''}],\n",
    "    stream=True)\n",
    "for chunk in response:\n",
    "    chunk=chunk.choices[0].delta.content\n",
    "    if chunk:\n",
    "        print(chunk, end='', flush=True)\n",
    "gen.unload()"
   ]
  },
  {
   "cell_type": "markdown",
   "metadata": {},
   "source": [
    "---\n",
    "## JSON Mode"
   ]
  },
  {
   "cell_type": "code",
   "execution_count": 3,
   "metadata": {},
   "outputs": [
    {
     "name": "stderr",
     "output_type": "stream",
     "text": [
      "2024-06-30 16:12:14 INFO gai.gen.ttt.ExLlamav2_TTT:\u001b[32mExLlama_TTT2.load: Loading model from /home/roylai/gai/models/Mistral-7B-Instruct-v0.3-exl2\u001b[0m\n",
      "2024-06-30 16:12:18 INFO gai.gen.ttt.ExLlamav2_TTT:\u001b[32mExLlama_TTT2.create:\n",
      "\tprompt=`<s>system: Begin your response with an open curly brace. Your response must be parseable by this json schema:\n",
      "        ```jsonschema\n",
      "        {'properties': {'title': {'title': 'Title', 'type': 'string'}, 'summary': {'title': 'Summary', 'type': 'string'}, 'author': {'title': 'Author', 'type': 'string'}, 'published_year': {'title': 'Published Year', 'type': 'integer'}}, 'required': ['title', 'summary', 'author', 'published_year'], 'title': 'Book', 'type': 'object'}\n",
      "        ```\n",
      "user: Foundation is a science fiction novel by American writer\n",
      "Isaac Asimov. It is the first published in his Foundation Trilogy (later\n",
      "expanded into the Foundation series). Foundation is a cycle of five\n",
      "interrelated short stories, first published as a single book by Gnome Press\n",
      "in 1951. Collectively they tell the early story of the Foundation,\n",
      "an institute founded by psychohistorian Hari Seldon to preserve the best\n",
      "of galactic civilization after the collapse of the Galactic Empire.\n",
      "\n",
      "assistant:`\n",
      "\tschema=`{'properties': {'title': {'title': 'Title', 'type': 'string'}, 'summary': {'title': 'Summary', 'type': 'string'}, 'author': {'title': 'Author', 'type': 'string'}, 'published_year': {'title': 'Published Year', 'type': 'integer'}}, 'required': ['title', 'summary', 'author', 'published_year'], 'title': 'Book', 'type': 'object'}`\n",
      "\ttools=`None`\n",
      "\tprompt_format=`mistral`\u001b[0m\n",
      "2024-06-30 16:12:22 DEBUG gai.gen.ttt.ExLlamav2_TTT:\u001b[35mExLlama_TTT2._generating: content={\n",
      "  \"title\": \"Foundation\",\n",
      "  \"summary\": \"Foundation is a science fiction novel by Isaac Asimov, the first book in the Foundation Trilogy. It is a cycle of five interrelated short stories that tell the early story of the Foundation, an institute founded by psychohistorian Hari Seldon to preserve the best of galactic civilization after the collapse of the Galactic Empire.\",\n",
      "  \"author\": \"Isaac Asimov\",\n",
      "  \"published_year\": 1951\n",
      "}\u001b[0m\n"
     ]
    },
    {
     "data": {
      "text/plain": [
       "ChatCompletion(id='chatcmpl-e62fe2a0-d1ca-4cd6-8e5d-ed171c5a3d4f', choices=[Choice(finish_reason='stop', index=0, logprobs=None, message=ChatCompletionMessage(content='{\\n  \"title\": \"Foundation\",\\n  \"summary\": \"Foundation is a science fiction novel by Isaac Asimov, the first book in the Foundation Trilogy. It is a cycle of five interrelated short stories that tell the early story of the Foundation, an institute founded by psychohistorian Hari Seldon to preserve the best of galactic civilization after the collapse of the Galactic Empire.\",\\n  \"author\": \"Isaac Asimov\",\\n  \"published_year\": 1951\\n}', role='assistant', function_call=None, tool_calls=None))], created=1719735142, model='ttt-exllama2-mistral7b', object='chat.completion', system_fingerprint=None, usage=CompletionUsage(completion_tokens=116, prompt_tokens=257, total_tokens=373))"
      ]
     },
     "execution_count": 3,
     "metadata": {},
     "output_type": "execute_result"
    }
   ],
   "source": [
    "from gai.gen.ttt.ExLlamav2_TTT import ExLlamav2_TTT\n",
    "config = {\n",
    "            \"model_name\": \"ttt-exllama2-mistral7b\",\n",
    "            \"type\": \"ttt\",\n",
    "            \"engine\": \"ExLlamaV2_TTT\",\n",
    "            \"model_path\": \"models/Mistral-7B-Instruct-v0.3-exl2\",\n",
    "            \"model_basename\": \"model\",\n",
    "            \"max_seq_len\": 8192,\n",
    "            \"prompt_format\": \"mistral\",\n",
    "            \"stop_conditions\": [\"<s>\",\"</s>\",\"user:\"],\n",
    "            \"hyperparameters\": {\n",
    "                \"temperature\": 0.85,\n",
    "                \"top_p\": 0.8,\n",
    "                \"top_k\": 50,\n",
    "                \"max_new_tokens\": 1000,\n",
    "            },\n",
    "            \"no_flash_attn\":True\n",
    "        }\n",
    "gen = ExLlamav2_TTT(config)\n",
    "gen.load()\n",
    "\n",
    "# Define Schema\n",
    "from pydantic import BaseModel\n",
    "class Book(BaseModel):\n",
    "    title: str\n",
    "    summary: str\n",
    "    author: str\n",
    "    published_year: int\n",
    "\n",
    "text = \"\"\"Foundation is a science fiction novel by American writer\n",
    "Isaac Asimov. It is the first published in his Foundation Trilogy (later\n",
    "expanded into the Foundation series). Foundation is a cycle of five\n",
    "interrelated short stories, first published as a single book by Gnome Press\n",
    "in 1951. Collectively they tell the early story of the Foundation,\n",
    "an institute founded by psychohistorian Hari Seldon to preserve the best\n",
    "of galactic civilization after the collapse of the Galactic Empire.\n",
    "\"\"\"\n",
    "response = gen.create(messages=[{'role':'user','content':text},{'role':'assistant','content':''}], \n",
    "    schema=Book.schema()\n",
    "    )\n",
    "gen.unload()\n",
    "response"
   ]
  },
  {
   "cell_type": "markdown",
   "metadata": {},
   "source": [
    "---\n",
    "## Function Calling"
   ]
  },
  {
   "cell_type": "code",
   "execution_count": 4,
   "metadata": {},
   "outputs": [
    {
     "name": "stderr",
     "output_type": "stream",
     "text": [
      "2024-06-30 16:12:26 INFO gai.gen.ttt.ExLlamav2_TTT:\u001b[32mExLlama_TTT2.load: Loading model from /home/roylai/gai/models/Mistral-7B-Instruct-v0.3-exl2\u001b[0m\n"
     ]
    },
    {
     "data": {
      "text/html": [
       "<font color=\"yellow\">Model decided to use tool: </font>"
      ],
      "text/plain": [
       "<IPython.core.display.HTML object>"
      ]
     },
     "metadata": {},
     "output_type": "display_data"
    },
    {
     "name": "stderr",
     "output_type": "stream",
     "text": [
      "2024-06-30 16:12:31 INFO gai.gen.ttt.ExLlamav2_TTT:\u001b[32mExLlama_TTT2.create:\n",
      "\tprompt=`<s>system: \n",
      "            1. Review the <tools> below and assess if any of them is suitable for responding to the user's message.\n",
      "\n",
      "                [{'type': 'function', 'function': {'name': 'google', 'description': \"The 'google' function is a powerful tool that allows the AI to gather external information from the internet using Google search. It can be invoked when the AI needs to answer a question or provide information that requires up-to-date, comprehensive, and diverse sources which are not inherently known by the AI. For instance, it can be used to find current date, current news, weather updates, latest sports scores, trending topics, specific facts, or even the current date and time. The usage of this tool should be considered when the user's query implies or explicitly requests recent or wide-ranging data, or when the AI's inherent knowledge base may not have the required or most current information. The 'search_query' parameter should be a concise and accurate representation of the information needed.\", 'parameters': {'type': 'object', 'properties': {'search_query': {'type': 'string', 'description': \"The search query to search google with. For example, to find the current date or time, use 'current date' or 'current time' respectively.\"}}, 'required': ['search_query']}}}]\n",
      "\n",
      "            2. If none of the tools are suitable, you can respond with a <text> response that looks like the following:\n",
      "                \n",
      "            {\n",
      "                \"function\": {\n",
      "                    \"name\": \"text\",\n",
      "                    \"arguments\": {\n",
      "                        \"text\": \"This is a text response.\"\n",
      "                    }\n",
      "                }\n",
      "            }\n",
      "            \n",
      "system: Begin your response with an open curly brace. Your response must be parseable by this json schema:\n",
      "        ```jsonschema\n",
      "        {'type': 'object', 'properties': {'function': {'type': 'object', 'properties': {'name': {'type': 'string'}, 'arguments': {'type': 'object'}}, 'required': ['name', 'arguments']}}, 'required': ['function']}\n",
      "        ```\n",
      "user: What time is it in Singapore right now?\n",
      "assistant:`\n",
      "\tschema=`{'type': 'object', 'properties': {'function': {'type': 'object', 'properties': {'name': {'type': 'string'}, 'arguments': {'type': 'object'}}, 'required': ['name', 'arguments']}}, 'required': ['function']}`\n",
      "\ttools=`[{'type': 'function', 'function': {'name': 'google', 'description': \"The 'google' function is a powerful tool that allows the AI to gather external information from the internet using Google search. It can be invoked when the AI needs to answer a question or provide information that requires up-to-date, comprehensive, and diverse sources which are not inherently known by the AI. For instance, it can be used to find current date, current news, weather updates, latest sports scores, trending topics, specific facts, or even the current date and time. The usage of this tool should be considered when the user's query implies or explicitly requests recent or wide-ranging data, or when the AI's inherent knowledge base may not have the required or most current information. The 'search_query' parameter should be a concise and accurate representation of the information needed.\", 'parameters': {'type': 'object', 'properties': {'search_query': {'type': 'string', 'description': \"The search query to search google with. For example, to find the current date or time, use 'current date' or 'current time' respectively.\"}}, 'required': ['search_query']}}}]`\n",
      "\tprompt_format=`mistral`\u001b[0m\n",
      "2024-06-30 16:12:33 DEBUG gai.gen.ttt.ExLlamav2_TTT:\u001b[35mExLlama_TTT2._generating: function_name=google function_arguments={\"search_query\": \"current time in Singapore\"}\u001b[0m\n"
     ]
    },
    {
     "name": "stdout",
     "output_type": "stream",
     "text": [
      "ChatCompletion(id='chatcmpl-f05efde3-5c31-47e0-a82d-9ab71a4eae5b', choices=[Choice(finish_reason='tool_calls', index=0, logprobs=None, message=ChatCompletionMessage(content=None, role='assistant', function_call=None, tool_calls=[ChatCompletionMessageToolCall(id='call_b97be682-868f-461a-94ea-34f7d3d3b805', function=Function(arguments='{\"search_query\": \"current time in Singapore\"}', name='google'), type='function')]))], created=1719735153, model='ttt-exllama2-mistral7b', object='chat.completion', system_fingerprint=None, usage=CompletionUsage(completion_tokens=44, prompt_tokens=481, total_tokens=525))\n"
     ]
    },
    {
     "data": {
      "text/html": [
       "<font color=\"yellow\">Model decided not to use tool: </font>"
      ],
      "text/plain": [
       "<IPython.core.display.HTML object>"
      ]
     },
     "metadata": {},
     "output_type": "display_data"
    },
    {
     "name": "stderr",
     "output_type": "stream",
     "text": [
      "2024-06-30 16:12:33 INFO gai.gen.ttt.ExLlamav2_TTT:\u001b[32mExLlama_TTT2.create:\n",
      "\tprompt=`<s>system: \n",
      "            1. Review the <tools> below and assess if any of them is suitable for responding to the user's message.\n",
      "\n",
      "                [{'type': 'function', 'function': {'name': 'google', 'description': \"The 'google' function is a powerful tool that allows the AI to gather external information from the internet using Google search. It can be invoked when the AI needs to answer a question or provide information that requires up-to-date, comprehensive, and diverse sources which are not inherently known by the AI. For instance, it can be used to find current date, current news, weather updates, latest sports scores, trending topics, specific facts, or even the current date and time. The usage of this tool should be considered when the user's query implies or explicitly requests recent or wide-ranging data, or when the AI's inherent knowledge base may not have the required or most current information. The 'search_query' parameter should be a concise and accurate representation of the information needed.\", 'parameters': {'type': 'object', 'properties': {'search_query': {'type': 'string', 'description': \"The search query to search google with. For example, to find the current date or time, use 'current date' or 'current time' respectively.\"}}, 'required': ['search_query']}}}]\n",
      "\n",
      "            2. If none of the tools are suitable, you can respond with a <text> response that looks like the following:\n",
      "                \n",
      "            {\n",
      "                \"function\": {\n",
      "                    \"name\": \"text\",\n",
      "                    \"arguments\": {\n",
      "                        \"text\": \"This is a text response.\"\n",
      "                    }\n",
      "                }\n",
      "            }\n",
      "            \n",
      "system: Begin your response with an open curly brace. Your response must be parseable by this json schema:\n",
      "        ```jsonschema\n",
      "        {'type': 'object', 'properties': {'function': {'type': 'object', 'properties': {'name': {'type': 'string'}, 'arguments': {'type': 'object'}}, 'required': ['name', 'arguments']}}, 'required': ['function']}\n",
      "        ```\n",
      "user: Tell me a one paragraph story.\n",
      "assistant:`\n",
      "\tschema=`{'type': 'object', 'properties': {'function': {'type': 'object', 'properties': {'name': {'type': 'string'}, 'arguments': {'type': 'object'}}, 'required': ['name', 'arguments']}}, 'required': ['function']}`\n",
      "\ttools=`[{'type': 'function', 'function': {'name': 'google', 'description': \"The 'google' function is a powerful tool that allows the AI to gather external information from the internet using Google search. It can be invoked when the AI needs to answer a question or provide information that requires up-to-date, comprehensive, and diverse sources which are not inherently known by the AI. For instance, it can be used to find current date, current news, weather updates, latest sports scores, trending topics, specific facts, or even the current date and time. The usage of this tool should be considered when the user's query implies or explicitly requests recent or wide-ranging data, or when the AI's inherent knowledge base may not have the required or most current information. The 'search_query' parameter should be a concise and accurate representation of the information needed.\", 'parameters': {'type': 'object', 'properties': {'search_query': {'type': 'string', 'description': \"The search query to search google with. For example, to find the current date or time, use 'current date' or 'current time' respectively.\"}}, 'required': ['search_query']}}}]`\n",
      "\tprompt_format=`mistral`\u001b[0m\n",
      "2024-06-30 16:12:56 DEBUG gai.gen.ttt.ExLlamav2_TTT:\u001b[35mExLlama_TTT2._generating: function_text=Once upon a time, in a faraway land, there lived a young girl named Lily. She was known for her radiant smile and her kind heart. One day, while wandering through the forest, she stumbled upon a magical stone. The stone glowed with an ethereal light, and as she picked it up, she felt a surge of energy coursing through her veins. From that day on, Lily could speak to animals and understand their language. She used this gift to help the creatures of the forest, earning their respect and admiration. And so, Lily became the guardian of the forest, living happily ever after.\u001b[0m\n"
     ]
    },
    {
     "name": "stdout",
     "output_type": "stream",
     "text": [
      "ChatCompletion(id='chatcmpl-a12da378-3216-4e1c-952a-1ca155d4e182', choices=[Choice(finish_reason='stop', index=0, logprobs=None, message=ChatCompletionMessage(content='Once upon a time, in a faraway land, there lived a young girl named Lily. She was known for her radiant smile and her kind heart. One day, while wandering through the forest, she stumbled upon a magical stone. The stone glowed with an ethereal light, and as she picked it up, she felt a surge of energy coursing through her veins. From that day on, Lily could speak to animals and understand their language. She used this gift to help the creatures of the forest, earning their respect and admiration. And so, Lily became the guardian of the forest, living happily ever after.', role='assistant', function_call=None, tool_calls=None))], created=1719735176, model='ttt-exllama2-mistral7b', object='chat.completion', system_fingerprint=None, usage=CompletionUsage(completion_tokens=167, prompt_tokens=479, total_tokens=646))\n"
     ]
    }
   ],
   "source": [
    "from gai.gen.ttt.ExLlamav2_TTT import ExLlamav2_TTT\n",
    "config = {\n",
    "            \"model_name\": \"ttt-exllama2-mistral7b\",\n",
    "            \"type\": \"ttt\",\n",
    "            \"engine\": \"ExLlamaV2_TTT\",\n",
    "            \"model_path\": \"models/Mistral-7B-Instruct-v0.3-exl2\",\n",
    "            \"model_basename\": \"model\",\n",
    "            \"max_seq_len\": 8192,\n",
    "            \"prompt_format\": \"mistral\",\n",
    "            \"stop_conditions\": [\"<s>\",\"</s>\",\"user:\"],\n",
    "            \"hyperparameters\": {\n",
    "                \"temperature\": 0.85,\n",
    "                \"top_p\": 0.8,\n",
    "                \"top_k\": 50,\n",
    "                \"max_new_tokens\": 1000,\n",
    "            },\n",
    "            \"no_flash_attn\":True\n",
    "        }\n",
    "gen = ExLlamav2_TTT(config)\n",
    "gen.load()\n",
    "\n",
    "from gai_common.notebook import highlight\n",
    "tools = [\n",
    "    {\n",
    "        \"type\": \"function\",\n",
    "        \"function\": {\n",
    "            \"name\": \"google\",\n",
    "            \"description\": \"The 'google' function is a powerful tool that allows the AI to gather external information from the internet using Google search. It can be invoked when the AI needs to answer a question or provide information that requires up-to-date, comprehensive, and diverse sources which are not inherently known by the AI. For instance, it can be used to find current date, current news, weather updates, latest sports scores, trending topics, specific facts, or even the current date and time. The usage of this tool should be considered when the user's query implies or explicitly requests recent or wide-ranging data, or when the AI's inherent knowledge base may not have the required or most current information. The 'search_query' parameter should be a concise and accurate representation of the information needed.\",\n",
    "            \"parameters\": {\n",
    "                \"type\": \"object\",\n",
    "                \"properties\": {\n",
    "                    \"search_query\": {\n",
    "                        \"type\": \"string\",\n",
    "                        \"description\": \"The search query to search google with. For example, to find the current date or time, use 'current date' or 'current time' respectively.\"\n",
    "                    }\n",
    "                },\n",
    "                \"required\": [\"search_query\"]\n",
    "            }\n",
    "        }\n",
    "    }\n",
    "]\n",
    "highlight(\"Model decided to use tool: \")\n",
    "user_prompt = \"What time is it in Singapore right now?\"\n",
    "response = gen.create(\n",
    "    messages=[\n",
    "        {'role':'user','content':user_prompt},\n",
    "        {'role':'assistant','content':''}],\n",
    "    tools=tools,\n",
    "    stream=False,\n",
    "    max_new_tokens=200)\n",
    "print(response)\n",
    "\n",
    "highlight(\"Model decided not to use tool: \")\n",
    "user_prompt = \"Tell me a one paragraph story.\"\n",
    "response = gen.create(\n",
    "    messages=[\n",
    "        {'role':'user','content':user_prompt},\n",
    "        {'role':'assistant','content':''}],\n",
    "    tools=tools,\n",
    "    stream=False,\n",
    "    max_new_tokens=200)\n",
    "print(response)\n"
   ]
  }
 ],
 "metadata": {
  "kernelspec": {
   "display_name": "TTT",
   "language": "python",
   "name": "python3"
  },
  "language_info": {
   "codemirror_mode": {
    "name": "ipython",
    "version": 3
   },
   "file_extension": ".py",
   "mimetype": "text/x-python",
   "name": "python",
   "nbconvert_exporter": "python",
   "pygments_lexer": "ipython3",
   "version": "3.10.10"
  }
 },
 "nbformat": 4,
 "nbformat_minor": 2
}
