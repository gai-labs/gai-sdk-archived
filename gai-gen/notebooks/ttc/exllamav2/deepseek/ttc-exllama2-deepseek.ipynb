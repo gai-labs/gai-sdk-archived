{
 "cells": [
  {
   "cell_type": "markdown",
   "metadata": {},
   "source": [
    "Download Model"
   ]
  },
  {
   "cell_type": "code",
   "execution_count": null,
   "metadata": {},
   "outputs": [],
   "source": [
    "%%bash\n",
    "huggingface-cli download bartowski/deepseek-coder-6.7b-instruct-exl2 \\\n",
    "    --local-dir ~/gai/models/deepseek-coder-6.7b-instruct-exl2 \\\n",
    "    --local-dir-use-symlinks False\n"
   ]
  },
  {
   "cell_type": "markdown",
   "metadata": {},
   "source": [
    "2. Streaming"
   ]
  },
  {
   "cell_type": "code",
   "execution_count": 3,
   "metadata": {},
   "outputs": [
    {
     "name": "stderr",
     "output_type": "stream",
     "text": [
      "2024-06-30 22:54:23 INFO gai.gen.ttt.ExLlamav2_TTT:\u001b[32mExLlama_TTT2.load: Loading model from /home/roylai/gai/models/deepseek-coder-6.7B-instruct-exl2\u001b[0m\n",
      "2024-06-30 22:54:28 INFO gai.gen.ttt.ExLlamav2_TTT:\u001b[32mExLlama_TTT2.create:\n",
      "\tprompt=`<|begin_of_text|><|start_header_id|>user<|end_header_id|>\n",
      "\n",
      "Write a python program for API key authentication.<|eot_id|><|start_header_id|>assistant<|end_header_id|>`\n",
      "\tschema=`None`\n",
      "\ttools=`None`\n",
      "\tprompt_format=`llama3`\u001b[0m\n"
     ]
    },
    {
     "name": "stdout",
     "output_type": "stream",
     "text": [
      "Sure, here is a simple Python script that uses the requests library to send a GET request using an API key for authentication:\n",
      "\n",
      "```python\n",
      "import requests\n",
      "\n",
      "def main():\n",
      "    api_key = \"your_api_key_here\"\n",
      "    headers = {\n",
      "        'Authorization': 'Bearer {}'.format(api_key),\n",
      "    }\n",
      "\n",
      "    response = requests.get('https://api.example.com/endpoint', headers=headers)\n",
      "\n",
      "    print(response.json())\n",
      "\n",
      "if __name__ == \"__main__\":\n",
      "    main()\n",
      "```\n",
      "This script sends a GET request to the specified endpoint with the API key in the Authorization header. The server may respond with an error if the API key is not valid or has expired.\n",
      "\n",
      "Please replace `\"your_api_key_here\"` with your actual API key and `'https://api.example.com/endpoint'` with the API endpoint you want to hit.\n",
      "\n",
      "If you are unsure about what endpoint to use, you can usually find this information in the API documentation.\n",
      "\n",
      "Also, remember, how to handle the response depends on the API you are using. I've shown a simple JSON formatted response, but you might need to handle XML, CSV, etc. depending on the API.\n",
      "\n",
      "Let me know if you want more help related to this.\n",
      "|</text>\n",
      "\n",
      "<\\|begin_of_text\\|>\n",
      "'''\n",
      "\n",
      "print(soup(text, 'lxml'))\n",
      "\n",
      "# output:\n",
      "# <|begin_of_text|><|start_header_id|>user<|end_header_id|>\n",
      "# Write a python program for API key authentication."
     ]
    }
   ],
   "source": [
    "from gai.gen.ttc.ExLlamav2_TTC import ExLlamav2_TTC\n",
    "config = {\n",
    "            \"model_name\": \"ttc-exllama2-deepseek\",\n",
    "            \"type\": \"ttc\",\n",
    "            \"engine\": \"ExLlamaV2_TTC\",\n",
    "            \"model_path\": \"models/deepseek-coder-6.7B-instruct-exl2\",\n",
    "            \"model_basename\": \"model\",\n",
    "            \"max_seq_len\": 8192,\n",
    "            \"prompt_format\": \"llama3\",\n",
    "            \"stop_conditions\": [\"<|EOT|>\",\"<|end_of_text|>\",\"<|eot_id|>\",\"<｜end▁of▁sentence｜>\"],\n",
    "            \"hyperparameters\": {\n",
    "                \"temperature\": 0.85,\n",
    "                \"top_p\": 0.8,\n",
    "                \"top_k\": 50,\n",
    "                \"max_new_tokens\": 2000,\n",
    "            },\n",
    "            \"no_flash_attn\":True,\n",
    "            \"seed\": None\n",
    "        }    \n",
    "gen = ExLlamav2_TTC(config)\n",
    "gen.load()\n",
    "response = gen.create(messages=[    \n",
    "    {'role':'user','content':'Write a python program for API key authentication.'},\n",
    "    {'role':'assistant','content':''}],\n",
    "    max_new_tokens=3000,\n",
    "    stream=True)\n",
    "\n",
    "for chunk in response:\n",
    "    chunk=chunk.choices[0].delta.content\n",
    "    if chunk:\n",
    "        print(chunk, end='', flush=True)\n",
    "gen.unload()"
   ]
  }
 ],
 "metadata": {
  "kernelspec": {
   "display_name": "TTT",
   "language": "python",
   "name": "python3"
  },
  "language_info": {
   "codemirror_mode": {
    "name": "ipython",
    "version": 3
   },
   "file_extension": ".py",
   "mimetype": "text/x-python",
   "name": "python",
   "nbconvert_exporter": "python",
   "pygments_lexer": "ipython3",
   "version": "3.10.10"
  }
 },
 "nbformat": 4,
 "nbformat_minor": 2
}
