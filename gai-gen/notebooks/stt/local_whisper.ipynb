{
 "cells": [
  {
   "cell_type": "code",
   "execution_count": 1,
   "metadata": {},
   "outputs": [
    {
     "name": "stderr",
     "output_type": "stream",
     "text": [
      "/home/roylai/.local/lib/python3.10/site-packages/tqdm/auto.py:21: TqdmWarning: IProgress not found. Please update jupyter and ipywidgets. See https://ipywidgets.readthedocs.io/en/stable/user_install.html\n",
      "  from .autonotebook import tqdm as notebook_tqdm\n",
      "2024-06-30 20:17:16 INFO gai.gen.stt.LocalWhisper_STT:\u001b[32mLoading model...\u001b[0m\n",
      "\u001b[33mSpecial tokens have been added in the vocabulary, make sure the associated word embeddings are fine-tuned or trained.\u001b[0m\n"
     ]
    },
    {
     "data": {
      "text/plain": [
       "{'text': ' Today is a wonderful day to build something people love.',\n",
       " 'chunks': [{'timestamp': (0.0, 3.14),\n",
       "   'text': ' Today is a wonderful day to build something people love.'}]}"
      ]
     },
     "execution_count": 1,
     "metadata": {},
     "output_type": "execute_result"
    }
   ],
   "source": [
    "## Whisper STT\n",
    "import os\n",
    "from gai.gen.stt.LocalWhisper_STT import LocalWhisper_STT\n",
    "config={\n",
    "            \"type\": \"stt\",\n",
    "            \"engine\": \"LocalWhisper_STT\",\n",
    "            \"model_name\": \"OpenAI Whisper v3\",\n",
    "            \"model_path\": \"models/whisper-large-v3\",\n",
    "            \"model_basename\": \"\",\n",
    "            \"max_seq_len\": 128,\n",
    "            \"stopping_words\": [],\n",
    "            \"hyperparameters\": {\n",
    "                \"chunk_length_s\": 30,\n",
    "                \"batch_size\": 16,\n",
    "                \"max_new_tokens\": 128\n",
    "            }\n",
    "        }\n",
    "stt = LocalWhisper_STT(config)\n",
    "from pathlib import Path\n",
    "response = stt.create(file=Path(\"./today-is-a-wonderful-day.wav\"))\n",
    "response"
   ]
  }
 ],
 "metadata": {
  "kernelspec": {
   "display_name": "TTS",
   "language": "python",
   "name": "python3"
  },
  "language_info": {
   "codemirror_mode": {
    "name": "ipython",
    "version": 3
   },
   "file_extension": ".py",
   "mimetype": "text/x-python",
   "name": "python",
   "nbconvert_exporter": "python",
   "pygments_lexer": "ipython3",
   "version": "3.10.10"
  }
 },
 "nbformat": 4,
 "nbformat_minor": 2
}
