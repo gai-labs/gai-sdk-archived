{
 "cells": [
  {
   "cell_type": "markdown",
   "metadata": {},
   "source": [
    "Download Model"
   ]
  },
  {
   "cell_type": "markdown",
   "metadata": {},
   "source": [
    "1. Streaming"
   ]
  },
  {
   "cell_type": "code",
   "execution_count": null,
   "metadata": {},
   "outputs": [],
   "source": [
    "from gai.gen.itt.Llava_ITT import Llava_ITT\n",
    "config = {\n",
    "            \"type\": \"itt\",\n",
    "            \"engine\": \"Llava_ITT\",\n",
    "            \"model_name\": \"llava-v1.5-7b\",\n",
    "            \"model_path\": \"models/llava-v1.5-7b\",\n",
    "            \"model_basename\": None,\n",
    "            \"max_seq_len\": 128,\n",
    "            \"stopping_words\": [],\n",
    "            \"model_base\": None,\n",
    "            \"load_8bit\": False,\n",
    "            \"load_4bit\": True,\n",
    "            \"image_aspect_ratio\": \"pad\",\n",
    "            \"hyperparameters\": {\n",
    "                \"temperature\": 0.2,\n",
    "                \"max_new_tokens\": 512\n",
    "            }\n",
    "        }  \n",
    "gen = Llava_ITT(config)\n",
    "gen.load()\n",
    "import base64\n",
    "encoded_string = \"\"\n",
    "with open(\"./buses.jpeg\", \"rb\") as image_file:\n",
    "    encoded_string = base64.b64encode(image_file.read()).decode('utf-8')\n",
    "\n",
    "response = gen.create(messages=[\n",
    "        {\n",
    "            \"role\": \"user\",\n",
    "            \"content\": [\n",
    "                {\"type\": \"text\", \"text\": \"What’s in this image?\"},\n",
    "                    {\n",
    "                    \"type\": \"image_url\",\n",
    "                    \"image_url\": {\n",
    "                        \"url\": f\"data:image/jpeg;base64,{encoded_string}\",\n",
    "                    },\n",
    "                },\n",
    "            ],\n",
    "        }\n",
    "    ],\n",
    "    max_new_tokens=300,\n",
    "    temperature=10e-9)\n",
    "print(response.choices[0].message.content)\n",
    "gen.unload()\n"
   ]
  },
  {
   "cell_type": "markdown",
   "metadata": {},
   "source": [
    "2. Streaming"
   ]
  },
  {
   "cell_type": "code",
   "execution_count": 1,
   "metadata": {},
   "outputs": [
    {
     "name": "stderr",
     "output_type": "stream",
     "text": [
      "/home/roylai/.local/lib/python3.10/site-packages/tqdm/auto.py:21: TqdmWarning: IProgress not found. Please update jupyter and ipywidgets. See https://ipywidgets.readthedocs.io/en/stable/user_install.html\n",
      "  from .autonotebook import tqdm as notebook_tqdm\n",
      "/home/roylai/miniconda/envs/ITT/lib/python3.10/site-packages/huggingface_hub/file_download.py:1132: FutureWarning: `resume_download` is deprecated and will be removed in version 1.0.0. Downloads always resume when possible. If you want to force a new download, use `force_download=True`.\n",
      "  warnings.warn(\n",
      "Loading checkpoint shards: 100%|██████████| 2/2 [00:26<00:00, 13.40s/it]\n"
     ]
    },
    {
     "name": "stdout",
     "output_type": "stream",
     "text": [
      "The image features a bus stop with a bus stop sign and a bus schedule. The bus stop sign is located on a pole, and the bus schedule is displayed on a nearby sign. The bus stop is situated near a tree, providing a natural backdrop to the scene."
     ]
    },
    {
     "name": "stderr",
     "output_type": "stream",
     "text": [
      "2024-06-13 01:10:14 INFO gai.gen.itt.Llava_ITT:\u001b[32mLlavaITT: Unloading model...\u001b[0m\n"
     ]
    }
   ],
   "source": [
    "from gai.gen.itt.Llava_ITT import Llava_ITT\n",
    "config = {\n",
    "            \"type\": \"itt\",\n",
    "            \"engine\": \"Llava_ITT\",\n",
    "            \"model_name\": \"llava-v1.5-7b\",\n",
    "            \"model_path\": \"models/llava-v1.5-7b\",\n",
    "            \"model_basename\": None,\n",
    "            \"max_seq_len\": 128,\n",
    "            \"stopping_words\": [],\n",
    "            \"model_base\": None,\n",
    "            \"load_8bit\": False,\n",
    "            \"load_4bit\": True,\n",
    "            \"image_aspect_ratio\": \"pad\",\n",
    "            \"hyperparameters\": {\n",
    "                \"temperature\": 0.2,\n",
    "                \"max_new_tokens\": 512\n",
    "            }\n",
    "        }  \n",
    "gen = Llava_ITT(config)\n",
    "gen.load()\n",
    "import base64\n",
    "encoded_string = \"\"\n",
    "with open(\"./buses.jpeg\", \"rb\") as image_file:\n",
    "    encoded_string = base64.b64encode(image_file.read()).decode('utf-8')\n",
    "\n",
    "response = gen.create(messages=[\n",
    "        {\n",
    "            \"role\": \"user\",\n",
    "            \"content\": [\n",
    "                {\"type\": \"text\", \"text\": \"What’s in this image?\"},\n",
    "                    {\n",
    "                    \"type\": \"image_url\",\n",
    "                    \"image_url\": {\n",
    "                        \"url\": f\"data:image/jpeg;base64,{encoded_string}\",\n",
    "                    },\n",
    "                },\n",
    "            ],\n",
    "        }\n",
    "    ],\n",
    "    max_new_tokens=300,\n",
    "    temperature=10e-9,\n",
    "    stream=True)\n",
    "for chunk in response:\n",
    "    print(chunk.choices[0].delta.content, end=\"\", flush=True)\n",
    "gen.unload()\n"
   ]
  }
 ],
 "metadata": {
  "kernelspec": {
   "display_name": "TTT",
   "language": "python",
   "name": "python3"
  },
  "language_info": {
   "codemirror_mode": {
    "name": "ipython",
    "version": 3
   },
   "file_extension": ".py",
   "mimetype": "text/x-python",
   "name": "python",
   "nbconvert_exporter": "python",
   "pygments_lexer": "ipython3",
   "version": "3.10.10"
  }
 },
 "nbformat": 4,
 "nbformat_minor": 2
}
