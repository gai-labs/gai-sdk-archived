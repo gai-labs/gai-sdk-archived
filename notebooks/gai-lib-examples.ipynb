{
 "cells": [
  {
   "cell_type": "markdown",
   "metadata": {},
   "source": [
    "# Gai/Lib: Examples"
   ]
  },
  {
   "cell_type": "markdown",
   "metadata": {},
   "source": [
    "## Text-to-Text (TTT)"
   ]
  },
  {
   "cell_type": "markdown",
   "metadata": {},
   "source": [
    "Example: Mistral7b"
   ]
  },
  {
   "cell_type": "code",
   "execution_count": 3,
   "metadata": {},
   "outputs": [
    {
     "name": "stdout",
     "output_type": "stream",
     "text": [
      "> Mistral-7B\n",
      " Once upon a time, in a small village nestled at the foot of a mountain, there lived an old woman who had spent her entire life tending to her garden. She was known throughout the land for her beautiful flowers and lush vegetables, which she would sell at the local market every week. One day, as she was out picking her produce, she stumbled across a mysterious seed that she had never seen before. Without hesitation, she planted it in her garden and watched as it grew into the most magnificent tree she had ever seen. The tree bore fruit unlike any other, with juicy oranges that were filled with gold coins. The villagers were amazed by this newfound treasure and flocked to the old woman's house to get their share. From then on, the old woman became rich beyond her wildest dreams, all thanks to the magical seed she found in her garden.({'finish_reason': 'stop'}, 'finish_reason')\n",
      "\n"
     ]
    }
   ],
   "source": [
    "from gai.lib.GGG import GGG\n",
    "ggg=GGG(\"../gai-lib/gai.yml\")\n",
    "\n",
    "# Mistral7B\n",
    "print(\"> Mistral-7B\")\n",
    "for chunk in ggg(category=\"ttt\",messages=\"user: Tell me a one paragraph story\\nassistant:\"):\n",
    "    print(chunk.decode(),end=\"\",flush=True)\n",
    "print(\"\\n\")"
   ]
  },
  {
   "cell_type": "markdown",
   "metadata": {},
   "source": [
    "Example: GPT4"
   ]
  },
  {
   "cell_type": "code",
   "execution_count": 1,
   "metadata": {},
   "outputs": [
    {
     "name": "stderr",
     "output_type": "stream",
     "text": [
      "\u001b[45m\u001b[30mDEBUG   \u001b[0m \u001b[35mbase_url=https://gaiaio.ai/api\u001b[0m\n"
     ]
    },
    {
     "name": "stdout",
     "output_type": "stream",
     "text": [
      "> OpenAI\n",
      "In the heartland of a mystical kingdom, a shoemaker named Theodore lived a simple life. Facing hardship, he grew a single rose in his desolate garden and prided himself on his work despite his dwindling riches. One evening, a weary beggar passed by Theodore's humble abode and the good-hearted shoemaker offered him food and shelter. At dawn, the beggar transformed into a handsome prince, revealing that he was under a curse, destined to wander as a beggar until someone offered him kindness without expecting anything in return. For his extraordinary compassion, the prince gifted Theodore with a golden rose, a magical charm that cast a spell of boundless prosperity over his once-impoverished life.None\n",
      "\n"
     ]
    }
   ],
   "source": [
    "from dotenv import load_dotenv\n",
    "load_dotenv()\n",
    "from gai.lib.GGG import GGG\n",
    "ggg=GGG(\"../gai-lib/gai.yml\")\n",
    "\n",
    "# GPT4\n",
    "print(\"> OpenAI\")\n",
    "for chunk in ggg(category=\"ttt\",generator=\"gpt-4\",messages=\"user: Tell me a one paragraph story\\nassistant:\"):\n",
    "    print(chunk.decode(),end=\"\",flush=True)\n",
    "print(\"\\n\")"
   ]
  },
  {
   "cell_type": "markdown",
   "metadata": {},
   "source": [
    "Example: API Compatible"
   ]
  },
  {
   "cell_type": "code",
   "execution_count": 2,
   "metadata": {},
   "outputs": [
    {
     "name": "stdout",
     "output_type": "stream",
     "text": [
      "> OpenAI API\n",
      "In the small, vibrant town of Petalwood, there lived an unusual, elderly lady named Meredith. Most townsfolk were perplexed by Meredith, mainly because instead of classic feline or canine companions, her quaint, colorful cottage was a safe haven for dozens of rescued birds. Songbirds, parrots, falcons, and even owls found sanctuary within her garden, signaling their presence with a symphony of chirps, squawks and hoots. One fateful day, a storm"
     ]
    }
   ],
   "source": [
    "print(\"> OpenAI API\")\n",
    "\n",
    "import os\n",
    "import openai\n",
    "from openai import OpenAI\n",
    "from dotenv import load_dotenv\n",
    "load_dotenv()\n",
    "if not os.environ.get(\"OPENAI_API_KEY\"):\n",
    "    raise Exception(\n",
    "        \"OPENAI_API_KEY not found in environment variables\")\n",
    "openai.api_key = os.environ[\"OPENAI_API_KEY\"]\n",
    "client = OpenAI()\n",
    "\n",
    "response = client.chat.completions.create(\n",
    "    model=\"gpt-4\",\n",
    "    messages=[{\"role\":\"user\",\"content\":\"Tell me a one paragraph story\"}],\n",
    "    stream=True,\n",
    "    max_tokens=100,\n",
    ")\n",
    "for chunk in response:\n",
    "    if chunk.choices[0].delta.content:\n",
    "        print(chunk.choices[0].delta.content,end=\"\",flush=True)"
   ]
  },
  {
   "cell_type": "markdown",
   "metadata": {},
   "source": [
    "### TTT With Function Call\n",
    "\n",
    "OpenAPI provides a powerful feature for its API known as Function Calling. Essentially, this is a mechanism for the LLM to seek external assistance when it encounters limitations in its text generation capabilities. It does this by returning a string that emulates the calling of a function, based on the function description provided by the user.\n",
    "\n",
    "In the following example, we demonstrate function calling  being to an open source model using Mistral7b."
   ]
  },
  {
   "cell_type": "markdown",
   "metadata": {},
   "source": [
    "Example: Function call with Mistral7b"
   ]
  },
  {
   "cell_type": "code",
   "execution_count": 3,
   "metadata": {},
   "outputs": [
    {
     "name": "stderr",
     "output_type": "stream",
     "text": [
      "\u001b[45m\u001b[30mDEBUG   \u001b[0m \u001b[35mbase_url=https://gaiaio.ai/api\u001b[0m\n",
      "\u001b[45m\u001b[30mDEBUG   \u001b[0m \u001b[35mTTTClient.api: messages=user: What is today's date?\n",
      "assistant:\u001b[0m\n",
      "\u001b[45m\u001b[30mDEBUG   \u001b[0m \u001b[35mhttppost:url=https://gaiaio.ai/api/gen/v1/chat/completions\u001b[0m\n",
      "\u001b[45m\u001b[30mDEBUG   \u001b[0m \u001b[35mhttppost:data={'beam_length': 1,\n",
      " 'beams': 1,\n",
      " 'max_new_tokens': 1000,\n",
      " 'messages': [{'content': \"What is today's date?\", 'role': 'user'},\n",
      "              {'content': '', 'role': 'assistant'}],\n",
      " 'min_p': 0.0,\n",
      " 'model': 'mistral7b-exllama',\n",
      " 'stream': False,\n",
      " 'temperature': 1.2,\n",
      " 'token_repetition_penalty_decay': 128,\n",
      " 'token_repetition_penalty_max': 1.25,\n",
      " 'token_repetition_penalty_sustain': 256,\n",
      " 'tools': [{'function': {'description': \"The 'gg' function is a powerful tool \"\n",
      "                                        'that allows the AI to gather external '\n",
      "                                        'information from the internet using '\n",
      "                                        'Google search. It can be invoked when '\n",
      "                                        'the AI needs to answer a question or '\n",
      "                                        'provide information that requires '\n",
      "                                        'up-to-date, comprehensive, and '\n",
      "                                        'diverse sources which are not '\n",
      "                                        'inherently known by the AI. For '\n",
      "                                        'instance, it can be used to find '\n",
      "                                        'current news, weather updates, latest '\n",
      "                                        'sports scores, trending topics, '\n",
      "                                        'specific facts, or even the current '\n",
      "                                        'date and time. The usage of this tool '\n",
      "                                        \"should be considered when the user's \"\n",
      "                                        'query implies or explicitly requests '\n",
      "                                        'recent or wide-ranging data, or when '\n",
      "                                        \"the AI's inherent knowledge base may \"\n",
      "                                        'not have the required or most current '\n",
      "                                        \"information. The 'search_query' \"\n",
      "                                        'parameter should be a concise and '\n",
      "                                        'accurate representation of the '\n",
      "                                        'information needed.',\n",
      "                         'name': 'gg',\n",
      "                         'parameters': {'properties': {'search_query': {'description': 'The '\n",
      "                                                                                       'search '\n",
      "                                                                                       'query '\n",
      "                                                                                       'to '\n",
      "                                                                                       'search '\n",
      "                                                                                       'google '\n",
      "                                                                                       'with. '\n",
      "                                                                                       'For '\n",
      "                                                                                       'example, '\n",
      "                                                                                       'to '\n",
      "                                                                                       'find '\n",
      "                                                                                       'the '\n",
      "                                                                                       'current '\n",
      "                                                                                       'date '\n",
      "                                                                                       'or '\n",
      "                                                                                       'time, '\n",
      "                                                                                       'use '\n",
      "                                                                                       \"'current \"\n",
      "                                                                                       \"date' \"\n",
      "                                                                                       'or '\n",
      "                                                                                       \"'current \"\n",
      "                                                                                       \"time' \"\n",
      "                                                                                       'respectively.',\n",
      "                                                                        'type': 'string'}},\n",
      "                                        'required': ['search_query'],\n",
      "                                        'type': 'object'}},\n",
      "            'type': 'function'}],\n",
      " 'top_k': 50,\n",
      " 'top_p': 0.15,\n",
      " 'typical': 0.0}\u001b[0m\n"
     ]
    },
    {
     "name": "stdout",
     "output_type": "stream",
     "text": [
      "> Mistral-7B\n",
      "{'type': 'function', 'name': 'gg', 'arguments': '{\"search_query\": \"current date\"}'}\n"
     ]
    }
   ],
   "source": [
    "from gai.lib.GGG import GGG\n",
    "ggg=GGG(\"../gai-lib/gai.yml\")\n",
    "\n",
    "# Mistral7B\n",
    "print(\"> Mistral-7B\")\n",
    "response = ggg(category=\"ttt\",\n",
    "    messages=\"user: What is today's date?\\nassistant:\",\n",
    "    tools=[\n",
    "        {\n",
    "            \"type\": \"function\",\n",
    "            \"function\": {\n",
    "                \"name\": \"gg\",\n",
    "                \"description\": \"The 'gg' function is a powerful tool that allows the AI to gather external information from the internet using Google search. It can be invoked when the AI needs to answer a question or provide information that requires up-to-date, comprehensive, and diverse sources which are not inherently known by the AI. For instance, it can be used to find current news, weather updates, latest sports scores, trending topics, specific facts, or even the current date and time. The usage of this tool should be considered when the user's query implies or explicitly requests recent or wide-ranging data, or when the AI's inherent knowledge base may not have the required or most current information. The 'search_query' parameter should be a concise and accurate representation of the information needed.\",\n",
    "                \"parameters\": {\n",
    "                    \"type\": \"object\",\n",
    "                    \"properties\": {\n",
    "                        \"search_query\": {\n",
    "                            \"type\": \"string\",\n",
    "                            \"description\": \"The search query to search google with. For example, to find the current date or time, use 'current date' or 'current time' respectively.\"\n",
    "                        }\n",
    "                    },\n",
    "                    \"required\": [\"search_query\"]\n",
    "                }\n",
    "            }\n",
    "        }                   \n",
    "    ],\n",
    "    stream=False)\n",
    "print(response.decode())"
   ]
  },
  {
   "cell_type": "markdown",
   "metadata": {},
   "source": [
    "Example: function call with GPT4"
   ]
  },
  {
   "cell_type": "code",
   "execution_count": 4,
   "metadata": {},
   "outputs": [
    {
     "name": "stderr",
     "output_type": "stream",
     "text": [
      "\u001b[45m\u001b[30mDEBUG   \u001b[0m \u001b[35mbase_url=https://gaiaio.ai/api\u001b[0m\n"
     ]
    },
    {
     "name": "stdout",
     "output_type": "stream",
     "text": [
      "> OpenAI\n",
      "{'type': 'function', 'name': 'gg', 'arguments': '{\\n  \"search_query\": \"current president of Singapore\"\\n}'}\n"
     ]
    }
   ],
   "source": [
    "from gai.lib.GGG import GGG\n",
    "ggg=GGG(\"../gai-lib/gai.yml\")\n",
    "\n",
    "# OpenAI\n",
    "print(\"> OpenAI\")\n",
    "response = ggg(category=\"ttt\",\n",
    "                generator=\"gpt-4\",\n",
    "               messages=\"user: Who is the current president of Singapore?\\nassistant:\",\n",
    "                tools=[\n",
    "                    {\n",
    "                        \"type\": \"function\",\n",
    "                        \"function\": {\n",
    "                            \"name\": \"gg\",\n",
    "                            \"description\": \"The 'gg' function is a powerful tool that allows the AI to gather external information from the internet using Google search. It can be invoked when the AI needs to answer a question or provide information that requires up-to-date, comprehensive, and diverse sources which are not inherently known by the AI. For instance, it can be used to find current news, weather updates, latest sports scores, trending topics, specific facts, or even the current date and time. The usage of this tool should be considered when the user's query implies or explicitly requests recent or wide-ranging data, or when the AI's inherent knowledge base may not have the required or most current information. The 'search_query' parameter should be a concise and accurate representation of the information needed.\",\n",
    "                            \"parameters\": {\n",
    "                                \"type\": \"object\",\n",
    "                                \"properties\": {\n",
    "                                    \"search_query\": {\n",
    "                                        \"type\": \"string\",\n",
    "                                        \"description\": \"The search query to search google with. For example, to find the current date or time, use 'current date' or 'current time' respectively.\"\n",
    "                                    }\n",
    "                                },\n",
    "                                \"required\": [\"search_query\"]\n",
    "                            }\n",
    "                        }\n",
    "                    }                   \n",
    "                ],\n",
    "               stream=False)\n",
    "print(response.decode())"
   ]
  },
  {
   "cell_type": "markdown",
   "metadata": {},
   "source": [
    "Example: function call with API compatibility"
   ]
  },
  {
   "cell_type": "code",
   "execution_count": 5,
   "metadata": {},
   "outputs": [
    {
     "name": "stdout",
     "output_type": "stream",
     "text": [
      "> OpenAI Original\n",
      "{\n",
      "    \"arguments\": \"{\\n  \\\"search_query\\\": \\\"latest news Singapore\\\"\\n}\",\n",
      "    \"name\": \"gg\"\n",
      "}\n",
      "\n"
     ]
    }
   ],
   "source": [
    "print(\"> OpenAI Original\")\n",
    "import os,json\n",
    "import openai\n",
    "from openai import OpenAI\n",
    "from dotenv import load_dotenv\n",
    "load_dotenv()\n",
    "if not os.environ.get(\"OPENAI_API_KEY\"):\n",
    "    raise Exception(\n",
    "        \"OPENAI_API_KEY not found in environment variables\")\n",
    "openai.api_key = os.environ[\"OPENAI_API_KEY\"]\n",
    "client = OpenAI()\n",
    "\n",
    "response = client.chat.completions.create(\n",
    "    model=\"gpt-4\",\n",
    "    messages=[{\"role\":\"user\",\"content\":\"Tell me the latest news on Singapore\"}],\n",
    "    stream=True,\n",
    "    max_tokens=100,\n",
    "    tools=[\n",
    "        {\n",
    "            \"type\": \"function\",\n",
    "            \"function\": {\n",
    "                \"name\": \"gg\",\n",
    "                \"description\": \"The 'gg' function is a powerful tool that allows the AI to gather external information from the internet using Google search. It can be invoked when the AI needs to answer a question or provide information that requires up-to-date, comprehensive, and diverse sources which are not inherently known by the AI. For instance, it can be used to find current news, weather updates, latest sports scores, trending topics, specific facts, or even the current date and time. The usage of this tool should be considered when the user's query implies or explicitly requests recent or wide-ranging data, or when the AI's inherent knowledge base may not have the required or most current information. The 'search_query' parameter should be a concise and accurate representation of the information needed.\",\n",
    "                \"parameters\": {\n",
    "                    \"type\": \"object\",\n",
    "                    \"properties\": {\n",
    "                        \"search_query\": {\n",
    "                            \"type\": \"string\",\n",
    "                            \"description\": \"The search query to search google with. For example, to find the current date or time, use 'current date' or 'current time' respectively.\"\n",
    "                        }\n",
    "                    },\n",
    "                    \"required\": [\"search_query\"]\n",
    "                }\n",
    "            }\n",
    "        }                   \n",
    "    ],\n",
    ")\n",
    "tool = {}\n",
    "tool[\"arguments\"]=\"\"\n",
    "for chunk in response:\n",
    "    if chunk.choices[0].delta.tool_calls and chunk.choices[0].delta.tool_calls[0].function.name:\n",
    "        tool[\"name\"] = chunk.choices[0].delta.tool_calls[0].function.name\n",
    "    elif chunk.choices[0].delta.tool_calls and chunk.choices[0].delta.tool_calls[0].function.arguments:\n",
    "        tool[\"arguments\"] += chunk.choices[0].delta.tool_calls[0].function.arguments\n",
    "print(json.dumps(tool, indent=4)+\"\\n\")"
   ]
  },
  {
   "cell_type": "markdown",
   "metadata": {},
   "source": [
    "-----"
   ]
  },
  {
   "cell_type": "markdown",
   "metadata": {},
   "source": [
    "## Text-to-Speech (TTS)"
   ]
  },
  {
   "cell_type": "markdown",
   "metadata": {},
   "source": [
    "Here is the input text \"The definition of insanity is doing the same thing over and over and expecting different results.\""
   ]
  },
  {
   "cell_type": "code",
   "execution_count": 6,
   "metadata": {},
   "outputs": [],
   "source": [
    "from gai.common.sound_utils import play_audio,save_audio\n",
    "\n",
    "data = {\n",
    "    \"input\": \"The definition of insanity is doing the same thing over and over and expecting different results.\",\n",
    "    \"voice\": None,\n",
    "    \"language\": None\n",
    "}"
   ]
  },
  {
   "cell_type": "markdown",
   "metadata": {},
   "source": [
    "Example: Generate speech with Coqui xTTS"
   ]
  },
  {
   "cell_type": "code",
   "execution_count": 7,
   "metadata": {},
   "outputs": [
    {
     "name": "stderr",
     "output_type": "stream",
     "text": [
      "\u001b[45m\u001b[30mDEBUG   \u001b[0m \u001b[35mbase_url=https://gaiaio.ai/api\u001b[0m\n",
      "\u001b[45m\u001b[30mDEBUG   \u001b[0m \u001b[35mhttppost:url=https://gaiaio.ai/api/gen/v1/audio/speech\u001b[0m\n",
      "\u001b[45m\u001b[30mDEBUG   \u001b[0m \u001b[35mhttppost:data={'input': 'The definition of insanity is doing the same thing over and over '\n",
      "          'and expecting different results.',\n",
      " 'language': None,\n",
      " 'model': 'xtts-2',\n",
      " 'stream': True,\n",
      " 'voice': None}\u001b[0m\n"
     ]
    }
   ],
   "source": [
    "from gai.lib.GGG import GGG\n",
    "\n",
    "ggg=GGG(\"../gai-lib/gai.yml\")\n",
    "response = ggg(\"tts\", **data)\n",
    "play_audio(response)"
   ]
  },
  {
   "cell_type": "markdown",
   "metadata": {},
   "source": [
    "Example: Generate speech with OpenAI"
   ]
  },
  {
   "cell_type": "code",
   "execution_count": 8,
   "metadata": {},
   "outputs": [
    {
     "name": "stderr",
     "output_type": "stream",
     "text": [
      "\u001b[45m\u001b[30mDEBUG   \u001b[0m \u001b[35mbase_url=https://gaiaio.ai/api\u001b[0m\n"
     ]
    }
   ],
   "source": [
    "# openai tts\n",
    "response = ggg(\"tts\", generator=\"openai-tts-1\", **data)\n",
    "play_audio(response)"
   ]
  },
  {
   "cell_type": "markdown",
   "metadata": {},
   "source": [
    "Example: API Compatibility"
   ]
  },
  {
   "cell_type": "code",
   "execution_count": null,
   "metadata": {},
   "outputs": [],
   "source": [
    "# openai original\n",
    "response = client.audio.speech.create(\n",
    "    model='tts-1', input=\"The definition of insanity is doing the same thing over and over and expecting different results.\", voice=\"alloy\")\n",
    "play_audio(response.content)"
   ]
  },
  {
   "cell_type": "markdown",
   "metadata": {},
   "source": [
    "## Speech-to-Text (STT)"
   ]
  },
  {
   "cell_type": "markdown",
   "metadata": {},
   "source": [
    "Original Audio"
   ]
  },
  {
   "cell_type": "code",
   "execution_count": 9,
   "metadata": {},
   "outputs": [],
   "source": [
    "# sample\n",
    "with open(\"./today-is-a-wonderful-day.wav\", \"rb\") as f:\n",
    "    play_audio(f.read())"
   ]
  },
  {
   "cell_type": "markdown",
   "metadata": {},
   "source": [
    "Example: Transcribe audio with local Whisper"
   ]
  },
  {
   "cell_type": "code",
   "execution_count": 10,
   "metadata": {},
   "outputs": [
    {
     "name": "stderr",
     "output_type": "stream",
     "text": [
      "\u001b[45m\u001b[30mDEBUG   \u001b[0m \u001b[35mbase_url=https://gaiaio.ai/api\u001b[0m\n",
      "\u001b[45m\u001b[30mDEBUG   \u001b[0m \u001b[35mhttppost:url=https://gaiaio.ai/api/gen/v1/audio/transcriptions\u001b[0m\n",
      "\u001b[45m\u001b[30mDEBUG   \u001b[0m \u001b[35mhttppost:data=None\u001b[0m\n"
     ]
    },
    {
     "name": "stdout",
     "output_type": "stream",
     "text": [
      " Today is a wonderful day to build something people love.\n"
     ]
    }
   ],
   "source": [
    "from gai.lib.GGG import GGG\n",
    "ggg=GGG(\"../gai-lib/gai.yml\")\n",
    "\n",
    "# OpenSource Whisper\n",
    "with open(\"./today-is-a-wonderful-day.wav\", \"rb\") as f:\n",
    "    output = ggg(\"stt\", file=f)\n",
    "    print(output.decode())"
   ]
  },
  {
   "cell_type": "markdown",
   "metadata": {},
   "source": [
    "Example: Transcribe audio with OpenAI Whisper"
   ]
  },
  {
   "cell_type": "code",
   "execution_count": 11,
   "metadata": {},
   "outputs": [
    {
     "name": "stderr",
     "output_type": "stream",
     "text": [
      "\u001b[45m\u001b[30mDEBUG   \u001b[0m \u001b[35mbase_url=https://gaiaio.ai/api\u001b[0m\n"
     ]
    },
    {
     "name": "stdout",
     "output_type": "stream",
     "text": [
      "Today is a wonderful day to build something people love.\n"
     ]
    }
   ],
   "source": [
    "# OpenAI Whisper\n",
    "with open(\"./today-is-a-wonderful-day.wav\", \"rb\") as f:\n",
    "    output = ggg(\"stt\", generator=\"openai-whisper\", file=f)\n",
    "    print(output.text)"
   ]
  },
  {
   "cell_type": "markdown",
   "metadata": {},
   "source": [
    "## Image-to-Text (ITT)"
   ]
  },
  {
   "cell_type": "markdown",
   "metadata": {},
   "source": [
    "Here is the image"
   ]
  },
  {
   "cell_type": "code",
   "execution_count": 12,
   "metadata": {},
   "outputs": [
    {
     "data": {
      "image/jpeg": "[encoded data removed]",
      "text/plain": [
       "<IPython.core.display.Image object>"
      ]
     },
     "metadata": {},
     "output_type": "display_data"
    }
   ],
   "source": [
    "from gai.common.image_utils import read_to_base64\n",
    "import os\n",
    "from IPython.display import Image,display\n",
    "encoded_string = read_to_base64(\"./buses.jpeg\")\n",
    "messages = [\n",
    "    {\n",
    "        \"role\": \"user\",\n",
    "        \"content\": [\n",
    "            {\"type\": \"text\", \"text\": \"What’s in this image?\"},\n",
    "            {\n",
    "                \"type\": \"image_url\",\n",
    "                \"image_url\": {\n",
    "                    \"url\": f\"data:image/jpeg;base64,{encoded_string}\",\n",
    "                },\n",
    "            },\n",
    "        ],\n",
    "    }\n",
    "]\n",
    "display(Image(\"./buses.jpeg\"))"
   ]
  },
  {
   "cell_type": "markdown",
   "metadata": {},
   "source": [
    "Example: Describe with Llava"
   ]
  },
  {
   "cell_type": "code",
   "execution_count": 13,
   "metadata": {},
   "outputs": [
    {
     "name": "stderr",
     "output_type": "stream",
     "text": [
      "\u001b[45m\u001b[30mDEBUG   \u001b[0m \u001b[35mbase_url=https://gaiaio.ai/api\u001b[0m\n",
      "\u001b[45m\u001b[30mDEBUG   \u001b[0m \u001b[35mhttppost:url=https://gaiaio.ai/api/gen/v1/vision/completions\u001b[0m\n",
      "\u001b[45m\u001b[30mDEBUG   \u001b[0m \u001b[35mhttppost:data={'messages': [{'content': [{'text': 'What’s in this image?', 'type': 'text'},\n",
      "                           {'image_url': {'url': 'data:image/jpeg;base64,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'},\n",
      "                            'type': 'image_url'}],\n",
      "               'role': 'user'}],\n",
      " 'model': 'llava-transformers',\n",
      " 'stream': True}\u001b[0m\n"
     ]
    },
    {
     "name": "stdout",
     "output_type": "stream",
     "text": [
      "> Llava\n",
      "The image features a bus stop with a large sign displaying a bus route number and a map of the bus route. The sign is located near a tree, making it easily visible to passengers. The bus stop is situated in a park-like setting, providing a pleasant environment for people to wait for the bus.({'finish_reason': 'stop'}, 'finish_reason')\n",
      "\n"
     ]
    }
   ],
   "source": [
    "# Llava\n",
    "from gai.lib.GGG import GGG\n",
    "ggg=GGG(\"../gai-lib/gai.yml\")\n",
    "\n",
    "print(\"> Llava\")\n",
    "for chunk in ggg(\"itt\",messages=messages,stream=True):\n",
    "    print(chunk.decode(),end=\"\",flush=True)\n",
    "print(\"\\n\")\n"
   ]
  },
  {
   "cell_type": "markdown",
   "metadata": {},
   "source": [
    "Example: Describe with OpenAI Vision"
   ]
  },
  {
   "cell_type": "code",
   "execution_count": 14,
   "metadata": {},
   "outputs": [
    {
     "name": "stderr",
     "output_type": "stream",
     "text": [
      "\u001b[45m\u001b[30mDEBUG   \u001b[0m \u001b[35mbase_url=https://gaiaio.ai/api\u001b[0m\n"
     ]
    },
    {
     "name": "stdout",
     "output_type": "stream",
     "text": [
      "> OpenAI\n",
      "This image contains a bus stop sign with various elements on it. The top of the sign features a blue rectangle with a white bus symbol, indicating that it is indeed a bus stop. Below this, there is a sign with a unique identifier for the bus stop (71091) and an alphanumeric code (B01 K527). Additionally, there are bus route numbers displayed in both red and white rectangles, suggesting these are the routes that service this particular bus stop. The background includes trees, indicating theNone\n",
      "\n"
     ]
    }
   ],
   "source": [
    "# OpenAI\n",
    "print(\"> OpenAI\")\n",
    "for chunk in ggg(category=\"itt\", generator=\"openai-vision\", messages=messages, stream=True, max_tokens=100):\n",
    "    print(chunk.decode(), end=\"\", flush=True)\n",
    "print(\"\\n\")"
   ]
  },
  {
   "cell_type": "markdown",
   "metadata": {},
   "source": [
    "## Retrieval Augmented Generation (RAG)"
   ]
  },
  {
   "cell_type": "markdown",
   "metadata": {},
   "source": [
    "Step 1: Index the file 'pm_long_speech_2023.txt' into the vector database. This will break down the file into chunks of 1000 char and convert to text embeddings, then store them in the database."
   ]
  },
  {
   "cell_type": "code",
   "execution_count": 1,
   "metadata": {},
   "outputs": [
    {
     "name": "stderr",
     "output_type": "stream",
     "text": [
      "\u001b[45m\u001b[30mDEBUG   \u001b[0m \u001b[35mbase_url=http://localhost:12031/gen/v1/rag\u001b[0m\n",
      "\u001b[42m\u001b[30mINFO    \u001b[0m \u001b[32mConnected to ws://localhost:12031/gen/v1/rag/index-file/ws/demo\u001b[0m\n"
     ]
    },
    {
     "name": "stdout",
     "output_type": "stream",
     "text": [
      "{\"message\": \"Request received.\"}\n",
      "{\"message\": \"Breaking down document into chunks ...\"}\n",
      "{\"message\": \"Start indexing...\"}\n",
      "{\"progress\": 1}\n",
      "{\"progress\": 3}\n",
      "{\"progress\": 4}\n",
      "{\"progress\": 6}\n",
      "{\"progress\": 7}\n",
      "{\"progress\": 9}\n",
      "{\"progress\": 10}\n",
      "{\"progress\": 12}\n",
      "{\"progress\": 13}\n",
      "{\"progress\": 15}\n",
      "{\"progress\": 16}\n",
      "{\"progress\": 18}\n",
      "{\"progress\": 19}\n",
      "{\"progress\": 21}\n",
      "{\"progress\": 22}\n",
      "{\"progress\": 24}\n",
      "{\"progress\": 25}\n",
      "{\"progress\": 27}\n",
      "{\"progress\": 28}\n",
      "{\"progress\": 30}\n",
      "{\"progress\": 31}\n",
      "{\"progress\": 33}\n",
      "{\"progress\": 34}\n",
      "{\"progress\": 36}\n",
      "{\"progress\": 37}\n",
      "{\"progress\": 39}\n",
      "{\"progress\": 40}\n",
      "{\"progress\": 42}\n",
      "{\"progress\": 43}\n",
      "{\"progress\": 45}\n",
      "{\"progress\": 46}\n",
      "{\"progress\": 48}\n",
      "{\"progress\": 50}\n",
      "{\"progress\": 51}\n",
      "{\"progress\": 53}\n",
      "{\"progress\": 54}\n",
      "{\"progress\": 56}\n",
      "{\"progress\": 57}\n",
      "{\"progress\": 59}\n",
      "{\"progress\": 60}\n",
      "{\"progress\": 62}\n",
      "{\"progress\": 63}\n",
      "{\"progress\": 65}\n",
      "{\"progress\": 66}\n",
      "{\"progress\": 68}\n",
      "{\"progress\": 69}\n",
      "{\"progress\": 71}\n",
      "{\"progress\": 72}\n",
      "{\"progress\": 74}\n",
      "{\"progress\": 75}\n",
      "{\"progress\": 77}\n",
      "{\"progress\": 78}\n",
      "{\"progress\": 80}\n",
      "{\"progress\": 81}\n",
      "{\"progress\": 83}\n",
      "{\"progress\": 84}\n",
      "{\"progress\": 86}\n",
      "{\"progress\": 87}\n",
      "{\"progress\": 89}\n",
      "{\"progress\": 90}\n",
      "{\"progress\": 92}\n",
      "{\"progress\": 93}\n",
      "{\"progress\": 95}\n",
      "{\"progress\": 96}\n",
      "{\"progress\": 98}\n"
     ]
    },
    {
     "data": {
      "text/plain": [
       "{'document_id': 'PwR6VmXqAfwjn84ZM6dePsLWTldPv8cNS5dESYlsY2U',\n",
       " 'chunkgroup_id': 'c4722508-84a5-4d1d-9497-a9a00740293a',\n",
       " 'chunk_ids': ['8d909695-9b3f-464d-8719-6e6ef0432082',\n",
       "  'ef9d8ba3-2506-46f3-ba67-d8cb708cffdd',\n",
       "  'dc1b6434-6ca1-488b-a00e-b45b71256617',\n",
       "  '32f519d9-f811-4fd8-8cde-027f19c46338',\n",
       "  'c4d50a23-3d89-4d95-8e1c-10ed28f59052',\n",
       "  'f585bdbc-9ff1-434e-9a22-d55c518c33b7',\n",
       "  '5518928f-fd71-4c4c-bb40-f4b525a2bfb7',\n",
       "  'bfad8648-a75b-4141-bc88-cdbbd7f2640e',\n",
       "  '57b7d8e2-f912-4e45-be83-293a3d664670',\n",
       "  '53bd57a7-d975-4477-a6c2-1b384555c0a8',\n",
       "  'f7f6146d-e783-471d-b276-177217bfe33c',\n",
       "  '0d659c85-58dc-4215-aab1-1d2ee05a62a9',\n",
       "  '79d99e42-97f9-4bf9-8599-4c77cc6bc235',\n",
       "  'e28782f0-e431-4423-a298-8e5ae0677728',\n",
       "  'a278b3e1-36e5-49c5-8c97-99ab80467c04',\n",
       "  '78140368-8966-4f5a-8f24-f7e15c6fb630',\n",
       "  '850303c8-89ec-4e6a-a0e0-13285b41e01d',\n",
       "  '90f573a3-a3fa-4cf3-821e-67a9c2d09b25',\n",
       "  '28fcfd89-8cc8-42ad-983d-f36d35254171',\n",
       "  '8bcef4f7-6cb1-4638-b9f8-ca1cd32f73c7',\n",
       "  'd499ef2a-4c52-4136-8d39-818ce9d4dbd7',\n",
       "  '49317007-23b9-4c6a-8dca-28304deadba3',\n",
       "  '5f09b098-045a-4a34-a6e9-c91a7cb8dbab',\n",
       "  '85449d04-46d6-45b1-995d-7c6cb769e917',\n",
       "  'b0019712-63f2-4968-a895-bda5ce18f3c4',\n",
       "  'd182b406-3561-4a11-9961-cbc928563ff5',\n",
       "  '575bd654-6c36-4d7e-9dca-fe342f1cdc94',\n",
       "  '06d79fb5-ee5b-4561-b480-c97f1c029a5a',\n",
       "  'e1daf412-dc94-4fb6-88fb-2b8ce1cc2403',\n",
       "  'a2ad80ef-5ab8-4713-ba7b-8b5d2fd27588',\n",
       "  '0d95d410-ffe5-4eb5-9b6b-5dfd4f7a901d',\n",
       "  'abbb1f63-f037-4b9d-adb0-f58dd63c2a5d',\n",
       "  'db94a4b7-a1a9-4942-b21d-21b5e71f005d',\n",
       "  '12bb00d5-85ca-4b8e-9ada-39b93dc3142f',\n",
       "  '34cf7d36-e6cb-42a2-ab88-7ccef245069d',\n",
       "  '8e0a75b8-ba0f-4a86-914f-2ef63d5dd039',\n",
       "  '5980f1ce-5f0d-4a08-8aad-2cf01cdb1c24',\n",
       "  '252726a2-d122-4aa0-b4f3-c3251e43c368',\n",
       "  '119fe862-b166-4b1e-9e3f-ed9712af90a2',\n",
       "  'f8259560-bee2-4c3d-89eb-9361dd18d881',\n",
       "  '58efb296-4519-4bf8-b4cf-86a3378f79ab',\n",
       "  '26b50688-ada6-4ee1-9c6e-09ee73a94005',\n",
       "  '066bc52a-6a10-4ce2-87a9-291cc091cf31',\n",
       "  'f3847d30-1d5d-4951-9698-291c6b305460',\n",
       "  '23c7b4a4-735c-4e75-a780-37be752e6a1c',\n",
       "  '4a0c0868-67dc-441a-81d1-9e59491a7aa6',\n",
       "  '1fe3a1e8-26f4-42e6-8ede-e441836f429e',\n",
       "  '587a1715-0a97-467e-aa0f-32093957cc95',\n",
       "  'a679abfa-670e-4379-855e-3b1225908cff',\n",
       "  'fee5779b-8cc3-466d-af7c-efd7d4e9539d',\n",
       "  '6307a0fb-a23a-4f74-ad59-17658e5043dc',\n",
       "  'a8ede44e-b13d-42ed-9d18-86ef5517a38a',\n",
       "  '9fd2eada-c336-4721-877d-196faae56a94',\n",
       "  '623df856-83c6-4864-968c-b9fb6a6278fa',\n",
       "  'c4affcea-3f4e-4b6e-8379-5b2a312c048a',\n",
       "  '69cc1481-fe61-482d-bbc1-5aa6ed05fee5',\n",
       "  'b5f67a3e-6756-434d-b7ad-3cf28ee99d2b',\n",
       "  'bb37222d-2ff5-49ee-99a0-9523492ced54',\n",
       "  'ece8929e-cd7a-4938-ba7f-2dc444142c08',\n",
       "  '01727d8d-092c-4bc5-a15d-86745fb8f272',\n",
       "  '24292391-0411-43a7-8908-528d1bbe947c',\n",
       "  '3c1e153d-21ff-410c-9c48-c6a6463a52e2',\n",
       "  'f6de6424-9cf4-4d1c-b61e-9cefe92e98d5',\n",
       "  '420528df-5b45-4f48-9376-82414f3f1092',\n",
       "  '7b2d001f-60b8-41d8-b717-7c6077121764',\n",
       "  'ef996426-f312-4580-ab67-6c649101db72']}"
      ]
     },
     "execution_count": 1,
     "metadata": {},
     "output_type": "execute_result"
    }
   ],
   "source": [
    "# Index 2023 national day speech \n",
    "import asyncio\n",
    "from gai.lib.RAGClientAsync import RAGClientAsync\n",
    "\n",
    "async def listener(status):\n",
    "    print(status)\n",
    "rag=RAGClientAsync(\"./gai.local.yml\")\n",
    "await rag.index_document_async(\n",
    "        collection_name=\"demo\",\n",
    "        file_path=\"./pm_long_speech_2023.txt\",\n",
    "        title=\"2023 National Day Rally Speech\",\n",
    "        source=\"https://www.pmo.gov.sg/Newsroom/national-day-rally-2023\",\n",
    "        listener_callback=listener,\n",
    "    )"
   ]
  },
  {
   "cell_type": "code",
   "execution_count": 2,
   "metadata": {},
   "outputs": [
    {
     "name": "stderr",
     "output_type": "stream",
     "text": [
      "\u001b[45m\u001b[30mDEBUG   \u001b[0m \u001b[35mbase_url=http://localhost:12031/gen/v1/rag\u001b[0m\n"
     ]
    },
    {
     "name": "stdout",
     "output_type": "stream",
     "text": [
      "{'documents': [{'Id': 'PwR6VmXqAfwjn84ZM6dePsLWTldPv8cNS5dESYlsY2U', 'CollectionName': 'demo', 'ByteSize': 43352, 'FileName': 'pm_long_speech_2023.txt', 'FileType': 'txt', 'Source': 'https://www.pmo.gov.sg/Newsroom/national-day-rally-2023', 'Abstract': None, 'Authors': '', 'Title': '2023 National Day Rally Speech', 'Publisher': '', 'PublishedDate': None, 'Comments': '', 'Keywords': '', 'CreatedAt': '2024-04-28T19:41:19.727390', 'UpdatedAt': '2024-04-28T19:41:19.727398', 'IsActive': True, 'ChunkGroups': [{'Id': 'c4722508-84a5-4d1d-9497-a9a00740293a', 'DocumentId': 'PwR6VmXqAfwjn84ZM6dePsLWTldPv8cNS5dESYlsY2U', 'SplitAlgo': 'recursive_split', 'ChunkCount': 66, 'ChunkSize': 1000, 'Overlap': 100, 'IsActive': True, 'ChunksDir': '/tmp/chunks/pm_long_speech_2023'}]}]}\n"
     ]
    }
   ],
   "source": [
    "# Confirm File Uploaded\n",
    "\n",
    "from gai.lib.RAGClientAsync import RAGClientAsync\n",
    "rag = RAGClientAsync(\"./gai.local.yml\")\n",
    "docs = await rag.list_documents_async()\n",
    "print(docs)\n"
   ]
  },
  {
   "cell_type": "markdown",
   "metadata": {},
   "source": [
    "### Step 3: Query and Retrieve"
   ]
  },
  {
   "cell_type": "code",
   "execution_count": 4,
   "metadata": {},
   "outputs": [
    {
     "name": "stderr",
     "output_type": "stream",
     "text": [
      "\u001b[45m\u001b[30mDEBUG   \u001b[0m \u001b[35mbase_url=http://localhost:12031/gen/v1/rag\u001b[0m\n"
     ]
    },
    {
     "name": "stdout",
     "output_type": "stream",
     "text": [
      " The context describes \"Young Seniors\" as individuals born between the Pioneer and Merdeka Generations (approximately in their 50s and early 60s) who are currently facing unique challenges due to their age and life circumstances.({'finish_reason': 'stop'}, 'finish_reason')"
     ]
    }
   ],
   "source": [
    "from gai.lib.RAGClientAsync import RAGClientAsync\n",
    "rag = RAGClientAsync(\"./gai.local.yml\")\n",
    "\n",
    "data = {\n",
    "    \"collection_name\": \"demo\",\n",
    "    \"query_texts\": \"Who are the young seniors?\",\n",
    "}\n",
    "response = await rag.retrieve_async(**data)\n",
    "context = response\n",
    "question = \"Who are the young seniors?\"\n",
    "\n",
    "from gai.lib.GGG import GGG\n",
    "ggg=GGG(\"../gai-lib/gai.yml\")\n",
    "answer = ggg(\"ttt\", messages=f\"user: Based on the context below: <context>{context}</context>, answer the question: {question}\\nassistant:\")\n",
    "for chunk in answer:\n",
    "    print(chunk.decode(), end=\"\", flush=True)"
   ]
  },
  {
   "cell_type": "markdown",
   "metadata": {},
   "source": [
    "### Step 4: Query and Retrieve with Function Call\n",
    "\n",
    "The AI will decide based on the context of the conversation, if the response require retrieval to answer the user's query."
   ]
  },
  {
   "cell_type": "code",
   "execution_count": 1,
   "metadata": {},
   "outputs": [
    {
     "name": "stdout",
     "output_type": "stream",
     "text": [
      "> Mistral-7B\n"
     ]
    },
    {
     "ename": "ApiException",
     "evalue": "500: {'code': 'unknown_error', 'message': 'An unexpected error occurred. Please try again later.'}",
     "output_type": "error",
     "traceback": [
      "\u001b[0;31m---------------------------------------------------------------------------\u001b[0m",
      "\u001b[0;31mApiException\u001b[0m                              Traceback (most recent call last)",
      "Cell \u001b[0;32mIn[1], line 31\u001b[0m\n\u001b[1;32m     28\u001b[0m question \u001b[38;5;241m=\u001b[39m \u001b[38;5;124m\"\u001b[39m\u001b[38;5;124mWhat did PM Lee say about young seniors?\u001b[39m\u001b[38;5;124m\"\u001b[39m\n\u001b[1;32m     30\u001b[0m messages \u001b[38;5;241m=\u001b[39m [{\u001b[38;5;124m'\u001b[39m\u001b[38;5;124mrole\u001b[39m\u001b[38;5;124m'\u001b[39m:\u001b[38;5;124m'\u001b[39m\u001b[38;5;124muser\u001b[39m\u001b[38;5;124m'\u001b[39m,\u001b[38;5;124m'\u001b[39m\u001b[38;5;124mcontent\u001b[39m\u001b[38;5;124m'\u001b[39m:question},{\u001b[38;5;124m'\u001b[39m\u001b[38;5;124mrole\u001b[39m\u001b[38;5;124m'\u001b[39m:\u001b[38;5;124m'\u001b[39m\u001b[38;5;124massistant\u001b[39m\u001b[38;5;124m'\u001b[39m,\u001b[38;5;124m'\u001b[39m\u001b[38;5;124mcontent\u001b[39m\u001b[38;5;124m'\u001b[39m:\u001b[38;5;124m'\u001b[39m\u001b[38;5;124m'\u001b[39m}]\n\u001b[0;32m---> 31\u001b[0m response \u001b[38;5;241m=\u001b[39m \u001b[43mggg\u001b[49m\u001b[43m(\u001b[49m\u001b[43mcategory\u001b[49m\u001b[38;5;241;43m=\u001b[39;49m\u001b[38;5;124;43m\"\u001b[39;49m\u001b[38;5;124;43mttt\u001b[39;49m\u001b[38;5;124;43m\"\u001b[39;49m\u001b[43m,\u001b[49m\n\u001b[1;32m     32\u001b[0m \u001b[43m               \u001b[49m\u001b[43mmessages\u001b[49m\u001b[38;5;241;43m=\u001b[39;49m\u001b[43mmessages\u001b[49m\u001b[43m,\u001b[49m\u001b[43m \u001b[49m\n\u001b[1;32m     33\u001b[0m \u001b[43m               \u001b[49m\u001b[43mtools\u001b[49m\u001b[38;5;241;43m=\u001b[39;49m\u001b[43mtools\u001b[49m\u001b[43m,\u001b[49m\n\u001b[1;32m     34\u001b[0m \u001b[43m               \u001b[49m\u001b[43mstream\u001b[49m\u001b[38;5;241;43m=\u001b[39;49m\u001b[38;5;28;43;01mFalse\u001b[39;49;00m\u001b[43m,\u001b[49m\n\u001b[1;32m     35\u001b[0m \u001b[43m               \u001b[49m\u001b[43mmax_new_tokens\u001b[49m\u001b[38;5;241;43m=\u001b[39;49m\u001b[38;5;241;43m500\u001b[39;49m\u001b[43m)\u001b[49m\n\u001b[1;32m     36\u001b[0m result\u001b[38;5;241m=\u001b[39mresponse\u001b[38;5;241m.\u001b[39mdecode()\n\u001b[1;32m     37\u001b[0m search_query \u001b[38;5;241m=\u001b[39m json\u001b[38;5;241m.\u001b[39mloads(result[\u001b[38;5;124m'\u001b[39m\u001b[38;5;124marguments\u001b[39m\u001b[38;5;124m'\u001b[39m])[\u001b[38;5;124m'\u001b[39m\u001b[38;5;124msearch_query\u001b[39m\u001b[38;5;124m'\u001b[39m][\u001b[38;5;241m0\u001b[39m]\n",
      "File \u001b[0;32m~/github/gai-labs/gai-dev/gai/gai-lib/gai/lib/GGG.py:18\u001b[0m, in \u001b[0;36mGGG.__call__\u001b[0;34m(self, category, **model_params)\u001b[0m\n\u001b[1;32m     16\u001b[0m \u001b[38;5;28;01mif\u001b[39;00m category\u001b[38;5;241m.\u001b[39mlower() \u001b[38;5;241m==\u001b[39m \u001b[38;5;124m\"\u001b[39m\u001b[38;5;124mttt\u001b[39m\u001b[38;5;124m\"\u001b[39m:\n\u001b[1;32m     17\u001b[0m     \u001b[38;5;28mself\u001b[39m\u001b[38;5;241m.\u001b[39mclient \u001b[38;5;241m=\u001b[39m TTTClient(\u001b[38;5;28mself\u001b[39m\u001b[38;5;241m.\u001b[39mconfig_path)\n\u001b[0;32m---> 18\u001b[0m     \u001b[38;5;28;01mreturn\u001b[39;00m \u001b[38;5;28;43mself\u001b[39;49m\u001b[38;5;241;43m.\u001b[39;49m\u001b[43mclient\u001b[49m\u001b[43m(\u001b[49m\u001b[38;5;241;43m*\u001b[39;49m\u001b[38;5;241;43m*\u001b[39;49m\u001b[43mmodel_params\u001b[49m\u001b[43m)\u001b[49m\n\u001b[1;32m     19\u001b[0m \u001b[38;5;28;01melif\u001b[39;00m category\u001b[38;5;241m.\u001b[39mlower() \u001b[38;5;241m==\u001b[39m \u001b[38;5;124m\"\u001b[39m\u001b[38;5;124mttt-long\u001b[39m\u001b[38;5;124m\"\u001b[39m:\n\u001b[1;32m     20\u001b[0m     \u001b[38;5;28mself\u001b[39m\u001b[38;5;241m.\u001b[39mclient \u001b[38;5;241m=\u001b[39m TTTClient(\u001b[38;5;28mself\u001b[39m\u001b[38;5;241m.\u001b[39mconfig_path)\n",
      "File \u001b[0;32m~/github/gai-labs/gai-dev/gai/gai-lib/gai/lib/ttt/TTTClient.py:84\u001b[0m, in \u001b[0;36mTTTClient.__call__\u001b[0;34m(self, generator, messages, stream, **generator_params)\u001b[0m\n\u001b[1;32m     82\u001b[0m \u001b[38;5;28;01melif\u001b[39;00m generator \u001b[38;5;241m==\u001b[39m \u001b[38;5;124m\"\u001b[39m\u001b[38;5;124mclaude2-100k\u001b[39m\u001b[38;5;124m\"\u001b[39m:\n\u001b[1;32m     83\u001b[0m     \u001b[38;5;28;01mreturn\u001b[39;00m \u001b[38;5;28mself\u001b[39m\u001b[38;5;241m.\u001b[39mclaude_2(messages\u001b[38;5;241m=\u001b[39mmessages, stream\u001b[38;5;241m=\u001b[39mstream, \u001b[38;5;241m*\u001b[39m\u001b[38;5;241m*\u001b[39mgenerator_params)\n\u001b[0;32m---> 84\u001b[0m \u001b[38;5;28;01mreturn\u001b[39;00m \u001b[38;5;28;43mself\u001b[39;49m\u001b[38;5;241;43m.\u001b[39;49m\u001b[43mapi\u001b[49m\u001b[43m(\u001b[49m\u001b[43mgenerator\u001b[49m\u001b[43m,\u001b[49m\u001b[43m \u001b[49m\u001b[43mmessages\u001b[49m\u001b[43m,\u001b[49m\u001b[43m \u001b[49m\u001b[43mstream\u001b[49m\u001b[43m,\u001b[49m\u001b[43m \u001b[49m\u001b[38;5;241;43m*\u001b[39;49m\u001b[38;5;241;43m*\u001b[39;49m\u001b[43mgenerator_params\u001b[49m\u001b[43m)\u001b[49m\n",
      "File \u001b[0;32m~/github/gai-labs/gai-dev/gai/gai-lib/gai/lib/ttt/TTTClient.py:59\u001b[0m, in \u001b[0;36mTTTClient.api\u001b[0;34m(self, generator, messages, stream, **generator_params)\u001b[0m\n\u001b[1;32m     57\u001b[0m             \u001b[38;5;28;01mraise\u001b[39;00m e\n\u001b[1;32m     58\u001b[0m     \u001b[38;5;28;01melse\u001b[39;00m:\n\u001b[0;32m---> 59\u001b[0m         \u001b[38;5;28;01mraise\u001b[39;00m he\n\u001b[1;32m     60\u001b[0m \u001b[38;5;28;01mexcept\u001b[39;00m \u001b[38;5;167;01mException\u001b[39;00m \u001b[38;5;28;01mas\u001b[39;00m e:\n\u001b[1;32m     61\u001b[0m     logger\u001b[38;5;241m.\u001b[39merror(\u001b[38;5;124mf\u001b[39m\u001b[38;5;124m\"\u001b[39m\u001b[38;5;124mTTTClient.api: gaigen error=\u001b[39m\u001b[38;5;132;01m{\u001b[39;00me\u001b[38;5;132;01m}\u001b[39;00m\u001b[38;5;124m\"\u001b[39m)\n",
      "File \u001b[0;32m~/github/gai-labs/gai-dev/gai/gai-lib/gai/lib/ttt/TTTClient.py:45\u001b[0m, in \u001b[0;36mTTTClient.api\u001b[0;34m(self, generator, messages, stream, **generator_params)\u001b[0m\n\u001b[1;32m     43\u001b[0m \u001b[38;5;28;01mtry\u001b[39;00m:\n\u001b[1;32m     44\u001b[0m     url \u001b[38;5;241m=\u001b[39m \u001b[38;5;28mself\u001b[39m\u001b[38;5;241m.\u001b[39m_gen_url(generator)\n\u001b[0;32m---> 45\u001b[0m     response \u001b[38;5;241m=\u001b[39m \u001b[43mhttp_post\u001b[49m\u001b[43m(\u001b[49m\u001b[43murl\u001b[49m\u001b[43m,\u001b[49m\u001b[43m \u001b[49m\u001b[43mdata\u001b[49m\u001b[43m)\u001b[49m\n\u001b[1;32m     46\u001b[0m \u001b[38;5;28;01mexcept\u001b[39;00m ApiException \u001b[38;5;28;01mas\u001b[39;00m he:\n\u001b[1;32m     47\u001b[0m \n\u001b[1;32m     48\u001b[0m     \u001b[38;5;66;03m# Switch to Mistral7b 128k context size\u001b[39;00m\n\u001b[1;32m     49\u001b[0m     \u001b[38;5;28;01mif\u001b[39;00m he\u001b[38;5;241m.\u001b[39mcode \u001b[38;5;241m==\u001b[39m \u001b[38;5;124m\"\u001b[39m\u001b[38;5;124mcontext_length_exceeded\u001b[39m\u001b[38;5;124m\"\u001b[39m:\n",
      "File \u001b[0;32m~/github/gai-labs/gai-dev/gai/gai-lib/gai/common/http_utils.py:81\u001b[0m, in \u001b[0;36mhttp_post\u001b[0;34m(url, data, files)\u001b[0m\n\u001b[1;32m     79\u001b[0m         \u001b[38;5;28;01mreturn\u001b[39;00m response\n\u001b[1;32m     80\u001b[0m     \u001b[38;5;28;01melse\u001b[39;00m:\n\u001b[0;32m---> 81\u001b[0m         \u001b[43m_handle_failed_response_sync\u001b[49m\u001b[43m(\u001b[49m\u001b[43mresponse\u001b[49m\u001b[43m)\u001b[49m\n\u001b[1;32m     83\u001b[0m \u001b[38;5;28;01mexcept\u001b[39;00m requests\u001b[38;5;241m.\u001b[39mexceptions\u001b[38;5;241m.\u001b[39mConnectionError \u001b[38;5;28;01mas\u001b[39;00m e:\n\u001b[1;32m     84\u001b[0m     \u001b[38;5;28;01mraise\u001b[39;00m \u001b[38;5;167;01mException\u001b[39;00m(\u001b[38;5;124m\"\u001b[39m\u001b[38;5;124mConnection Error. Is the service Running?\u001b[39m\u001b[38;5;124m\"\u001b[39m)\n",
      "File \u001b[0;32m~/github/gai-labs/gai-dev/gai/gai-lib/gai/common/http_utils.py:60\u001b[0m, in \u001b[0;36m_handle_failed_response_sync\u001b[0;34m(response)\u001b[0m\n\u001b[1;32m     58\u001b[0m     \u001b[38;5;28;01melse\u001b[39;00m:\n\u001b[1;32m     59\u001b[0m         error_data \u001b[38;5;241m=\u001b[39m response\u001b[38;5;241m.\u001b[39mtext()\n\u001b[0;32m---> 60\u001b[0m \u001b[43m_handle_error_data\u001b[49m\u001b[43m(\u001b[49m\u001b[43merror_data\u001b[49m\u001b[43m,\u001b[49m\u001b[43m \u001b[49m\u001b[43mresponse\u001b[49m\u001b[38;5;241;43m.\u001b[39;49m\u001b[43mstatus_code\u001b[49m\u001b[43m)\u001b[49m\n",
      "File \u001b[0;32m~/github/gai-labs/gai-dev/gai/gai-lib/gai/common/http_utils.py:40\u001b[0m, in \u001b[0;36m_handle_error_data\u001b[0;34m(error_data, status_code)\u001b[0m\n\u001b[1;32m     37\u001b[0m         error_code \u001b[38;5;241m=\u001b[39m error_data[\u001b[38;5;124m'\u001b[39m\u001b[38;5;124mdetail\u001b[39m\u001b[38;5;124m'\u001b[39m][\u001b[38;5;124m'\u001b[39m\u001b[38;5;124mcode\u001b[39m\u001b[38;5;124m'\u001b[39m]\n\u001b[1;32m     39\u001b[0m     \u001b[38;5;28;01mif\u001b[39;00m \u001b[38;5;124m'\u001b[39m\u001b[38;5;124mmessage\u001b[39m\u001b[38;5;124m'\u001b[39m \u001b[38;5;129;01min\u001b[39;00m error_data[\u001b[38;5;124m'\u001b[39m\u001b[38;5;124mdetail\u001b[39m\u001b[38;5;124m'\u001b[39m] \u001b[38;5;129;01mand\u001b[39;00m \u001b[38;5;28misinstance\u001b[39m(error_data[\u001b[38;5;124m'\u001b[39m\u001b[38;5;124mdetail\u001b[39m\u001b[38;5;124m'\u001b[39m][\u001b[38;5;124m'\u001b[39m\u001b[38;5;124mmessage\u001b[39m\u001b[38;5;124m'\u001b[39m], \u001b[38;5;28mstr\u001b[39m):\n\u001b[0;32m---> 40\u001b[0m         \u001b[38;5;28;01mraise\u001b[39;00m ApiException(status_code\u001b[38;5;241m=\u001b[39mstatus_code, code\u001b[38;5;241m=\u001b[39merror_code, message\u001b[38;5;241m=\u001b[39merror_data[\u001b[38;5;124m'\u001b[39m\u001b[38;5;124mdetail\u001b[39m\u001b[38;5;124m'\u001b[39m][\u001b[38;5;124m'\u001b[39m\u001b[38;5;124mmessage\u001b[39m\u001b[38;5;124m'\u001b[39m])\n\u001b[1;32m     42\u001b[0m \u001b[38;5;28;01mif\u001b[39;00m \u001b[38;5;124m'\u001b[39m\u001b[38;5;124mcode\u001b[39m\u001b[38;5;124m'\u001b[39m \u001b[38;5;129;01min\u001b[39;00m error_data:\n\u001b[1;32m     43\u001b[0m     error_code \u001b[38;5;241m=\u001b[39m error_data[\u001b[38;5;124m'\u001b[39m\u001b[38;5;124mcode\u001b[39m\u001b[38;5;124m'\u001b[39m]\n",
      "\u001b[0;31mApiException\u001b[0m: 500: {'code': 'unknown_error', 'message': 'An unexpected error occurred. Please try again later.'}"
     ]
    }
   ],
   "source": [
    "from gai.lib.GGG import GGG\n",
    "ggg=GGG((\"../gai-lib/gai.yml\"))\n",
    "\n",
    "tools = [\n",
    "    {\n",
    "        \"type\": \"function\",\n",
    "        \"function\": {\n",
    "            \"name\": \"rag\",\n",
    "            \"description\": \"The 'rag' function is a specialized tool that allows the AI to perform semantic searches on PM Lee Hsien Loong's 2023 National Day Rally. It can be invoked when the AI needs to retrieve facts or information from the speech. This function utilizes advanced Natural Language Processing (NLP) techniques to understand and match the semantic meaning of the user's query with the content of the speech. This is particularly useful when the user's query relates to specific themes, topics, or statements made during the rally.\",\n",
    "            \"parameters\": {\n",
    "                \"type\": \"object\",\n",
    "                \"properties\": {\n",
    "                    \"search_query\": {\n",
    "                        \"type\": \"[query_1, query_2, query_3]\",\n",
    "                        \"description\": \"An array of search queries to perform a semantic search in the vector database. Each string in the array represents a different way of asking the question. This expands the coverage of the search and increases the chance of finding the best match. For example, instead of using one query like 'economic policies', use multiple variations like ['PM Lee Hsien Loong's economic policies announced at the 2023 National Day Rally', 'What were the economic strategies discussed by PM Lee in 2023 National Day Rally?', 'Economic measures announced by PM Lee in 2023 Rally'].\"\n",
    "                    }\n",
    "                },\n",
    "                \"required\": [\"search_query\"]\n",
    "            }\n",
    "        }\n",
    "    }\n",
    "]\n",
    "\n",
    "\n",
    "# RAG + Function Call\n",
    "import json\n",
    "print(\"> Mistral-7B\")\n",
    "question = \"What did PM Lee say about young seniors?\"\n",
    "\n",
    "messages = [{'role':'user','content':question},{'role':'assistant','content':''}]\n",
    "response = ggg(category=\"ttt\",\n",
    "               messages=messages, \n",
    "               tools=tools,\n",
    "               stream=False,\n",
    "               max_new_tokens=500)\n",
    "result=response.decode()\n",
    "search_query = json.loads(result['arguments'])['search_query'][0]\n",
    "data = {\n",
    "    \"collection_name\": \"demo\",\n",
    "    \"query_texts\": search_query,\n",
    "}\n",
    "response = ggg(\"retrieve\", **data)\n",
    "context = response.text\n",
    "answer = ggg(\"ttt\", messages=f\"user: Based on the context below: <context>{context}</context>, answer the question: {question}\\nassistant:\")\n",
    "for chunk in answer:\n",
    "    print(chunk.decode(), end=\"\", flush=True)\n"
   ]
  }
 ],
 "metadata": {
  "kernelspec": {
   "display_name": "gai-lib",
   "language": "python",
   "name": "python3"
  },
  "language_info": {
   "codemirror_mode": {
    "name": "ipython",
    "version": 3
   },
   "file_extension": ".py",
   "mimetype": "text/x-python",
   "name": "python",
   "nbconvert_exporter": "python",
   "pygments_lexer": "ipython3",
   "version": "3.10.10"
  }
 },
 "nbformat": 4,
 "nbformat_minor": 2
}
