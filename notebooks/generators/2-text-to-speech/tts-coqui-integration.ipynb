{
 "cells": [
  {
   "cell_type": "code",
   "execution_count": 1,
   "metadata": {},
   "outputs": [
    {
     "name": "stdout",
     "output_type": "stream",
     "text": [
      "GENERATING:\n"
     ]
    },
    {
     "name": "stderr",
     "output_type": "stream",
     "text": [
      "2024-06-03 22:04:44 INFO gai.gen.Gaigen:\u001b[32mGaigen: Loading generator xtts-2...\u001b[0m\n",
      "2024-06-03 22:04:44 INFO gai.gen.tts.TTS:\u001b[32mLoading TTS...\u001b[0m\n",
      "2024-06-03 22:04:44 INFO gai.gen.tts.TTS:\u001b[32mUsing tts model XTTS_TTS...\u001b[0m\n",
      "2024-06-03 22:04:44 INFO gai.gen.tts.XTTS_TTS:\u001b[32mLoading XTTS...\u001b[0m\n"
     ]
    },
    {
     "name": "stdout",
     "output_type": "stream",
     "text": [
      "Loading TTS...\n",
      "Loading XTTS...\n"
     ]
    },
    {
     "name": "stderr",
     "output_type": "stream",
     "text": [
      "/home/roylai/.local/lib/python3.10/site-packages/tqdm/auto.py:21: TqdmWarning: IProgress not found. Please update jupyter and ipywidgets. See https://ipywidgets.readthedocs.io/en/stable/user_install.html\n",
      "  from .autonotebook import tqdm as notebook_tqdm\n"
     ]
    }
   ],
   "source": [
    "## Coqui xTTS Text-to-Speech\n",
    "\n",
    "print(\"GENERATING:\")\n",
    "from gai.gen import Gaigen\n",
    "gen = Gaigen.GetInstance().load('xtts-2')\n",
    "response = gen.create(\n",
    "  voice=\"Vjollca Johnnie\",\n",
    "  input=\"The definition of insanity is doing the same thing over and over and expecting different results.\"\n",
    ")\n",
    "from IPython.display import Audio\n",
    "Audio(response, rate=24000)"
   ]
  }
 ],
 "metadata": {
  "kernelspec": {
   "display_name": "TTS",
   "language": "python",
   "name": "python3"
  },
  "language_info": {
   "codemirror_mode": {
    "name": "ipython",
    "version": 3
   },
   "file_extension": ".py",
   "mimetype": "text/x-python",
   "name": "python",
   "nbconvert_exporter": "python",
   "pygments_lexer": "ipython3",
   "version": "3.10.10"
  }
 },
 "nbformat": 4,
 "nbformat_minor": 2
}
