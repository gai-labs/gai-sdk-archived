{
 "cells": [
  {
   "cell_type": "markdown",
   "metadata": {},
   "source": [
    "# Gai/Gen: Retrieval-Augmented-Generation (RAG)\n",
    "\n",
    "## 1. Note\n",
    "\n",
    "The following examples has been tested on the following environment:\n",
    "\n",
    "-   NVidia GeForce RTX 2060 6GB\n",
    "-   Windows 11 + WSL2\n",
    "-   Ubuntu 22.04\n",
    "-   Python 3.10\n",
    "-   CUDA Toolkit 11.8\n",
    "\n",
    "## 2. Create Virtual Environment and Install Dependencies\n",
    "\n",
    "We will create a seperate virtual environment for this to avoid conflicting dependencies that each underlying model requires.\n",
    "\n",
    "```sh\n",
    "sudo apt update -y && sudo apt install ffmpeg git git-lfs -y\n",
    "conda create -n RAG python=3.10.10 -y\n",
    "conda activate RAG\n",
    "pip install -e \".[RAG]\"\n",
    "```"
   ]
  },
  {
   "cell_type": "markdown",
   "metadata": {},
   "source": [
    "## 3. Install Model"
   ]
  },
  {
   "cell_type": "code",
   "execution_count": null,
   "metadata": {},
   "outputs": [],
   "source": [
    "%%bash\n",
    "huggingface-cli download hkunlp/instructor-large \\\n",
    "        --local-dir ~/gai/models/instructor-large \\\n",
    "        --local-dir-use-symlinks False"
   ]
  },
  {
   "cell_type": "markdown",
   "metadata": {},
   "source": [
    "## 4. Example"
   ]
  },
  {
   "cell_type": "markdown",
   "metadata": {},
   "source": [
    "The following examples shows the use of 2 models for handling index and retrieval: the `Instructor` model running locally and the `OpenAI Embedding` model.\n",
    "Both model uses different embedding dimensions, ie. 768 and 1536 respectively. Therefore, the 'demo' collection needs to be reset before running each demo."
   ]
  },
  {
   "cell_type": "markdown",
   "metadata": {},
   "source": [
    "### 1. Index and Retrieve Text File using Instructor Model"
   ]
  },
  {
   "cell_type": "code",
   "execution_count": 1,
   "metadata": {},
   "outputs": [
    {
     "name": "stderr",
     "output_type": "stream",
     "text": [
      "/home/roylai/.local/lib/python3.10/site-packages/tqdm/auto.py:21: TqdmWarning: IProgress not found. Please update jupyter and ipywidgets. See https://ipywidgets.readthedocs.io/en/stable/user_install.html\n",
      "  from .autonotebook import tqdm as notebook_tqdm\n",
      "2024-05-31 16:24:48 INFO gai.gen.rag.dalc.RAGVSRepository:\u001b[32mRAGVSRepository: in_memory\u001b[0m\n"
     ]
    },
    {
     "name": "stdout",
     "output_type": "stream",
     "text": [
      "load INSTRUCTOR_Transformer\n"
     ]
    },
    {
     "name": "stderr",
     "output_type": "stream",
     "text": [
      "2024-05-31 16:25:01 INFO gai.gen.rag.RAG:\u001b[32mrag.index_document_header_async: request started. collection_name=demo file_path=./pm_long_speech_2023.txt title=2023 National Day Rally Speech source=https://www.pmo.gov.sg/Newsroom/2023-National-Day-Rally-Speech abstract=None authors=None publisher=None published_date=None comments=None keywords=None\u001b[0m\n",
      "2024-05-31 16:25:01 DEBUG gai.gen.rag.RAG:\u001b[35mrag.index_document_header_async: creating doc header with id=PwR6VmXqAfwjn84ZM6dePsLWTldPv8cNS5dESYlsY2U.\u001b[0m\n",
      "2024-05-31 16:25:01 DEBUG gai.gen.rag.RAG:\u001b[35mrag.index_document_header_async: document_header created. id=PwR6VmXqAfwjn84ZM6dePsLWTldPv8cNS5dESYlsY2U\u001b[0m\n",
      "2024-05-31 16:25:01 INFO gai.gen.rag.RAG:\u001b[32mrag.index_document_split_async: splitting chunks\u001b[0m\n",
      "2024-05-31 16:25:01 INFO gai.gen.rag.RAG:\u001b[32mrag.index_document_split_async: chunkgroup created. chunkgroup_id=ffdc954e-0bc1-4a08-8898-cd7798675b9c\u001b[0m\n"
     ]
    },
    {
     "name": "stdout",
     "output_type": "stream",
     "text": [
      "max_seq_length  512\n"
     ]
    },
    {
     "name": "stderr",
     "output_type": "stream",
     "text": [
      "100%|██████████| 66/66 [00:00<00:00, 688.12it/s]\n",
      "2024-05-31 16:25:01 INFO gai.gen.rag.RAG:\u001b[32mrag.index_document_split_async: chunks created. count=66\u001b[0m\n",
      "2024-05-31 16:25:01 INFO gai.gen.rag.RAG:\u001b[32mRAG.index_document_index_async: Start indexing...\u001b[0m\n",
      "0it [00:00, ?it/s]2024-05-31 16:25:03 DEBUG gai.gen.rag.RAG:\u001b[35mRAG.index_document_index_async: Indexed 1/66 chunk 3fa2e943-0178-443c-a028-2777a40abbed into collection demo\u001b[0m\n",
      "1it [00:01,  1.74s/it]2024-05-31 16:25:03 DEBUG gai.gen.rag.RAG:\u001b[35mRAG.index_document_index_async: Indexed 2/66 chunk 7aee27c2-4aa4-4c92-b4de-934cb6eb1529 into collection demo\u001b[0m\n",
      "2024-05-31 16:25:03 DEBUG gai.gen.rag.RAG:\u001b[35mRAG.index_document_index_async: Indexed 3/66 chunk 28f3790a-5774-4e3e-900d-ed737f7892c4 into collection demo\u001b[0m\n",
      "2024-05-31 16:25:03 DEBUG gai.gen.rag.RAG:\u001b[35mRAG.index_document_index_async: Indexed 4/66 chunk f03a384f-a161-4d9a-9b3a-cb0ee8a11718 into collection demo\u001b[0m\n",
      "4it [00:01,  2.70it/s]2024-05-31 16:25:03 DEBUG gai.gen.rag.RAG:\u001b[35mRAG.index_document_index_async: Indexed 5/66 chunk 4ae85b31-4a99-4e7f-a7c9-1a19e689cdd2 into collection demo\u001b[0m\n",
      "2024-05-31 16:25:03 DEBUG gai.gen.rag.RAG:\u001b[35mRAG.index_document_index_async: Indexed 6/66 chunk a8065c40-d175-492b-834d-6cf42bf7b7af into collection demo\u001b[0m\n",
      "2024-05-31 16:25:03 DEBUG gai.gen.rag.RAG:\u001b[35mRAG.index_document_index_async: Indexed 7/66 chunk 7ec1ac9b-bc65-4ea2-9b9e-eba9c63d3fc6 into collection demo\u001b[0m\n",
      "7it [00:02,  5.12it/s]2024-05-31 16:25:03 DEBUG gai.gen.rag.RAG:\u001b[35mRAG.index_document_index_async: Indexed 8/66 chunk 4a4de1c2-93dc-4d87-9d0a-b281a12af639 into collection demo\u001b[0m\n",
      "2024-05-31 16:25:03 DEBUG gai.gen.rag.RAG:\u001b[35mRAG.index_document_index_async: Indexed 9/66 chunk ed77eaea-ec5f-469f-a948-c3d1df98454c into collection demo\u001b[0m\n",
      "2024-05-31 16:25:03 DEBUG gai.gen.rag.RAG:\u001b[35mRAG.index_document_index_async: Indexed 10/66 chunk 4a42ce1e-bfa8-4d8a-9bd3-db06fc4b9d6f into collection demo\u001b[0m\n",
      "10it [00:02,  7.63it/s]2024-05-31 16:25:03 DEBUG gai.gen.rag.RAG:\u001b[35mRAG.index_document_index_async: Indexed 11/66 chunk d5f1d3f7-4c56-4e73-8c85-c4204f2f4997 into collection demo\u001b[0m\n",
      "2024-05-31 16:25:04 DEBUG gai.gen.rag.RAG:\u001b[35mRAG.index_document_index_async: Indexed 12/66 chunk f9b6fd22-6cf7-4266-b339-b04c77c5cd17 into collection demo\u001b[0m\n",
      "2024-05-31 16:25:04 DEBUG gai.gen.rag.RAG:\u001b[35mRAG.index_document_index_async: Indexed 13/66 chunk e893a769-b902-45a8-8ad6-054bf3ca5665 into collection demo\u001b[0m\n",
      "13it [00:02, 10.11it/s]2024-05-31 16:25:04 DEBUG gai.gen.rag.RAG:\u001b[35mRAG.index_document_index_async: Indexed 14/66 chunk bccb5871-695a-4560-a513-1ee9df06011c into collection demo\u001b[0m\n",
      "2024-05-31 16:25:04 DEBUG gai.gen.rag.RAG:\u001b[35mRAG.index_document_index_async: Indexed 15/66 chunk 110c93ba-7bd2-4b14-998d-dc9e221ea702 into collection demo\u001b[0m\n",
      "2024-05-31 16:25:04 DEBUG gai.gen.rag.RAG:\u001b[35mRAG.index_document_index_async: Indexed 16/66 chunk 022c4880-03fa-4b7d-a2bd-c9e6858b67d4 into collection demo\u001b[0m\n",
      "16it [00:02, 12.20it/s]2024-05-31 16:25:04 DEBUG gai.gen.rag.RAG:\u001b[35mRAG.index_document_index_async: Indexed 17/66 chunk 1d78aeb2-b513-4717-a6c3-0ca0fc08f5ea into collection demo\u001b[0m\n",
      "2024-05-31 16:25:04 DEBUG gai.gen.rag.RAG:\u001b[35mRAG.index_document_index_async: Indexed 18/66 chunk efd3bba7-cfa0-4626-b7a8-6e53a4ab06c5 into collection demo\u001b[0m\n",
      "18it [00:02, 13.08it/s]2024-05-31 16:25:04 DEBUG gai.gen.rag.RAG:\u001b[35mRAG.index_document_index_async: Indexed 19/66 chunk 4142213f-6955-4f71-a15d-51f16707b499 into collection demo\u001b[0m\n",
      "2024-05-31 16:25:04 DEBUG gai.gen.rag.RAG:\u001b[35mRAG.index_document_index_async: Indexed 20/66 chunk ae878554-a4b5-48ac-b9e1-44c4fcf08d9d into collection demo\u001b[0m\n",
      "2024-05-31 16:25:04 DEBUG gai.gen.rag.RAG:\u001b[35mRAG.index_document_index_async: Indexed 21/66 chunk d652d97b-1fdf-49ee-bcb4-a159ec6c6c8f into collection demo\u001b[0m\n",
      "21it [00:02, 15.40it/s]2024-05-31 16:25:04 DEBUG gai.gen.rag.RAG:\u001b[35mRAG.index_document_index_async: Indexed 22/66 chunk f0079a0c-e9de-413b-b5af-e6cd4419d879 into collection demo\u001b[0m\n",
      "2024-05-31 16:25:04 DEBUG gai.gen.rag.RAG:\u001b[35mRAG.index_document_index_async: Indexed 23/66 chunk 5320df98-5d3b-4fb3-b9f5-de120fdcad11 into collection demo\u001b[0m\n",
      "2024-05-31 16:25:04 DEBUG gai.gen.rag.RAG:\u001b[35mRAG.index_document_index_async: Indexed 24/66 chunk 93a92b31-5641-4aec-9613-03c16cf30e0a into collection demo\u001b[0m\n",
      "24it [00:02, 16.87it/s]2024-05-31 16:25:04 DEBUG gai.gen.rag.RAG:\u001b[35mRAG.index_document_index_async: Indexed 25/66 chunk 3fae1597-e7cc-4d99-a888-46ff9dff1f78 into collection demo\u001b[0m\n",
      "2024-05-31 16:25:04 DEBUG gai.gen.rag.RAG:\u001b[35mRAG.index_document_index_async: Indexed 26/66 chunk 668bcef6-fc05-4702-bed0-c9b62baa1eab into collection demo\u001b[0m\n",
      "2024-05-31 16:25:04 DEBUG gai.gen.rag.RAG:\u001b[35mRAG.index_document_index_async: Indexed 27/66 chunk 170304f1-50c7-4d55-98ef-8fdb0f3fd1b3 into collection demo\u001b[0m\n",
      "27it [00:03, 17.70it/s]2024-05-31 16:25:04 DEBUG gai.gen.rag.RAG:\u001b[35mRAG.index_document_index_async: Indexed 28/66 chunk fedf26e2-b47e-469b-b246-132434e52ea4 into collection demo\u001b[0m\n",
      "2024-05-31 16:25:04 DEBUG gai.gen.rag.RAG:\u001b[35mRAG.index_document_index_async: Indexed 29/66 chunk 185843c2-cc21-4d67-bcd8-af7463dc8cf5 into collection demo\u001b[0m\n",
      "2024-05-31 16:25:04 DEBUG gai.gen.rag.RAG:\u001b[35mRAG.index_document_index_async: Indexed 30/66 chunk 78eb3681-dca9-4d0d-84e5-fe0867ac3e87 into collection demo\u001b[0m\n",
      "30it [00:03, 18.42it/s]2024-05-31 16:25:04 DEBUG gai.gen.rag.RAG:\u001b[35mRAG.index_document_index_async: Indexed 31/66 chunk 41c68113-0038-48a5-85a2-53fdd4546dcc into collection demo\u001b[0m\n",
      "2024-05-31 16:25:05 DEBUG gai.gen.rag.RAG:\u001b[35mRAG.index_document_index_async: Indexed 32/66 chunk 2b465371-e026-49f2-8ca8-c44ac54a3952 into collection demo\u001b[0m\n",
      "2024-05-31 16:25:05 DEBUG gai.gen.rag.RAG:\u001b[35mRAG.index_document_index_async: Indexed 33/66 chunk ea3487e2-c149-4f29-883f-fd92fad48cab into collection demo\u001b[0m\n",
      "33it [00:03, 18.96it/s]2024-05-31 16:25:05 DEBUG gai.gen.rag.RAG:\u001b[35mRAG.index_document_index_async: Indexed 34/66 chunk bb8e7cb8-ac8d-4d13-a331-a352be8fd012 into collection demo\u001b[0m\n",
      "2024-05-31 16:25:05 DEBUG gai.gen.rag.RAG:\u001b[35mRAG.index_document_index_async: Indexed 35/66 chunk e9e99123-1122-467a-87f5-3ae00d583926 into collection demo\u001b[0m\n",
      "2024-05-31 16:25:05 DEBUG gai.gen.rag.RAG:\u001b[35mRAG.index_document_index_async: Indexed 36/66 chunk 02093377-3362-4294-ba67-f762b8cb5c59 into collection demo\u001b[0m\n",
      "36it [00:03, 19.15it/s]2024-05-31 16:25:05 DEBUG gai.gen.rag.RAG:\u001b[35mRAG.index_document_index_async: Indexed 37/66 chunk e04e8d60-042a-4919-9ae7-cfc904d6b08b into collection demo\u001b[0m\n",
      "2024-05-31 16:25:05 DEBUG gai.gen.rag.RAG:\u001b[35mRAG.index_document_index_async: Indexed 38/66 chunk be0b4300-bcef-48d9-bb9f-752e1dd22b7d into collection demo\u001b[0m\n",
      "2024-05-31 16:25:05 DEBUG gai.gen.rag.RAG:\u001b[35mRAG.index_document_index_async: Indexed 39/66 chunk cb7b7084-a7f3-4efe-8da1-213e3136157f into collection demo\u001b[0m\n",
      "39it [00:03, 19.71it/s]2024-05-31 16:25:05 DEBUG gai.gen.rag.RAG:\u001b[35mRAG.index_document_index_async: Indexed 40/66 chunk ea29db48-27ed-4001-aeb9-0d359f6790c7 into collection demo\u001b[0m\n",
      "2024-05-31 16:25:05 DEBUG gai.gen.rag.RAG:\u001b[35mRAG.index_document_index_async: Indexed 41/66 chunk 4ec06ca7-cb32-44a5-92e9-9eccbd635d8f into collection demo\u001b[0m\n",
      "2024-05-31 16:25:05 DEBUG gai.gen.rag.RAG:\u001b[35mRAG.index_document_index_async: Indexed 42/66 chunk 233db310-348d-4ef5-86cd-795c49bb9481 into collection demo\u001b[0m\n",
      "42it [00:03, 19.82it/s]2024-05-31 16:25:05 DEBUG gai.gen.rag.RAG:\u001b[35mRAG.index_document_index_async: Indexed 43/66 chunk 49ef2edc-273e-4aaf-9723-be870dae16d9 into collection demo\u001b[0m\n",
      "2024-05-31 16:25:05 DEBUG gai.gen.rag.RAG:\u001b[35mRAG.index_document_index_async: Indexed 44/66 chunk a361ca30-6c43-4730-8b62-b3f7a4971ebf into collection demo\u001b[0m\n",
      "2024-05-31 16:25:05 DEBUG gai.gen.rag.RAG:\u001b[35mRAG.index_document_index_async: Indexed 45/66 chunk 12852a13-80bf-4512-89e2-050c159d4f8c into collection demo\u001b[0m\n",
      "45it [00:03, 19.79it/s]2024-05-31 16:25:05 DEBUG gai.gen.rag.RAG:\u001b[35mRAG.index_document_index_async: Indexed 46/66 chunk 46bc582a-c29f-4145-a035-be715456e8f1 into collection demo\u001b[0m\n",
      "2024-05-31 16:25:05 DEBUG gai.gen.rag.RAG:\u001b[35mRAG.index_document_index_async: Indexed 47/66 chunk c619b0ee-a1cb-4110-8a93-0b13194005c5 into collection demo\u001b[0m\n",
      "2024-05-31 16:25:05 DEBUG gai.gen.rag.RAG:\u001b[35mRAG.index_document_index_async: Indexed 48/66 chunk aad234a6-879b-4591-b8d3-a3d75583f331 into collection demo\u001b[0m\n",
      "48it [00:04, 20.18it/s]2024-05-31 16:25:05 DEBUG gai.gen.rag.RAG:\u001b[35mRAG.index_document_index_async: Indexed 49/66 chunk 84153663-1808-429a-a778-9cbc3db0a02f into collection demo\u001b[0m\n",
      "2024-05-31 16:25:05 DEBUG gai.gen.rag.RAG:\u001b[35mRAG.index_document_index_async: Indexed 50/66 chunk cb23e81b-e8b8-4b61-850e-8c460d3fab8d into collection demo\u001b[0m\n",
      "2024-05-31 16:25:05 DEBUG gai.gen.rag.RAG:\u001b[35mRAG.index_document_index_async: Indexed 51/66 chunk 0fe414dd-cd91-4c34-86d8-ab37817463be into collection demo\u001b[0m\n",
      "51it [00:04, 19.92it/s]2024-05-31 16:25:06 DEBUG gai.gen.rag.RAG:\u001b[35mRAG.index_document_index_async: Indexed 52/66 chunk 9b9efd81-343a-4969-bd13-ab2d68b2c81d into collection demo\u001b[0m\n",
      "2024-05-31 16:25:06 DEBUG gai.gen.rag.RAG:\u001b[35mRAG.index_document_index_async: Indexed 53/66 chunk c1113a31-4acd-4a42-a336-3b56a1aba119 into collection demo\u001b[0m\n",
      "2024-05-31 16:25:06 DEBUG gai.gen.rag.RAG:\u001b[35mRAG.index_document_index_async: Indexed 54/66 chunk 34b2b957-23c5-4b05-b463-ee5b7febc0d1 into collection demo\u001b[0m\n",
      "54it [00:04, 19.59it/s]2024-05-31 16:25:06 DEBUG gai.gen.rag.RAG:\u001b[35mRAG.index_document_index_async: Indexed 55/66 chunk d6231004-c505-48d5-b2e6-889b0ee208e2 into collection demo\u001b[0m\n",
      "2024-05-31 16:25:06 DEBUG gai.gen.rag.RAG:\u001b[35mRAG.index_document_index_async: Indexed 56/66 chunk 59b3cb48-eac8-45f2-aed9-30b297eee4f7 into collection demo\u001b[0m\n",
      "2024-05-31 16:25:06 DEBUG gai.gen.rag.RAG:\u001b[35mRAG.index_document_index_async: Indexed 57/66 chunk b352c1b8-0561-4612-adfc-9c5fd14d9a59 into collection demo\u001b[0m\n",
      "57it [00:04, 20.14it/s]2024-05-31 16:25:06 DEBUG gai.gen.rag.RAG:\u001b[35mRAG.index_document_index_async: Indexed 58/66 chunk 546296eb-f723-4f29-bbaf-9bc8e6a88d88 into collection demo\u001b[0m\n",
      "2024-05-31 16:25:06 DEBUG gai.gen.rag.RAG:\u001b[35mRAG.index_document_index_async: Indexed 59/66 chunk d7dfc054-ce9a-4a25-ba6e-a56840f3542e into collection demo\u001b[0m\n",
      "2024-05-31 16:25:06 DEBUG gai.gen.rag.RAG:\u001b[35mRAG.index_document_index_async: Indexed 60/66 chunk 335d6bda-252d-43e1-8dda-936b5be095d2 into collection demo\u001b[0m\n",
      "60it [00:04, 19.99it/s]2024-05-31 16:25:06 DEBUG gai.gen.rag.RAG:\u001b[35mRAG.index_document_index_async: Indexed 61/66 chunk 9673f5e2-7960-4986-b2d8-54ef67cd9c27 into collection demo\u001b[0m\n",
      "2024-05-31 16:25:06 DEBUG gai.gen.rag.RAG:\u001b[35mRAG.index_document_index_async: Indexed 62/66 chunk 9a568a86-32df-4b79-a653-0564226b6753 into collection demo\u001b[0m\n",
      "2024-05-31 16:25:06 DEBUG gai.gen.rag.RAG:\u001b[35mRAG.index_document_index_async: Indexed 63/66 chunk ea123f0e-34a9-4bf4-a6d4-f5a368667afd into collection demo\u001b[0m\n",
      "63it [00:04, 20.36it/s]2024-05-31 16:25:06 DEBUG gai.gen.rag.RAG:\u001b[35mRAG.index_document_index_async: Indexed 64/66 chunk 28abce72-8476-4cbc-b086-f42e101f6700 into collection demo\u001b[0m\n",
      "2024-05-31 16:25:06 DEBUG gai.gen.rag.RAG:\u001b[35mRAG.index_document_index_async: Indexed 65/66 chunk fb1efc9f-c6ff-46be-b092-42fe2b8be4e9 into collection demo\u001b[0m\n",
      "2024-05-31 16:25:06 DEBUG gai.gen.rag.RAG:\u001b[35mRAG.index_document_index_async: Indexed 66/66 chunk 433abe37-e7e7-43b3-a8af-0e5f3e947aaf into collection demo\u001b[0m\n",
      "66it [00:04, 13.36it/s]\n",
      "2024-05-31 16:25:06 INFO gai.gen.rag.RAG:\u001b[32mRAG.index_async: indexing...done\u001b[0m\n",
      "2024-05-31 16:25:06 INFO gai.gen.rag.RAG:\u001b[32mRAG.retrieve: Retrieving by query Who are the young seniors?...\u001b[0m\n",
      "2024-05-31 16:25:06 INFO gai.gen.rag.dalc.RAGVSRepository:\u001b[32mRetrieving by query Who are the young seniors?...\u001b[0m\n",
      "2024-05-31 16:25:06 DEBUG gai.gen.rag.dalc.RAGVSRepository:\u001b[35mresult=[['93a92b31-5641-4aec-9613-03c16cf30e0a', 'a8065c40-d175-492b-834d-6cf42bf7b7af', '110c93ba-7bd2-4b14-998d-dc9e221ea702']]\u001b[0m\n"
     ]
    },
    {
     "data": {
      "text/plain": [
       "[{'documents': 'Especially for those in their 50s and early 60s. Let us call them the “Young Seniors”. \"Young”, because you are younger than the Pioneer Generation and the Merdeka Generation; “Seniors”, because you will soon retire, or maybe you have recently retired.',\n",
       "  'metadatas': {'Abstract': '',\n",
       "   'ChunkGroupId': 'ffdc954e-0bc1-4a08-8898-cd7798675b9c',\n",
       "   'DocumentId': 'PwR6VmXqAfwjn84ZM6dePsLWTldPv8cNS5dESYlsY2U',\n",
       "   'Keywords': '',\n",
       "   'PublishedDate': '',\n",
       "   'Source': 'https://www.pmo.gov.sg/Newsroom/2023-National-Day-Rally-Speech',\n",
       "   'Title': '2023 National Day Rally Speech'},\n",
       "  'distances': 0.09020859003067017,\n",
       "  'ids': '93a92b31-5641-4aec-9613-03c16cf30e0a'},\n",
       " {'documents': 'Young Seniors are in a unique position today. Compared to the Pioneer and Merdeka Generations, you have benefited more from Singapore’s growth, and generally done better in life. But compared to workers younger than you, in their 30s and 40s today, you have generally earned less over your lifetimes. You have also had less time to benefit from improvements to the CPF system, and so have built up less retirement savings. Young Seniors are also in a particularly sandwiched phase of your lives. You have to shoulder the responsibility of caring for both the young and old in your families. Your kids may be young adults, but often are not yet fully independent and still live in the same household. Many of you Young Seniors also have elderly parents at home, who may be beset with the infirmities of old age. You have to shuttle them to medical appointments and hospital visits, plus attend to their everyday needs. All this, while watching your own health, because you are not so youthful',\n",
       "  'metadatas': {'Abstract': '',\n",
       "   'ChunkGroupId': 'ffdc954e-0bc1-4a08-8898-cd7798675b9c',\n",
       "   'DocumentId': 'PwR6VmXqAfwjn84ZM6dePsLWTldPv8cNS5dESYlsY2U',\n",
       "   'Keywords': '',\n",
       "   'PublishedDate': '',\n",
       "   'Source': 'https://www.pmo.gov.sg/Newsroom/2023-National-Day-Rally-Speech',\n",
       "   'Title': '2023 National Day Rally Speech'},\n",
       "  'distances': 0.11518943309783936,\n",
       "  'ids': 'a8065c40-d175-492b-834d-6cf42bf7b7af'},\n",
       " {'documents': 'to their everyday needs. All this, while watching your own health, because you are not so youthful yourselves. Responsibilities on all these fronts multiply your burdens. So, as Young Seniors, you are understandably anxious about your retirement needs. Beyond the daily cost of living pressures, you know that retirement is creeping up on you. You wonder: Will I have enough to get by? Can I cope? But do not worry – the Government will help you. You will not be left behind.',\n",
       "  'metadatas': {'Abstract': '',\n",
       "   'ChunkGroupId': 'ffdc954e-0bc1-4a08-8898-cd7798675b9c',\n",
       "   'DocumentId': 'PwR6VmXqAfwjn84ZM6dePsLWTldPv8cNS5dESYlsY2U',\n",
       "   'Keywords': '',\n",
       "   'PublishedDate': '',\n",
       "   'Source': 'https://www.pmo.gov.sg/Newsroom/2023-National-Day-Rally-Speech',\n",
       "   'Title': '2023 National Day Rally Speech'},\n",
       "  'distances': 0.11691617965698242,\n",
       "  'ids': '110c93ba-7bd2-4b14-998d-dc9e221ea702'}]"
      ]
     },
     "execution_count": 1,
     "metadata": {},
     "output_type": "execute_result"
    }
   ],
   "source": [
    "from gai.gen.rag import RAG\n",
    "rag = RAG(generator_name=\"rag\")\n",
    "rag.unload()\n",
    "rag.load()\n",
    "\n",
    "# Index\n",
    "doc_id = await rag.index_async(\n",
    "    collection_name='demo',\n",
    "    file_path=\"./pm_long_speech_2023.txt\",\n",
    "    file_type='txt',\n",
    "    source=\"https://www.pmo.gov.sg/Newsroom/2023-National-Day-Rally-Speech\",\n",
    "    title=\"2023 National Day Rally Speech\",\n",
    "    )\n",
    "\n",
    "# Retrieve\n",
    "rag.retrieve(collection_name=\"demo\",query_texts=\"Who are the young seniors?\")"
   ]
  },
  {
   "cell_type": "markdown",
   "metadata": {},
   "source": [
    "### 2. Index and Retrieve PDF using OpenAI Embedding\n",
    "\n",
    "This example uses OpenAI Embedding model to index and retrieve file remotely in \"demo\" collection.\n",
    "OpenAI uses 1536 dimension embeddings."
   ]
  },
  {
   "cell_type": "code",
   "execution_count": 3,
   "metadata": {},
   "outputs": [
    {
     "name": "stderr",
     "output_type": "stream",
     "text": [
      "2024-05-31 14:50:13 INFO gai.gen.rag.dalc.RAGVSRepository:\u001b[32mRAGVSRepository: in_memory\u001b[0m\n",
      "2024-05-31 14:50:13 INFO gai.gen.rag.RAG:\u001b[32mDeleting demo...\u001b[0m\n",
      "2024-05-31 14:50:14 INFO gai.gen.rag.RAG:\u001b[32mrag.index_document_header_async: request started. collection_name=demo file_path=./attention-is-all-you-need.pdf title=Attention is All You Need source=arxiv.org abstract=None authors=None publisher=None published_date=None comments=None keywords=None\u001b[0m\n",
      "2024-05-31 14:50:16 DEBUG gai.gen.rag.RAG:\u001b[35mrag.index_document_header_async: creating doc header with id=-Sc9eXzUiSlaFV3qEDaKam33Boamkvv4tea8YPsjpy0.\u001b[0m\n",
      "2024-05-31 14:50:19 DEBUG gai.gen.rag.RAG:\u001b[35mrag.index_document_header_async: document_header created. id=-Sc9eXzUiSlaFV3qEDaKam33Boamkvv4tea8YPsjpy0\u001b[0m\n",
      "2024-05-31 14:50:19 INFO gai.gen.rag.RAG:\u001b[32mrag.index_document_split_async: splitting chunks\u001b[0m\n",
      "2024-05-31 14:50:21 INFO gai.gen.rag.RAG:\u001b[32mrag.index_document_split_async: chunkgroup created. chunkgroup_id=74b0f4f7-2ff7-4e9e-8b2f-cca56d8f89e6\u001b[0m\n",
      "100%|██████████| 44/44 [00:00<00:00, 594.75it/s]\n",
      "2024-05-31 14:50:21 INFO gai.gen.rag.RAG:\u001b[32mrag.index_document_split_async: chunks created. count=44\u001b[0m\n",
      "2024-05-31 14:50:21 INFO gai.gen.rag.RAG:\u001b[32mRAG.index_document_index_async: Start indexing...\u001b[0m\n",
      "0it [00:00, ?it/s]2024-05-31 14:50:22 DEBUG gai.gen.rag.RAG:\u001b[35mRAG.index_document_index_async: Indexed 1/44 chunk e11fd77d-b43a-41be-8004-32ec8887247c into collection demo\u001b[0m\n",
      "1it [00:00,  2.95it/s]2024-05-31 14:50:22 DEBUG gai.gen.rag.RAG:\u001b[35mRAG.index_document_index_async: Indexed 2/44 chunk a1b1d1a7-653d-4bdb-9e2e-8a006c75fdf3 into collection demo\u001b[0m\n",
      "2it [00:00,  3.11it/s]2024-05-31 14:50:22 DEBUG gai.gen.rag.RAG:\u001b[35mRAG.index_document_index_async: Indexed 3/44 chunk ab1c6d97-3512-4bfb-8b15-6905e7386389 into collection demo\u001b[0m\n",
      "3it [00:00,  3.13it/s]2024-05-31 14:50:22 DEBUG gai.gen.rag.RAG:\u001b[35mRAG.index_document_index_async: Indexed 4/44 chunk 8f178e76-4086-4bf7-a8d9-ee3aa4d07755 into collection demo\u001b[0m\n",
      "4it [00:01,  3.13it/s]2024-05-31 14:50:23 DEBUG gai.gen.rag.RAG:\u001b[35mRAG.index_document_index_async: Indexed 5/44 chunk 97631aff-4872-4ec1-a688-72549a10fcbe into collection demo\u001b[0m\n",
      "5it [00:01,  3.16it/s]2024-05-31 14:50:23 DEBUG gai.gen.rag.RAG:\u001b[35mRAG.index_document_index_async: Indexed 6/44 chunk acef1c05-7d71-4b97-bcd8-f1931c997505 into collection demo\u001b[0m\n",
      "6it [00:02,  2.69it/s]2024-05-31 14:50:24 DEBUG gai.gen.rag.RAG:\u001b[35mRAG.index_document_index_async: Indexed 7/44 chunk 6973d449-cd8f-4a04-8fec-5f5c4cc3457e into collection demo\u001b[0m\n",
      "7it [00:02,  2.76it/s]2024-05-31 14:50:24 DEBUG gai.gen.rag.RAG:\u001b[35mRAG.index_document_index_async: Indexed 8/44 chunk fee64f3d-6067-4b9e-8205-4c5bc295d590 into collection demo\u001b[0m\n",
      "8it [00:02,  2.89it/s]2024-05-31 14:50:24 DEBUG gai.gen.rag.RAG:\u001b[35mRAG.index_document_index_async: Indexed 9/44 chunk 12e5b1cf-5dca-4c56-9c2d-57f3cb5a1f90 into collection demo\u001b[0m\n",
      "9it [00:03,  3.05it/s]2024-05-31 14:50:25 DEBUG gai.gen.rag.RAG:\u001b[35mRAG.index_document_index_async: Indexed 10/44 chunk d6509d3f-cc44-4720-83e5-1b81f26448f0 into collection demo\u001b[0m\n",
      "10it [00:03,  3.11it/s]2024-05-31 14:50:25 DEBUG gai.gen.rag.RAG:\u001b[35mRAG.index_document_index_async: Indexed 11/44 chunk 79eb7169-c9e1-4fb0-affb-018cf988ad03 into collection demo\u001b[0m\n",
      "11it [00:03,  2.94it/s]2024-05-31 14:50:25 DEBUG gai.gen.rag.RAG:\u001b[35mRAG.index_document_index_async: Indexed 12/44 chunk 4fafd8e2-0a5c-499a-bc2b-caa4591c6af6 into collection demo\u001b[0m\n",
      "12it [00:04,  3.04it/s]2024-05-31 14:50:26 DEBUG gai.gen.rag.RAG:\u001b[35mRAG.index_document_index_async: Indexed 13/44 chunk c83fd974-4441-43e1-8cb1-302412710af5 into collection demo\u001b[0m\n",
      "13it [00:04,  3.00it/s]2024-05-31 14:50:26 DEBUG gai.gen.rag.RAG:\u001b[35mRAG.index_document_index_async: Indexed 14/44 chunk 467debfc-1a21-48bd-9dbb-7e63514c8cdb into collection demo\u001b[0m\n",
      "14it [00:04,  3.00it/s]2024-05-31 14:50:26 DEBUG gai.gen.rag.RAG:\u001b[35mRAG.index_document_index_async: Indexed 15/44 chunk 6525e982-6777-4db6-801d-f6333396b83b into collection demo\u001b[0m\n",
      "15it [00:04,  3.06it/s]2024-05-31 14:50:27 DEBUG gai.gen.rag.RAG:\u001b[35mRAG.index_document_index_async: Indexed 16/44 chunk 0c984954-ca9a-4035-8341-5b8731a3fc80 into collection demo\u001b[0m\n",
      "16it [00:05,  3.02it/s]2024-05-31 14:50:27 DEBUG gai.gen.rag.RAG:\u001b[35mRAG.index_document_index_async: Indexed 17/44 chunk 42a27e4f-1baf-4fc1-9007-4a48b5fd0ab8 into collection demo\u001b[0m\n",
      "17it [00:05,  3.19it/s]2024-05-31 14:50:27 DEBUG gai.gen.rag.RAG:\u001b[35mRAG.index_document_index_async: Indexed 18/44 chunk 13d8e479-02ee-4dc3-b536-c4bb8fda9088 into collection demo\u001b[0m\n",
      "18it [00:05,  3.28it/s]2024-05-31 14:50:27 DEBUG gai.gen.rag.RAG:\u001b[35mRAG.index_document_index_async: Indexed 19/44 chunk 65198db9-7550-4d78-bf19-768a9c5e1377 into collection demo\u001b[0m\n",
      "19it [00:06,  3.38it/s]2024-05-31 14:50:28 DEBUG gai.gen.rag.RAG:\u001b[35mRAG.index_document_index_async: Indexed 20/44 chunk 1c2fec7a-0b49-4010-a20c-7ac377413b1f into collection demo\u001b[0m\n",
      "20it [00:06,  3.34it/s]2024-05-31 14:50:28 DEBUG gai.gen.rag.RAG:\u001b[35mRAG.index_document_index_async: Indexed 21/44 chunk 73953756-cf93-4d53-a560-13de2d04a827 into collection demo\u001b[0m\n",
      "21it [00:06,  3.38it/s]2024-05-31 14:50:28 DEBUG gai.gen.rag.RAG:\u001b[35mRAG.index_document_index_async: Indexed 22/44 chunk 4a24f218-762b-46eb-9fe3-0d57c62fd16a into collection demo\u001b[0m\n",
      "22it [00:07,  3.26it/s]2024-05-31 14:50:29 DEBUG gai.gen.rag.RAG:\u001b[35mRAG.index_document_index_async: Indexed 23/44 chunk c47d0608-1a2c-42af-a3df-a460a69a4f53 into collection demo\u001b[0m\n",
      "23it [00:07,  3.18it/s]2024-05-31 14:50:29 DEBUG gai.gen.rag.RAG:\u001b[35mRAG.index_document_index_async: Indexed 24/44 chunk 3403f4a5-c91c-4c48-a8f8-e0b7ea87ad06 into collection demo\u001b[0m\n",
      "24it [00:07,  3.14it/s]2024-05-31 14:50:29 DEBUG gai.gen.rag.RAG:\u001b[35mRAG.index_document_index_async: Indexed 25/44 chunk 6bba0dd9-b4f2-457e-9adb-07c01ae5e04d into collection demo\u001b[0m\n",
      "25it [00:08,  3.18it/s]2024-05-31 14:50:30 DEBUG gai.gen.rag.RAG:\u001b[35mRAG.index_document_index_async: Indexed 26/44 chunk 3edde1e4-64b9-4f76-acee-ad203a0d7936 into collection demo\u001b[0m\n",
      "26it [00:08,  3.17it/s]2024-05-31 14:50:30 DEBUG gai.gen.rag.RAG:\u001b[35mRAG.index_document_index_async: Indexed 27/44 chunk ef62466d-bb7f-4a6f-9e02-43b4a82f3717 into collection demo\u001b[0m\n",
      "27it [00:08,  3.11it/s]2024-05-31 14:50:30 DEBUG gai.gen.rag.RAG:\u001b[35mRAG.index_document_index_async: Indexed 28/44 chunk 7a2c3152-6a93-4c61-9ee3-2bd1dab4fd9b into collection demo\u001b[0m\n",
      "28it [00:09,  3.09it/s]2024-05-31 14:50:31 DEBUG gai.gen.rag.RAG:\u001b[35mRAG.index_document_index_async: Indexed 29/44 chunk 1c5982c2-fbef-468c-8aa8-96a7c24d0ef0 into collection demo\u001b[0m\n",
      "29it [00:09,  3.11it/s]2024-05-31 14:50:31 DEBUG gai.gen.rag.RAG:\u001b[35mRAG.index_document_index_async: Indexed 30/44 chunk 78b626f5-1470-430d-ba9d-851507de18ca into collection demo\u001b[0m\n",
      "30it [00:09,  3.10it/s]2024-05-31 14:50:31 DEBUG gai.gen.rag.RAG:\u001b[35mRAG.index_document_index_async: Indexed 31/44 chunk 6a0091a5-cefc-4c1a-ac7b-f2084da355d0 into collection demo\u001b[0m\n",
      "31it [00:09,  3.19it/s]2024-05-31 14:50:32 DEBUG gai.gen.rag.RAG:\u001b[35mRAG.index_document_index_async: Indexed 32/44 chunk bbd20442-74fc-49e4-88d1-91351f9bb024 into collection demo\u001b[0m\n",
      "32it [00:10,  3.14it/s]2024-05-31 14:50:32 DEBUG gai.gen.rag.RAG:\u001b[35mRAG.index_document_index_async: Indexed 33/44 chunk 7513afb0-95e2-4385-9213-afd76e87847d into collection demo\u001b[0m\n",
      "33it [00:10,  3.10it/s]2024-05-31 14:50:32 DEBUG gai.gen.rag.RAG:\u001b[35mRAG.index_document_index_async: Indexed 34/44 chunk 761c57df-29bc-46ae-8729-73879503274d into collection demo\u001b[0m\n",
      "34it [00:10,  3.23it/s]2024-05-31 14:50:32 DEBUG gai.gen.rag.RAG:\u001b[35mRAG.index_document_index_async: Indexed 35/44 chunk 6044232d-8532-4b98-a2b9-94c5ff7d5f87 into collection demo\u001b[0m\n",
      "35it [00:11,  3.30it/s]2024-05-31 14:50:33 DEBUG gai.gen.rag.RAG:\u001b[35mRAG.index_document_index_async: Indexed 36/44 chunk 88c23585-5bc3-4415-bd9e-1e6550074c9a into collection demo\u001b[0m\n",
      "36it [00:11,  3.07it/s]2024-05-31 14:50:33 DEBUG gai.gen.rag.RAG:\u001b[35mRAG.index_document_index_async: Indexed 37/44 chunk f5010749-961a-4fa2-8630-2678a0b400a3 into collection demo\u001b[0m\n",
      "37it [00:11,  3.00it/s]2024-05-31 14:50:33 DEBUG gai.gen.rag.RAG:\u001b[35mRAG.index_document_index_async: Indexed 38/44 chunk c96d08cd-854f-4613-931a-5a1e24dc5aae into collection demo\u001b[0m\n",
      "38it [00:12,  3.07it/s]2024-05-31 14:50:34 DEBUG gai.gen.rag.RAG:\u001b[35mRAG.index_document_index_async: Indexed 39/44 chunk 88bc45d5-fb8a-43ac-a7d1-d60b4c2fc8d2 into collection demo\u001b[0m\n",
      "39it [00:12,  3.22it/s]2024-05-31 14:50:34 DEBUG gai.gen.rag.RAG:\u001b[35mRAG.index_document_index_async: Indexed 40/44 chunk 8a2d2ef6-4306-4bb5-9459-e901862f8952 into collection demo\u001b[0m\n",
      "40it [00:12,  2.93it/s]2024-05-31 14:50:34 DEBUG gai.gen.rag.RAG:\u001b[35mRAG.index_document_index_async: Indexed 41/44 chunk 32693b10-5820-4cf2-bdc2-fc6fe5fd8876 into collection demo\u001b[0m\n",
      "41it [00:13,  3.08it/s]2024-05-31 14:50:35 DEBUG gai.gen.rag.RAG:\u001b[35mRAG.index_document_index_async: Indexed 42/44 chunk 9e20fad2-3686-4555-adec-735812a8773b into collection demo\u001b[0m\n",
      "42it [00:13,  3.08it/s]2024-05-31 14:50:35 DEBUG gai.gen.rag.RAG:\u001b[35mRAG.index_document_index_async: Indexed 43/44 chunk 1d7e8e85-61cb-4442-b0f6-2d53d00b5971 into collection demo\u001b[0m\n",
      "43it [00:13,  3.09it/s]2024-05-31 14:50:35 DEBUG gai.gen.rag.RAG:\u001b[35mRAG.index_document_index_async: Indexed 44/44 chunk c0599b31-6328-4df2-92d7-7c6349414aba into collection demo\u001b[0m\n",
      "44it [00:14,  3.10it/s]\n",
      "2024-05-31 14:50:35 INFO gai.gen.rag.RAG:\u001b[32mRAG.index_async: indexing...done\u001b[0m\n",
      "2024-05-31 14:50:35 INFO gai.gen.rag.RAG:\u001b[32mRAG.retrieve: Retrieving by query How is the transformer different from RNN?...\u001b[0m\n",
      "2024-05-31 14:50:35 INFO gai.gen.rag.dalc.RAGVSRepository:\u001b[32mRetrieving by query How is the transformer different from RNN?...\u001b[0m\n",
      "2024-05-31 14:50:36 DEBUG gai.gen.rag.dalc.RAGVSRepository:\u001b[35mresult=[['6973d449-cd8f-4a04-8fec-5f5c4cc3457e', '3403f4a5-c91c-4c48-a8f8-e0b7ea87ad06', '13d8e479-02ee-4dc3-b536-c4bb8fda9088']]\u001b[0m\n"
     ]
    },
    {
     "data": {
      "text/plain": [
       "[{'documents': 'however, the Transformer is the first transduction model relying entirely on self-attention to compute representations of its input and output without using sequence- aligned RNNs or convolution. In the following sections, we will describe the Transformer, motivate self-attention and discuss its advantages over models such as [17, 18] and [9]. 3 Model Architecture Most competitive neural sequence transduction models have an encoder-decoder structure [5, 2, 35]. Here, the encoder maps an input sequence of symbol representations (x1, ..., xn) to a sequence of continuous representations z = (z1, ..., zn). Given z, the decoder then generates an output sequence (y1, ..., ym) of symbols one element at a time. At each step the model is auto-regressive [10], consuming the previously generated symbols as additional input when generating the next. 2 Figure 1: The Transformer - model architecture. The Transformer follows this overall architecture using stacked self-attention and point-wise,',\n",
       "  'metadatas': {'Abstract': '',\n",
       "   'ChunkGroupId': '74b0f4f7-2ff7-4e9e-8b2f-cca56d8f89e6',\n",
       "   'DocumentId': '-Sc9eXzUiSlaFV3qEDaKam33Boamkvv4tea8YPsjpy0',\n",
       "   'Keywords': '',\n",
       "   'PublishedDate': '',\n",
       "   'Source': 'arxiv.org',\n",
       "   'Title': 'Attention is All You Need'},\n",
       "  'distances': 0.1541728377342224,\n",
       "  'ids': '6973d449-cd8f-4a04-8fec-5f5c4cc3457e'},\n",
       " {'documents': 'to RNN sequence-to-sequence models [37], the Transformer outperforms the Berkeley- Parser [29] even when training only on the WSJ training set of 40K sentences. 7 Conclusion In this work, we presented the Transformer, the first sequence transduction model based entirely on attention, replacing the recurrent layers most commonly used in encoder-decoder architectures with multi-headed self-attention. For translation tasks, the Transformer can be trained significantly faster than architectures based on recurrent or convolutional layers. On both WMT 2014 English-to-German and WMT 2014 English-to-French translation tasks, we achieve a new state of the art. In the former task our best model outperforms even all previously reported ensembles. We are excited about the future of attention-based models and plan to apply them to other tasks. We plan to extend the Transformer to problems involving input and output modalities other than text and to investigate local, restricted attention',\n",
       "  'metadatas': {'Abstract': '',\n",
       "   'ChunkGroupId': '74b0f4f7-2ff7-4e9e-8b2f-cca56d8f89e6',\n",
       "   'DocumentId': '-Sc9eXzUiSlaFV3qEDaKam33Boamkvv4tea8YPsjpy0',\n",
       "   'Keywords': '',\n",
       "   'PublishedDate': '',\n",
       "   'Source': 'arxiv.org',\n",
       "   'Title': 'Attention is All You Need'},\n",
       "  'distances': 0.15555906295776367,\n",
       "  'ids': '3403f4a5-c91c-4c48-a8f8-e0b7ea87ad06'},\n",
       " {'documents': 'eschewing recurrence and instead relying entirely on an attention mechanism to draw global dependencies between input and output. The Transformer allows for significantly more parallelization and can reach a new state of the art in translation quality after being trained for as little as twelve hours on eight P100 GPUs. 2 Background The goal of reducing sequential computation also forms the foundation of the Extended Neural GPU [16], ByteNet [18] and ConvS2S [9], all of which use convolutional neural networks as basic building block, computing hidden representations in parallel for all input and output positions. In these models, the number of operations required to relate signals from two arbitrary input or output positions grows in the distance between positions, linearly for ConvS2S and logarithmically for ByteNet. This makes it more difficult to learn dependencies between distant positions [12]. In the Transformer this is reduced to a constant number of operations, albeit at the',\n",
       "  'metadatas': {'Abstract': '',\n",
       "   'ChunkGroupId': '74b0f4f7-2ff7-4e9e-8b2f-cca56d8f89e6',\n",
       "   'DocumentId': '-Sc9eXzUiSlaFV3qEDaKam33Boamkvv4tea8YPsjpy0',\n",
       "   'Keywords': '',\n",
       "   'PublishedDate': '',\n",
       "   'Source': 'arxiv.org',\n",
       "   'Title': 'Attention is All You Need'},\n",
       "  'distances': 0.1568228006362915,\n",
       "  'ids': '13d8e479-02ee-4dc3-b536-c4bb8fda9088'}]"
      ]
     },
     "execution_count": 3,
     "metadata": {},
     "output_type": "execute_result"
    }
   ],
   "source": [
    "from gai.gen.rag import RAG\n",
    "rag = RAG(generator_name=\"openai-ada-rag\")\n",
    "\n",
    "# Reset collection because openai embedding uses a larger dimension than the instructor-large\n",
    "rag.delete_collection(\"demo\")\n",
    "path = \"./attention-is-all-you-need.pdf\"\n",
    "rag.unload()\n",
    "rag.load()\n",
    "# Index\n",
    "doc_id = await rag.index_async(\n",
    "    collection_name='demo',\n",
    "    file_path=path,\n",
    "    file_type='pdf',\n",
    "    source=\"arxiv.org\",\n",
    "    title=\"Attention is All You Need\",\n",
    "    )\n",
    "# Retrieve\n",
    "rag.retrieve(collection_name=\"demo\",query_texts=\"How is the transformer different from RNN?\")"
   ]
  },
  {
   "cell_type": "markdown",
   "metadata": {},
   "source": [
    "### 3. List Collections"
   ]
  },
  {
   "cell_type": "code",
   "execution_count": 9,
   "metadata": {},
   "outputs": [
    {
     "name": "stderr",
     "output_type": "stream",
     "text": [
      "2024-05-31 14:47:40 INFO gai.gen.rag.dalc.RAGVSRepository:\u001b[32mRAGVSRepository: in_memory\u001b[0m\n"
     ]
    },
    {
     "data": {
      "text/plain": [
       "[Collection(name=demo)]"
      ]
     },
     "execution_count": 9,
     "metadata": {},
     "output_type": "execute_result"
    }
   ],
   "source": [
    "from gai.gen.rag import RAG\n",
    "rag = RAG()\n",
    "rag.list_collections()"
   ]
  },
  {
   "cell_type": "markdown",
   "metadata": {},
   "source": [
    "### 4. List Document Headers"
   ]
  },
  {
   "cell_type": "code",
   "execution_count": 10,
   "metadata": {},
   "outputs": [
    {
     "data": {
      "text/plain": [
       "[]"
      ]
     },
     "execution_count": 10,
     "metadata": {},
     "output_type": "execute_result"
    }
   ],
   "source": [
    "rag.list_document_headers(collection_name=\"demo\")"
   ]
  },
  {
   "cell_type": "markdown",
   "metadata": {},
   "source": [
    "---\n",
    "## 5. Running as a Service\n",
    "\n",
    "In this example, we will start 2 services: one for RAG API and one for RAG Listener.\n",
    "We will then index a document using curl and observe the progress using the listener.\n",
    "\n",
    "### Step 1: Start the API service\n",
    "\n",
    "#### Option A: Run in a Docker container (Recommended)\n",
    "\n",
    "```bash\n",
    "docker run -d \\\n",
    "    --name gai-rag \\\n",
    "    -p 12031:12031 \\\n",
    "    --gpus all \\\n",
    "    -v ~/gai/models:/app/models \\\n",
    "    kakkoii1337/gai-rag:latest\n",
    "```\n",
    "\n",
    "Wait for model to load\n",
    "\n",
    "```bash\n",
    "docker logs gai-rag\n",
    "```\n",
    "\n",
    "When the loading is completed, the logs should show this:\n",
    "\n",
    "```bash\n",
    "INFO:     Started server process [1]\n",
    "INFO:     Waiting for application startup.\n",
    "INFO:     Application startup complete.\n",
    "INFO:     Uvicorn running on http://0.0.0.0:12031 (Press CTRL+C to quit)\n",
    "```\n",
    "\n",
    "#### Option B: Run from Terminal\n",
    "\n",
    "```bash\n",
    "cd /gai-gen/gai/api/\n",
    "python rag_api.py\n",
    "```\n",
    "\n",
    "### Step 2: Start the Listener Service\n",
    "\n",
    "The listener can be helpful when used with the API. It can be used to monitor the indexing progress via web socket. \n",
    "This is especially useful when monitoring the progress while indexing large files.\n",
    "\n",
    "```python\n",
    "# prettier-ignore\n",
    "import asyncio\n",
    "import os, sys\n",
    "import websockets\n",
    "\n",
    "async def listen():\n",
    "    ws_uri = \"ws://localhost:12031/api/v1/rag/index-file/ws\"\n",
    "    async with websockets.connect(ws_uri) as websocket:\n",
    "        while True:\n",
    "            message = await websocket.recv()\n",
    "            logger.info(f\"Received: {message}\")\n",
    "\n",
    "asyncio.run(listen())\n",
    "```\n",
    "\n",
    "The above code is saved under `/tests/integration_tests/rag/rag_listener`.\n",
    "\n",
    "```bash\n",
    "cd tests/integration_tests/rag\n",
    "python rag_listener.py\n",
    "```\n",
    "\n",
    "If the listener is successfully started, you should see the following message from the API Server logs:\n",
    "\n",
    "![rag-listener-connected](./imgs/rag-listener-connected.png)\n"
   ]
  },
  {
   "cell_type": "markdown",
   "metadata": {},
   "source": [
    "### Step 3: Test RAG\n",
    "\n",
    "**Send Request**\n",
    "\n",
    "```bash\n",
    "cd tests/integration_tests/rag\n",
    "```\n",
    "\n",
    "The following example uses curl script `tests/integration_tests/rag/3_curl_index.sh` to index a file .\n",
    "\n",
    "```bash\n",
    "curl -X POST 'http://localhost:12031/gen/v1/rag/index-file' \\\n",
    "    -H 'accept: application/json' \\\n",
    "    -H 'Content-Type: multipart/form-data' \\\n",
    "    -s \\\n",
    "    -F 'collection_name=demo' \\\n",
    "    -F 'file=@./pm_long_speech_2023.txt' \\\n",
    "    -F 'metadata={\"source\": \"https://www.pmo.gov.sg/Newsroom/National-Day-Rally-2023#:~:text=COVID%2D19%20was%20the%20most,indomitable%20spirit%20of%20our%20nation.\"}'\n",
    "```\n",
    "\n",
    "**NOTE**: The indexing may fail if the file was already indexed. To re-index, you can delete the demo collection.\n",
    "\n",
    "```bash\n",
    "curl -X DELETE 'http://localhost:12031/gen/v1/rag/collection/demo'\n",
    "\n",
    "```\n",
    "\n"
   ]
  },
  {
   "cell_type": "markdown",
   "metadata": {},
   "source": [
    "### Video\n",
    "\n",
    "![gai-gen-rag](../doc/docs/gai-gen/imgs/gai-gen-rag.gif)"
   ]
  }
 ],
 "metadata": {
  "kernelspec": {
   "display_name": "gai-rag",
   "language": "python",
   "name": "python3"
  },
  "language_info": {
   "codemirror_mode": {
    "name": "ipython",
    "version": 3
   },
   "file_extension": ".py",
   "mimetype": "text/x-python",
   "name": "python",
   "nbconvert_exporter": "python",
   "pygments_lexer": "ipython3",
   "version": "3.10.10"
  }
 },
 "nbformat": 4,
 "nbformat_minor": 2
}
