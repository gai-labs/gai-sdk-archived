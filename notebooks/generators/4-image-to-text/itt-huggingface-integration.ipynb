{
 "cells": [
  {
   "cell_type": "markdown",
   "metadata": {},
   "source": [
    "Another Llava model, but in huggingface format that can be directly loaded using pure Transformers API. Pro: More consistent for codebase. Con: Might be slightly less accurate."
   ]
  },
  {
   "cell_type": "code",
   "execution_count": null,
   "metadata": {},
   "outputs": [],
   "source": [
    "%%bash\n",
    "# Install the model\n",
    "huggingface-cli download llava-hf/llava-1.5-7b-hf \\\n",
    "        --local-dir ~/gai/models/llava-1.5-7b-hf \\\n",
    "        --local-dir-use-symlinks False\n"
   ]
  },
  {
   "cell_type": "code",
   "execution_count": null,
   "metadata": {},
   "outputs": [],
   "source": [
    "%%bash\n",
    "# This requires the latest transformer version so activate ITT2 environment \n",
    "pip install -e \".[ITT2]\""
   ]
  },
  {
   "cell_type": "code",
   "execution_count": 2,
   "metadata": {},
   "outputs": [
    {
     "name": "stderr",
     "output_type": "stream",
     "text": [
      "Loading checkpoint shards: 100%|██████████| 3/3 [00:41<00:00, 13.87s/it]\n",
      "\u001b[33mSpecial tokens have been added in the vocabulary, make sure the associated word embeddings are fine-tuned or trained.\u001b[0m\n",
      "/home/roylai/miniconda/envs/ITT-2/lib/python3.10/site-packages/transformers/generation/configuration_utils.py:389: UserWarning: `do_sample` is set to `False`. However, `temperature` is set to `1e-08` -- this flag is only used in sample-based generation modes. You should set `do_sample=True` or unset `temperature`.\n",
      "  warnings.warn(\n"
     ]
    },
    {
     "name": "stdout",
     "output_type": "stream",
     "text": [
      "ER:  \n",
      "Describe what you see in this image.\n",
      "ASSISTANT: The image features a bus stop with a large sign displaying bus routes and numbers. The sign is located near a tree, providing shade and a natural backdrop. The bus stop is situated in a park-like setting, with a few other trees in the background. The sign is prominently displayed, making it easy for passengers to find their desired route.\n"
     ]
    }
   ],
   "source": [
    "## Generating Text from Images\n",
    "from gai.gen.itt.Transformers_ITT import Transformers_ITT\n",
    "config = {\n",
    "    \"type\": \"itt\",\n",
    "    \"engine\": \"Transformers_ITT\",\n",
    "    \"model_path\": \"models/llava-1.5-7b-hf\",\n",
    "    \"model_name\": \"llava-1.5-7b\",\n",
    "}\n",
    "import base64\n",
    "encoded_string = \"\"\n",
    "with open(\"./buses.jpeg\", \"rb\") as image_file:\n",
    "    encoded_string = base64.b64encode(image_file.read()).decode('utf-8')\n",
    "\n",
    "itt = Transformers_ITT(config)\n",
    "response = itt.create(\n",
    "  messages=[\n",
    "    {\n",
    "      \"role\": \"user\",\n",
    "      \"content\": [\n",
    "        {\"type\": \"text\", \"text\": \"Describe what you see in this image.\"},\n",
    "        {\n",
    "          \"type\": \"image_url\",\n",
    "          \"image_url\": {\n",
    "            \"url\": f\"data:image/jpeg;base64,{encoded_string}\",\n",
    "          },\n",
    "        },\n",
    "      ],\n",
    "    }\n",
    "  ],\n",
    "  temperature=10e-9,\n",
    "  stream=False\n",
    "  )\n",
    "print(response.choices[0].message.content)"
   ]
  },
  {
   "cell_type": "code",
   "execution_count": null,
   "metadata": {},
   "outputs": [],
   "source": [
    "## Streaming Text from Images\n",
    "from gai.gen.itt.Transformers_ITT import Transformers_ITT\n",
    "config = {\n",
    "    \"type\": \"itt\",\n",
    "    \"engine\": \"Transformers_ITT\",\n",
    "    \"model_path\": \"models/llava-1.5-7b-hf\",\n",
    "    \"model_name\": \"llava-1.5-7b\",\n",
    "}\n",
    "import base64\n",
    "encoded_string = \"\"\n",
    "with open(\"./buses.jpeg\", \"rb\") as image_file:\n",
    "    encoded_string = base64.b64encode(image_file.read()).decode('utf-8')\n",
    "\n",
    "itt = Transformers_ITT(config)\n",
    "response = itt.create(\n",
    "  messages=[\n",
    "    {\n",
    "      \"role\": \"user\",\n",
    "      \"content\": [\n",
    "        {\"type\": \"text\", \"text\": \"Describe what you see in this image.\"},\n",
    "        {\n",
    "          \"type\": \"image_url\",\n",
    "          \"image_url\": {\n",
    "            \"url\": f\"data:image/jpeg;base64,{encoded_string}\",\n",
    "          },\n",
    "        },\n",
    "      ],\n",
    "    }\n",
    "  ],\n",
    "  temperature=10e-9,\n",
    "  stream=True\n",
    "  )\n",
    "for chunk in response:\n",
    "    print(chunk.choices[0].delta.content,end=\"\",flush=True)"
   ]
  }
 ],
 "metadata": {
  "kernelspec": {
   "display_name": "TTS",
   "language": "python",
   "name": "python3"
  },
  "language_info": {
   "codemirror_mode": {
    "name": "ipython",
    "version": 3
   },
   "file_extension": ".py",
   "mimetype": "text/x-python",
   "name": "python",
   "nbconvert_exporter": "python",
   "pygments_lexer": "ipython3",
   "version": "3.10.13"
  }
 },
 "nbformat": 4,
 "nbformat_minor": 2
}
