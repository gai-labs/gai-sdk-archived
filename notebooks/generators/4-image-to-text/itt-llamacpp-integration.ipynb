{
 "cells": [
  {
   "cell_type": "markdown",
   "metadata": {},
   "source": [
    "## Download Model\n",
    "\n",
    "download_model mys/ggml_llava-v1.5-7b mmproj-model-f16.gguf ggml-model-q4_k.gguf\n",
    "\n",
    "## Run"
   ]
  },
  {
   "cell_type": "code",
   "execution_count": 1,
   "metadata": {},
   "outputs": [
    {
     "name": "stderr",
     "output_type": "stream",
     "text": [
      "2024-06-04 19:47:56 INFO gai.gen.Gaigen:\u001b[32mGaigen: Loading generator llava15-llamacpp...\u001b[0m\n",
      "2024-06-04 19:47:56 INFO gai.gen.itt.ITT:\u001b[32mUsing itt model LlamaCpp_ITT...\u001b[0m\n",
      "2024-06-04 19:47:56 INFO gai.gen.ttt.LlamaCpp_TTT:\u001b[32mexllama_engine.load: Loading model from /home/roylai/gai/models/ggml_llava-v1.5-7b/ggml-model-q4_k.gguf\u001b[0m\n"
     ]
    },
    {
     "name": "stdout",
     "output_type": "stream",
     "text": [
      "STREAMING:\n",
      "\n",
      "\n",
      "[PROMO] [/PROMO]"
     ]
    }
   ],
   "source": [
    "## 6.17 OpenAI Vision Image-to-Text Generation\n",
    "\n",
    "from gai.gen import Gaigen\n",
    "gen = Gaigen.GetInstance('../../gai-gen/gai.json').load('llava15-llamacpp')\n",
    "\n",
    "\n",
    "import base64\n",
    "encoded_string = \"\"\n",
    "with open(\"./buses.jpeg\", \"rb\") as image_file:\n",
    "    encoded_string = base64.b64encode(image_file.read()).decode('utf-8')\n",
    "\n",
    "print(\"STREAMING:\")\n",
    "response = gen.create(\n",
    "  messages=[\n",
    "    {\n",
    "      \"role\": \"user\",\n",
    "      \"content\": [\n",
    "        {\"type\": \"text\", \"text\": \"What’s in this image?\"},\n",
    "        {\n",
    "          \"type\": \"image_url\",\n",
    "          \"image_url\": {\n",
    "            \"url\": f\"data:image/jpeg;base64,{encoded_string}\",\n",
    "          },\n",
    "        },\n",
    "      ],\n",
    "    }\n",
    "  ],\n",
    "  max_tokens=300,\n",
    "  stream=True\n",
    "  )\n",
    "for chunk in response:\n",
    "    if chunk.choices[0].delta.content:\n",
    "        print(chunk.choices[0].delta.content,end='',flush=True)\n"
   ]
  },
  {
   "cell_type": "code",
   "execution_count": null,
   "metadata": {},
   "outputs": [],
   "source": [
    "## 6.18 OpenAI Vision Image-to-Text Streaming\n",
    "\n",
    "from gai.gen import Gaigen\n",
    "gen = Gaigen.GetInstance().load('openai-vision')\n",
    "\n",
    "import base64\n",
    "encoded_string = \"\"\n",
    "with open(\"../tests/buses.jpeg\", \"rb\") as image_file:\n",
    "    encoded_string = base64.b64encode(image_file.read()).decode('utf-8')\n",
    "\n",
    "print(\"STREAMING:\")\n",
    "response = gen.create(\n",
    "  messages=[\n",
    "    {\n",
    "      \"role\": \"user\",\n",
    "      \"content\": [\n",
    "        {\"type\": \"text\", \"text\": \"What’s in this image?\"},\n",
    "        {\n",
    "          \"type\": \"image_url\",\n",
    "          \"image_url\": {\n",
    "            \"url\": f\"data:image/jpeg;base64,{encoded_string}\",\n",
    "          },\n",
    "        },\n",
    "      ],\n",
    "    }\n",
    "  ],\n",
    "  max_tokens=300,\n",
    "  stream=True\n",
    "  )\n",
    "for chunk in response:\n",
    "    if chunk.choices[0].delta.content:\n",
    "      print(chunk.choices[0].delta.content,end=\"\",flush=True)\n"
   ]
  }
 ],
 "metadata": {
  "kernelspec": {
   "display_name": "TTS",
   "language": "python",
   "name": "python3"
  },
  "language_info": {
   "codemirror_mode": {
    "name": "ipython",
    "version": 3
   },
   "file_extension": ".py",
   "mimetype": "text/x-python",
   "name": "python",
   "nbconvert_exporter": "python",
   "pygments_lexer": "ipython3",
   "version": "3.10.10"
  }
 },
 "nbformat": 4,
 "nbformat_minor": 2
}
