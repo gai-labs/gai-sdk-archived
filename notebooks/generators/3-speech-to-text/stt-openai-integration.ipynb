{
 "cells": [
  {
   "cell_type": "code",
   "execution_count": 4,
   "metadata": {},
   "outputs": [
    {
     "name": "stdout",
     "output_type": "stream",
     "text": [
      "GENERATING:\n",
      "Transcription(text='Today is a wonderful day to build something people love.')\n",
      "Transcription(text='Today is a wonderful day to build something people love.')\n",
      "Transcription(text='Today is a wonderful day to build something people love.')\n"
     ]
    }
   ],
   "source": [
    "## 6.12 OpenAI Whisper Speech-to-Text\n",
    "\n",
    "print(\"GENERATING:\")\n",
    "from gai.gen import Gaigen\n",
    "from pathlib import Path\n",
    "gen = Gaigen.GetInstance().load('openai-whisper')\n",
    "\n",
    "# Method 1: Using Path\n",
    "response = gen.create(\n",
    "  file=Path(\"./today-is-a-wonderful-day.wav\")\n",
    ")\n",
    "print(response)\n",
    "\n",
    "# Method 2: Using File\n",
    "file = open(\"./today-is-a-wonderful-day.wav\", \"rb\")\n",
    "response = gen.create(\n",
    "  file=file\n",
    ")\n",
    "print(response)\n",
    "\n",
    "# Method 3: Using Bytes (Not-In-Spec)\n",
    "file = open(\"./today-is-a-wonderful-day.wav\", \"rb\")\n",
    "data = file.read()\n",
    "response = gen.create(\n",
    "  file=data\n",
    ")\n",
    "print(response)\n"
   ]
  }
 ],
 "metadata": {
  "kernelspec": {
   "display_name": "TTS",
   "language": "python",
   "name": "python3"
  },
  "language_info": {
   "codemirror_mode": {
    "name": "ipython",
    "version": 3
   },
   "file_extension": ".py",
   "mimetype": "text/x-python",
   "name": "python",
   "nbconvert_exporter": "python",
   "pygments_lexer": "ipython3",
   "version": "3.10.10"
  }
 },
 "nbformat": 4,
 "nbformat_minor": 2
}
