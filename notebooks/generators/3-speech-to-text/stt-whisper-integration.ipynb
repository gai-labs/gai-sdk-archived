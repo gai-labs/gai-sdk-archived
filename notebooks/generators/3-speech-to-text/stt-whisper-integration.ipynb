{
 "cells": [
  {
   "cell_type": "code",
   "execution_count": 1,
   "metadata": {},
   "outputs": [
    {
     "name": "stdout",
     "output_type": "stream",
     "text": [
      "GENERATING:\n"
     ]
    },
    {
     "name": "stderr",
     "output_type": "stream",
     "text": [
      "/home/roylai/.local/lib/python3.10/site-packages/tqdm/auto.py:21: TqdmWarning: IProgress not found. Please update jupyter and ipywidgets. See https://ipywidgets.readthedocs.io/en/stable/user_install.html\n",
      "  from .autonotebook import tqdm as notebook_tqdm\n",
      "2024-06-04 01:57:03 INFO gai.gen.Gaigen:\u001b[32mGaigen: Loading generator whisper-transformers...\u001b[0m\n",
      "2024-06-04 01:57:03 INFO gai.gen.stt.STT:\u001b[32mUsing stt model LocalWhisper_STT...\u001b[0m\n",
      "2024-06-04 01:57:03 INFO gai.gen.stt.LocalWhisper_STT:\u001b[32mLoading model...\u001b[0m\n",
      "\u001b[33mSpecial tokens have been added in the vocabulary, make sure the associated word embeddings are fine-tuned or trained.\u001b[0m\n"
     ]
    },
    {
     "name": "stdout",
     "output_type": "stream",
     "text": [
      "{'text': ' Today is a wonderful day to build something people love.', 'chunks': [{'timestamp': (0.0, 3.14), 'text': ' Today is a wonderful day to build something people love.'}]}\n",
      "{'text': ' Today is a wonderful day to build something people love.', 'chunks': [{'timestamp': (0.0, 3.14), 'text': ' Today is a wonderful day to build something people love.'}]}\n",
      "{'text': ' Today is a wonderful day to build something people love.', 'chunks': [{'timestamp': (0.0, 3.14), 'text': ' Today is a wonderful day to build something people love.'}]}\n"
     ]
    }
   ],
   "source": [
    "## 6.13 Open-Sourced Whisper Speech-to-Text\n",
    "\n",
    "print(\"GENERATING:\")\n",
    "from gai.gen import Gaigen\n",
    "from pathlib import Path\n",
    "gen = Gaigen.GetInstance().load('whisper-transformers')\n",
    "\n",
    "# Method 1: Using Path\n",
    "response = gen.create(\n",
    "  file=Path(\"./today-is-a-wonderful-day.wav\")\n",
    ")\n",
    "print(response)\n",
    "\n",
    "# Method 2: Using File\n",
    "file = open(\"./today-is-a-wonderful-day.wav\", \"rb\")\n",
    "response = gen.create(\n",
    "  file=file\n",
    ")\n",
    "print(response)\n",
    "\n",
    "# Method 3: Using Bytes (Not-In-Spec)\n",
    "file = open(\"./today-is-a-wonderful-day.wav\", \"rb\")\n",
    "data = file.read()\n",
    "response = gen.create(\n",
    "  file=data\n",
    ")\n",
    "print(response)"
   ]
  }
 ],
 "metadata": {
  "kernelspec": {
   "display_name": "TTS",
   "language": "python",
   "name": "python3"
  },
  "language_info": {
   "codemirror_mode": {
    "name": "ipython",
    "version": 3
   },
   "file_extension": ".py",
   "mimetype": "text/x-python",
   "name": "python",
   "nbconvert_exporter": "python",
   "pygments_lexer": "ipython3",
   "version": "3.10.10"
  }
 },
 "nbformat": 4,
 "nbformat_minor": 2
}
