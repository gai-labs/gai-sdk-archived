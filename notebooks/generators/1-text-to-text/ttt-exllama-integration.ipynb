{
 "cells": [
  {
   "cell_type": "markdown",
   "metadata": {},
   "source": [
    "# Gai/Gen: Text-to-Text Generation using Gai with ExLlama\n",
    "\n",
    "This is useful for running LLM on CPU with consumer grade graphics card."
   ]
  },
  {
   "cell_type": "markdown",
   "metadata": {},
   "source": [
    "## Setting Up\n",
    "\n",
    "1. Create a conda environment called `TTT`, if not already created, and install the dependencies:\n",
    "\n",
    "    ```bash\n",
    "    sudo apt update -y && sudo apt install ffmpeg git git-lfs -y\n",
    "    conda create -n TTT python=3.10.10 -y\n",
    "    conda activate TTT\n",
    "    cd ../../gai-gen\n",
    "    pip install -e \".[TTT]\"\n",
    "    ```\n",
    "\n",
    "2. Download Mistral 7B 4-Bit Quantized model into `~/gai/models` directory.\n",
    "\n",
    "    ```bash\n",
    "    huggingface-cli download TheBloke/Mistral-7B-Instruct-v0.1-GPTQ \\\n",
    "            config.json\n",
    "            model.safetensors \n",
    "            tokenizer.model\n",
    "            --local-dir ~/gai/models/Mistral-7B-Instruct-v0.1-GPTQ \\\n",
    "            --local-dir-use-symlinks False    ```\n",
    "---"
   ]
  },
  {
   "cell_type": "markdown",
   "metadata": {},
   "source": [
    "## Chat Completion\n"
   ]
  },
  {
   "cell_type": "markdown",
   "metadata": {},
   "source": [
    "#### Streaming"
   ]
  },
  {
   "cell_type": "code",
   "execution_count": 2,
   "metadata": {},
   "outputs": [
    {
     "name": "stderr",
     "output_type": "stream",
     "text": [
      "2024-06-04 21:59:05 DEBUG gai.gen.Gaigen:\u001b[35mGaigen.load: Generator is already loaded. Skip loading.\u001b[0m\n",
      "2024-06-04 21:59:05 DEBUG gai.gen.ttt.ExLlama_TTT:\u001b[35mExLlama_TTT._streaming: prompt=USER: Tell me a one paragraph short story.\n",
      "ASSISTANT:\u001b[0m\n",
      "2024-06-04 21:59:05 DEBUG gai.gen.ttt.ExLlama_TTT:\u001b[35mExLlama_TTT._streaming: model_params={'temperature': 1.2, 'top_p': 0.15, 'min_p': 0.0, 'top_k': 50, 'max_new_tokens': 1000, 'typical': 0.0, 'token_repetition_penalty_max': 1.25, 'token_repetition_penalty_sustain': 256, 'token_repetition_penalty_decay': 128, 'beams': 1, 'beam_length': 1}\u001b[0m\n",
      "2024-06-04 21:59:05 DEBUG gai.gen.ttt.ExLlama_TTT:\u001b[35mExLlama_TTT._streaming: input token count=16\u001b[0m\n"
     ]
    },
    {
     "name": "stdout",
     "output_type": "stream",
     "text": [
      "STREAMING\n",
      " Once upon a time, in a small village nestled at the foot of a mountain, there lived an old woman who was known for her wisdom and kindness. She had spent her entire life studying the mysteries of nature and the secrets of the universe, and she believed that everything happened for a reason. One day, as she sat on her porch watching the sun set over the mountains, she noticed a young boy playing in the field across the street. He seemed lost and sad, so she decided to go talk to him. When she arrived, he told her about his family's troubles and how they were struggling to make ends meet. The old woman listened carefully and then offered him some words of advice. \"My dear child,\" she said, \"remember that every challenge you face is an opportunity to learn something new and grow stronger. Keep your faith in yourself and trust that things will work out in the end.\" The boy took her words to heart and never forgot them. From that moment on, he faced each obstacle with courage and determination, knowing that he had the strength and resilience to overcome anything. And as for the old woman, she continued to share her knowledge and wisdom with all those who crossed her"
     ]
    },
    {
     "name": "stderr",
     "output_type": "stream",
     "text": [
      "2024-06-04 21:59:12 DEBUG gai.gen.ttt.ExLlama_TTT:\u001b[35mExLlama_TTT._streaming: stopped by eos_token_id: 2\u001b[0m\n"
     ]
    },
    {
     "name": "stdout",
     "output_type": "stream",
     "text": [
      " path, spreading hope and inspiration wherever she went."
     ]
    },
    {
     "name": "stderr",
     "output_type": "stream",
     "text": [
      "2024-06-04 21:59:12 INFO gai.gen.ttt.ExLlama_TTT:\u001b[32mExLlama_TTT._streaming: stopped by eos_token_id: 2 response_type='text' output=' Once upon a time, in a small village nestled at the foot of a mountain, there lived an old woman who was known for her wisdom and kindness. She had spent her entire life studying the mysteries of nature and the secrets of the universe, and she believed that everything happened for a reason. One day, as she sat on her porch watching the sun set over the mountains, she noticed a young boy playing in the field across the street. He seemed lost and sad, so she decided to go talk to him. When she arrived, he told her about his family's troubles and how they were struggling to make ends meet. The old woman listened carefully and then offered him some words of advice. \"My dear child,\" she said, \"remember that every challenge you face is an opportunity to learn something new and grow stronger. Keep your faith in yourself and trust that things will work out in the end.\" The boy took her words to heart and never forgot them. From that moment on, he faced each obstacle with courage and determination, knowing that he had the strength and resilience to overcome anything. And as for the old woman, she continued to share her knowledge and wisdom with all those who crossed her path, spreading hope and inspiration wherever she went.'\u001b[0m\n"
     ]
    }
   ],
   "source": [
    "# 1. Text-to-Text Generation\n",
    "from gai.gen import Gaigen\n",
    "gen = Gaigen.GetInstance().load('mistral7b-exllama')\n",
    "\n",
    "# Streaming\n",
    "print(\"STREAMING\")\n",
    "response = gen.create(messages=[{'role':'USER','content':'Tell me a one paragraph short story.'},{'role':'ASSISTANT','content':''}], max_tokens=1000,stream=True)\n",
    "for chunk in response:\n",
    "    if chunk.choices[0].delta.content:\n",
    "        print(chunk.choices[0].delta.content,end='',flush=True)\n"
   ]
  },
  {
   "cell_type": "markdown",
   "metadata": {},
   "source": [
    "#### Generating"
   ]
  },
  {
   "cell_type": "code",
   "execution_count": 4,
   "metadata": {},
   "outputs": [
    {
     "name": "stderr",
     "output_type": "stream",
     "text": [
      "2024-06-04 21:59:59 DEBUG gai.gen.Gaigen:\u001b[35mGaigen.load: Generator is already loaded. Skip loading.\u001b[0m\n",
      "2024-06-04 21:59:59 DEBUG gai.gen.Gaigen:\u001b[35mGaigen.load: Generator is already loaded. Skip loading.\u001b[0m\n",
      "2024-06-04 21:59:59 DEBUG gai.gen.ttt.ExLlama_TTT:\u001b[35mExLlama_TTT._streaming: prompt=USER: Tell me a one paragraph short story.\n",
      "ASSISTANT:\u001b[0m\n",
      "2024-06-04 21:59:59 DEBUG gai.gen.ttt.ExLlama_TTT:\u001b[35mExLlama_TTT._streaming: model_params={'temperature': 1.2, 'top_p': 0.15, 'min_p': 0.0, 'top_k': 50, 'max_new_tokens': 1000, 'typical': 0.0, 'token_repetition_penalty_max': 1.25, 'token_repetition_penalty_sustain': 256, 'token_repetition_penalty_decay': 128, 'beams': 1, 'beam_length': 1}\u001b[0m\n",
      "2024-06-04 21:59:59 DEBUG gai.gen.ttt.ExLlama_TTT:\u001b[35mExLlama_TTT._streaming: input token count=16\u001b[0m\n"
     ]
    },
    {
     "name": "stdout",
     "output_type": "stream",
     "text": [
      "GENERATING:\n"
     ]
    },
    {
     "name": "stderr",
     "output_type": "stream",
     "text": [
      "2024-06-04 22:00:06 DEBUG gai.gen.ttt.ExLlama_TTT:\u001b[35mExLlama_TTT._streaming: stopped by eos_token_id: 2\u001b[0m\n",
      "2024-06-04 22:00:06 INFO gai.gen.ttt.ExLlama_TTT:\u001b[32mExLlama_TTT._streaming: stopped by eos_token_id: 2 response_type='text' output=' Once upon a time, in a small village nestled at the foot of a mountain, there lived an old woman who was known for her wisdom and kindness. She had spent her entire life studying the mysteries of nature and the secrets of the universe, and she believed that everything happened for a reason. One day, as she sat on her porch watching the sun set over the mountains, she noticed a young boy playing in the field across the street. He seemed lost and sad, so she decided to go talk to him. When she arrived, he told her about his family's troubles and how they were struggling to make ends meet. The old woman listened carefully and then offered him some words of advice. \"My dear child,\" she said, \"remember that every challenge you face is an opportunity to learn something new and grow stronger. Keep your faith in yourself and trust that things will work out in the end.\" The boy took her words to heart and never forgot them. From that moment on, he faced each obstacle with courage and determination, knowing that he had the strength and resilience to overcome anything. And as for the old woman, she continued to share her knowledge and wisdom with all those who crossed her path, spreading hope and inspiration wherever she went.'\u001b[0m\n",
      "2024-06-04 22:00:06 INFO gai.gen.ttt.ExLlama_TTT:\u001b[32mExLlama_TTT._generating: output= Once upon a time, in a small village nestled at the foot of a mountain, there lived an old woman who was known for her wisdom and kindness. She had spent her entire life studying the mysteries of nature and the secrets of the universe, and she believed that everything happened for a reason. One day, as she sat on her porch watching the sun set over the mountains, she noticed a young boy playing in the field across the street. He seemed lost and sad, so she decided to go talk to him. When she arrived, he told her about his family's troubles and how they were struggling to make ends meet. The old woman listened carefully and then offered him some words of advice. \"My dear child,\" she said, \"remember that every challenge you face is an opportunity to learn something new and grow stronger. Keep your faith in yourself and trust that things will work out in the end.\" The boy took her words to heart and never forgot them. From that moment on, he faced each obstacle with courage and determination, knowing that he had the strength and resilience to overcome anything. And as for the old woman, she continued to share her knowledge and wisdom with all those who crossed her path, spreading hope and inspiration wherever she went. chunk_type=text\u001b[0m\n"
     ]
    },
    {
     "name": "stdout",
     "output_type": "stream",
     "text": [
      " Once upon a time, in a small village nestled at the foot of a mountain, there lived an old woman who was known for her wisdom and kindness. She had spent her entire life studying the mysteries of nature and the secrets of the universe, and she believed that everything happened for a reason. One day, as she sat on her porch watching the sun set over the mountains, she noticed a young boy playing in the field across the street. He seemed lost and sad, so she decided to go talk to him. When she arrived, he told her about his family's troubles and how they were struggling to make ends meet. The old woman listened carefully and then offered him some words of advice. \"My dear child,\" she said, \"remember that every challenge you face is an opportunity to learn something new and grow stronger. Keep your faith in yourself and trust that things will work out in the end.\" The boy took her words to heart and never forgot them. From that moment on, he faced each obstacle with courage and determination, knowing that he had the strength and resilience to overcome anything. And as for the old woman, she continued to share her knowledge and wisdom with all those who crossed her path, spreading hope and inspiration wherever she went.\n"
     ]
    }
   ],
   "source": [
    "from gai.gen import Gaigen\n",
    "gen = Gaigen.GetInstance().load('mistral7b-exllama')\n",
    "\n",
    "response = gen.create(messages=[{'role':'USER','content':'Tell me a one paragraph short story.'},{'role':'ASSISTANT','content':''}],max_new_tokens=1000, stream=False)\n",
    "print(response.choices[0].message.content)"
   ]
  }
 ],
 "metadata": {
  "kernelspec": {
   "display_name": "TTT",
   "language": "python",
   "name": "python3"
  },
  "language_info": {
   "codemirror_mode": {
    "name": "ipython",
    "version": 3
   },
   "file_extension": ".py",
   "mimetype": "text/x-python",
   "name": "python",
   "nbconvert_exporter": "python",
   "pygments_lexer": "ipython3",
   "version": "3.10.10"
  }
 },
 "nbformat": 4,
 "nbformat_minor": 2
}
